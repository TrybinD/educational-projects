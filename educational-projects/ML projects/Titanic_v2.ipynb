{
  "nbformat": 4,
  "nbformat_minor": 0,
  "metadata": {
    "colab": {
      "name": "Titanic.ipynb",
      "provenance": [],
      "authorship_tag": "ABX9TyODwjldBCzjdGpHTeN7dXZ0",
      "include_colab_link": true
    },
    "kernelspec": {
      "name": "python3",
      "display_name": "Python 3"
    },
    "language_info": {
      "name": "python"
    },
    "widgets": {
      "application/vnd.jupyter.widget-state+json": {
        "b3c6f4fe36814192ac2f84e9fd1bd6f3": {
          "model_module": "catboost-widget",
          "model_name": "CatboostWidgetModel",
          "state": {
            "_view_name": "CatboostWidgetView",
            "_dom_classes": [],
            "_model_name": "CatboostWidgetModel",
            "data": {
              "catboost_info": {
                "content": {
                  "data": {
                    "meta": {
                      "name": "experiment",
                      "parameters": "",
                      "test_metrics": [],
                      "learn_sets": [
                        "learn"
                      ],
                      "launch_mode": "Train",
                      "learn_metrics": [
                        {
                          "best_value": "Min",
                          "name": "Logloss"
                        }
                      ],
                      "iteration_count": 1000,
                      "test_sets": []
                    },
                    "iterations": [
                      {
                        "passed_time": 0.05021134232,
                        "iteration": 0,
                        "remaining_time": 50.16113098,
                        "learn": [
                          0.6863790746
                        ]
                      },
                      {
                        "passed_time": 0.05183493319,
                        "iteration": 1,
                        "remaining_time": 25.86563166,
                        "learn": [
                          0.680292338
                        ]
                      },
                      {
                        "passed_time": 0.05293340023,
                        "iteration": 2,
                        "remaining_time": 17.59153334,
                        "learn": [
                          0.6756915343
                        ]
                      },
                      {
                        "passed_time": 0.05459739297,
                        "iteration": 3,
                        "remaining_time": 13.59475085,
                        "learn": [
                          0.6700869618
                        ]
                      },
                      {
                        "passed_time": 0.05606588733,
                        "iteration": 4,
                        "remaining_time": 11.15711158,
                        "learn": [
                          0.6646117201
                        ]
                      },
                      {
                        "passed_time": 0.05750721871,
                        "iteration": 5,
                        "remaining_time": 9.527029233,
                        "learn": [
                          0.6595590734
                        ]
                      },
                      {
                        "passed_time": 0.05888233612,
                        "iteration": 6,
                        "remaining_time": 8.352879967,
                        "learn": [
                          0.6529858638
                        ]
                      },
                      {
                        "passed_time": 0.06050250781,
                        "iteration": 7,
                        "remaining_time": 7.502310969,
                        "learn": [
                          0.6475023727
                        ]
                      },
                      {
                        "passed_time": 0.06212965917,
                        "iteration": 8,
                        "remaining_time": 6.841165804,
                        "learn": [
                          0.6413038102
                        ]
                      },
                      {
                        "passed_time": 0.06357751759,
                        "iteration": 9,
                        "remaining_time": 6.294174242,
                        "learn": [
                          0.6353855142
                        ]
                      },
                      {
                        "passed_time": 0.06501437369,
                        "iteration": 10,
                        "remaining_time": 5.845383235,
                        "learn": [
                          0.6308320466
                        ]
                      },
                      {
                        "passed_time": 0.0668748283,
                        "iteration": 11,
                        "remaining_time": 5.50602753,
                        "learn": [
                          0.6248939678
                        ]
                      },
                      {
                        "passed_time": 0.06866818371,
                        "iteration": 12,
                        "remaining_time": 5.213499794,
                        "learn": [
                          0.6201380252
                        ]
                      },
                      {
                        "passed_time": 0.07011378688,
                        "iteration": 13,
                        "remaining_time": 4.938013848,
                        "learn": [
                          0.614858393
                        ]
                      },
                      {
                        "passed_time": 0.07155945006,
                        "iteration": 14,
                        "remaining_time": 4.699070554,
                        "learn": [
                          0.6099076375
                        ]
                      },
                      {
                        "passed_time": 0.07297404324,
                        "iteration": 15,
                        "remaining_time": 4.487903659,
                        "learn": [
                          0.6055337195
                        ]
                      },
                      {
                        "passed_time": 0.07440351967,
                        "iteration": 16,
                        "remaining_time": 4.302274108,
                        "learn": [
                          0.600380701
                        ]
                      },
                      {
                        "passed_time": 0.07585412857,
                        "iteration": 17,
                        "remaining_time": 4.138264125,
                        "learn": [
                          0.5950992276
                        ]
                      },
                      {
                        "passed_time": 0.07688691034,
                        "iteration": 18,
                        "remaining_time": 3.969792581,
                        "learn": [
                          0.5911125592
                        ]
                      },
                      {
                        "passed_time": 0.08037788722,
                        "iteration": 19,
                        "remaining_time": 3.938516474,
                        "learn": [
                          0.5870404498
                        ]
                      },
                      {
                        "passed_time": 0.08262002801,
                        "iteration": 20,
                        "remaining_time": 3.85166702,
                        "learn": [
                          0.5828378448
                        ]
                      },
                      {
                        "passed_time": 0.08488094428,
                        "iteration": 21,
                        "remaining_time": 3.773343796,
                        "learn": [
                          0.5790206295
                        ]
                      },
                      {
                        "passed_time": 0.08703452949,
                        "iteration": 22,
                        "remaining_time": 3.697075448,
                        "learn": [
                          0.5749993876
                        ]
                      },
                      {
                        "passed_time": 0.08873479665,
                        "iteration": 23,
                        "remaining_time": 3.608548397,
                        "learn": [
                          0.570813015
                        ]
                      },
                      {
                        "passed_time": 0.08953317298,
                        "iteration": 24,
                        "remaining_time": 3.491793746,
                        "learn": [
                          0.5686169116
                        ]
                      },
                      {
                        "passed_time": 0.09108319674,
                        "iteration": 25,
                        "remaining_time": 3.412116678,
                        "learn": [
                          0.5648809305
                        ]
                      },
                      {
                        "passed_time": 0.09315872434,
                        "iteration": 26,
                        "remaining_time": 3.357164399,
                        "learn": [
                          0.5609393491
                        ]
                      },
                      {
                        "passed_time": 0.09467279369,
                        "iteration": 27,
                        "remaining_time": 3.28649841,
                        "learn": [
                          0.5575466168
                        ]
                      },
                      {
                        "passed_time": 0.09625208829,
                        "iteration": 28,
                        "remaining_time": 3.222785439,
                        "learn": [
                          0.5535726077
                        ]
                      },
                      {
                        "passed_time": 0.09767451593,
                        "iteration": 29,
                        "remaining_time": 3.158142682,
                        "learn": [
                          0.5496971023
                        ]
                      },
                      {
                        "passed_time": 0.09870647682,
                        "iteration": 30,
                        "remaining_time": 3.085373421,
                        "learn": [
                          0.5472244153
                        ]
                      },
                      {
                        "passed_time": 0.1001557118,
                        "iteration": 31,
                        "remaining_time": 3.029710282,
                        "learn": [
                          0.5435090602
                        ]
                      },
                      {
                        "passed_time": 0.1015701463,
                        "iteration": 32,
                        "remaining_time": 2.976313074,
                        "learn": [
                          0.5403248194
                        ]
                      },
                      {
                        "passed_time": 0.103017509,
                        "iteration": 33,
                        "remaining_time": 2.926909227,
                        "learn": [
                          0.5374121726
                        ]
                      },
                      {
                        "passed_time": 0.1044213812,
                        "iteration": 34,
                        "remaining_time": 2.879046653,
                        "learn": [
                          0.5342006176
                        ]
                      },
                      {
                        "passed_time": 0.1058240133,
                        "iteration": 35,
                        "remaining_time": 2.833731913,
                        "learn": [
                          0.5306108238
                        ]
                      },
                      {
                        "passed_time": 0.1077748579,
                        "iteration": 36,
                        "remaining_time": 2.805059139,
                        "learn": [
                          0.5277715763
                        ]
                      },
                      {
                        "passed_time": 0.1095930676,
                        "iteration": 37,
                        "remaining_time": 2.774435026,
                        "learn": [
                          0.5248138242
                        ]
                      },
                      {
                        "passed_time": 0.1110504948,
                        "iteration": 38,
                        "remaining_time": 2.73639809,
                        "learn": [
                          0.5225781432
                        ]
                      },
                      {
                        "passed_time": 0.1125092969,
                        "iteration": 39,
                        "remaining_time": 2.700223125,
                        "learn": [
                          0.5196569419
                        ]
                      },
                      {
                        "passed_time": 0.1139509722,
                        "iteration": 40,
                        "remaining_time": 2.665341032,
                        "learn": [
                          0.517111594
                        ]
                      },
                      {
                        "passed_time": 0.1153765846,
                        "iteration": 41,
                        "remaining_time": 2.631684954,
                        "learn": [
                          0.5143393651
                        ]
                      },
                      {
                        "passed_time": 0.1169391207,
                        "iteration": 42,
                        "remaining_time": 2.602575315,
                        "learn": [
                          0.5120909905
                        ]
                      },
                      {
                        "passed_time": 0.1184199122,
                        "iteration": 43,
                        "remaining_time": 2.572941729,
                        "learn": [
                          0.5097620526
                        ]
                      },
                      {
                        "passed_time": 0.1198572901,
                        "iteration": 44,
                        "remaining_time": 2.543638045,
                        "learn": [
                          0.5073230264
                        ]
                      },
                      {
                        "passed_time": 0.1215053182,
                        "iteration": 45,
                        "remaining_time": 2.519914644,
                        "learn": [
                          0.5044945269
                        ]
                      },
                      {
                        "passed_time": 0.1230255712,
                        "iteration": 46,
                        "remaining_time": 2.494539773,
                        "learn": [
                          0.5017140087
                        ]
                      },
                      {
                        "passed_time": 0.1251409567,
                        "iteration": 47,
                        "remaining_time": 2.481962308,
                        "learn": [
                          0.499614729
                        ]
                      },
                      {
                        "passed_time": 0.1265564442,
                        "iteration": 48,
                        "remaining_time": 2.456228132,
                        "learn": [
                          0.4972331711
                        ]
                      },
                      {
                        "passed_time": 0.1280575465,
                        "iteration": 49,
                        "remaining_time": 2.433093383,
                        "learn": [
                          0.4943514243
                        ]
                      },
                      {
                        "passed_time": 0.1294952752,
                        "iteration": 50,
                        "remaining_time": 2.409627767,
                        "learn": [
                          0.4922505601
                        ]
                      },
                      {
                        "passed_time": 0.1309177141,
                        "iteration": 51,
                        "remaining_time": 2.386730634,
                        "learn": [
                          0.4902515986
                        ]
                      },
                      {
                        "passed_time": 0.1323236341,
                        "iteration": 52,
                        "remaining_time": 2.364348708,
                        "learn": [
                          0.487922751
                        ]
                      },
                      {
                        "passed_time": 0.132916458,
                        "iteration": 53,
                        "remaining_time": 2.328499432,
                        "learn": [
                          0.4868793588
                        ]
                      },
                      {
                        "passed_time": 0.1342103508,
                        "iteration": 54,
                        "remaining_time": 2.305977846,
                        "learn": [
                          0.4844680427
                        ]
                      },
                      {
                        "passed_time": 0.1356326741,
                        "iteration": 55,
                        "remaining_time": 2.286379364,
                        "learn": [
                          0.4821883017
                        ]
                      },
                      {
                        "passed_time": 0.1370863687,
                        "iteration": 56,
                        "remaining_time": 2.267937644,
                        "learn": [
                          0.4801719703
                        ]
                      },
                      {
                        "passed_time": 0.1381902415,
                        "iteration": 57,
                        "remaining_time": 2.244400129,
                        "learn": [
                          0.4789831845
                        ]
                      },
                      {
                        "passed_time": 0.1396101047,
                        "iteration": 58,
                        "remaining_time": 2.226662857,
                        "learn": [
                          0.4771424118
                        ]
                      },
                      {
                        "passed_time": 0.1407127375,
                        "iteration": 59,
                        "remaining_time": 2.204499554,
                        "learn": [
                          0.4755841468
                        ]
                      },
                      {
                        "passed_time": 0.1422101131,
                        "iteration": 60,
                        "remaining_time": 2.189103217,
                        "learn": [
                          0.4734880829
                        ]
                      },
                      {
                        "passed_time": 0.1436427283,
                        "iteration": 61,
                        "remaining_time": 2.17317547,
                        "learn": [
                          0.4721855274
                        ]
                      },
                      {
                        "passed_time": 0.1450949581,
                        "iteration": 62,
                        "remaining_time": 2.157999615,
                        "learn": [
                          0.4700128153
                        ]
                      },
                      {
                        "passed_time": 0.1459441816,
                        "iteration": 63,
                        "remaining_time": 2.134433657,
                        "learn": [
                          0.468545036
                        ]
                      },
                      {
                        "passed_time": 0.1473098846,
                        "iteration": 64,
                        "remaining_time": 2.118996032,
                        "learn": [
                          0.4669010443
                        ]
                      },
                      {
                        "passed_time": 0.1487683758,
                        "iteration": 65,
                        "remaining_time": 2.105297924,
                        "learn": [
                          0.4653399448
                        ]
                      },
                      {
                        "passed_time": 0.150138847,
                        "iteration": 66,
                        "remaining_time": 2.090739467,
                        "learn": [
                          0.4635479558
                        ]
                      },
                      {
                        "passed_time": 0.1515433392,
                        "iteration": 67,
                        "remaining_time": 2.077035178,
                        "learn": [
                          0.4619205879
                        ]
                      },
                      {
                        "passed_time": 0.1529072973,
                        "iteration": 68,
                        "remaining_time": 2.06314049,
                        "learn": [
                          0.4598219316
                        ]
                      },
                      {
                        "passed_time": 0.1546685823,
                        "iteration": 69,
                        "remaining_time": 2.054882593,
                        "learn": [
                          0.458319432
                        ]
                      },
                      {
                        "passed_time": 0.1558986538,
                        "iteration": 70,
                        "remaining_time": 2.039857033,
                        "learn": [
                          0.4574225852
                        ]
                      },
                      {
                        "passed_time": 0.1589380926,
                        "iteration": 71,
                        "remaining_time": 2.048535416,
                        "learn": [
                          0.4559422431
                        ]
                      },
                      {
                        "passed_time": 0.160535274,
                        "iteration": 72,
                        "remaining_time": 2.038578068,
                        "learn": [
                          0.4546289801
                        ]
                      },
                      {
                        "passed_time": 0.1620407536,
                        "iteration": 73,
                        "remaining_time": 2.02769916,
                        "learn": [
                          0.4532866425
                        ]
                      },
                      {
                        "passed_time": 0.1636169569,
                        "iteration": 74,
                        "remaining_time": 2.017942468,
                        "learn": [
                          0.452485271
                        ]
                      },
                      {
                        "passed_time": 0.1650893822,
                        "iteration": 75,
                        "remaining_time": 2.007139331,
                        "learn": [
                          0.4513286703
                        ]
                      },
                      {
                        "passed_time": 0.1665319666,
                        "iteration": 76,
                        "remaining_time": 1.996220847,
                        "learn": [
                          0.450090112
                        ]
                      },
                      {
                        "passed_time": 0.1679706697,
                        "iteration": 77,
                        "remaining_time": 1.985499455,
                        "learn": [
                          0.4487804442
                        ]
                      },
                      {
                        "passed_time": 0.1693894716,
                        "iteration": 78,
                        "remaining_time": 1.974781055,
                        "learn": [
                          0.4475002633
                        ]
                      },
                      {
                        "passed_time": 0.1708623291,
                        "iteration": 79,
                        "remaining_time": 1.964916785,
                        "learn": [
                          0.4462117905
                        ]
                      },
                      {
                        "passed_time": 0.1725395851,
                        "iteration": 80,
                        "remaining_time": 1.957578749,
                        "learn": [
                          0.4447370932
                        ]
                      },
                      {
                        "passed_time": 0.1740350881,
                        "iteration": 81,
                        "remaining_time": 1.948344035,
                        "learn": [
                          0.4435486565
                        ]
                      },
                      {
                        "passed_time": 0.1754846987,
                        "iteration": 82,
                        "remaining_time": 1.93878878,
                        "learn": [
                          0.4421328332
                        ]
                      },
                      {
                        "passed_time": 0.1769406103,
                        "iteration": 83,
                        "remaining_time": 1.929495226,
                        "learn": [
                          0.4408245157
                        ]
                      },
                      {
                        "passed_time": 0.1783981058,
                        "iteration": 84,
                        "remaining_time": 1.920403139,
                        "learn": [
                          0.4395358054
                        ]
                      },
                      {
                        "passed_time": 0.1798460999,
                        "iteration": 85,
                        "remaining_time": 1.91138762,
                        "learn": [
                          0.438182164
                        ]
                      },
                      {
                        "passed_time": 0.1812681649,
                        "iteration": 86,
                        "remaining_time": 1.90227396,
                        "learn": [
                          0.4371693436
                        ]
                      },
                      {
                        "passed_time": 0.1826902251,
                        "iteration": 87,
                        "remaining_time": 1.89333506,
                        "learn": [
                          0.436161033
                        ]
                      },
                      {
                        "passed_time": 0.184099493,
                        "iteration": 88,
                        "remaining_time": 1.884434136,
                        "learn": [
                          0.435009453
                        ]
                      },
                      {
                        "passed_time": 0.1855364456,
                        "iteration": 89,
                        "remaining_time": 1.875979617,
                        "learn": [
                          0.4339815012
                        ]
                      },
                      {
                        "passed_time": 0.1870602064,
                        "iteration": 90,
                        "remaining_time": 1.868546458,
                        "learn": [
                          0.4329591841
                        ]
                      },
                      {
                        "passed_time": 0.1884804045,
                        "iteration": 91,
                        "remaining_time": 1.860219644,
                        "learn": [
                          0.4321145141
                        ]
                      },
                      {
                        "passed_time": 0.1902899227,
                        "iteration": 92,
                        "remaining_time": 1.855838278,
                        "learn": [
                          0.4309116393
                        ]
                      },
                      {
                        "passed_time": 0.1917284253,
                        "iteration": 93,
                        "remaining_time": 1.847935674,
                        "learn": [
                          0.4299350614
                        ]
                      },
                      {
                        "passed_time": 0.1932254188,
                        "iteration": 94,
                        "remaining_time": 1.840726358,
                        "learn": [
                          0.4290862737
                        ]
                      },
                      {
                        "passed_time": 0.1942856875,
                        "iteration": 95,
                        "remaining_time": 1.829523557,
                        "learn": [
                          0.4282593685
                        ]
                      },
                      {
                        "passed_time": 0.195741403,
                        "iteration": 96,
                        "remaining_time": 1.822211205,
                        "learn": [
                          0.4274481316
                        ]
                      },
                      {
                        "passed_time": 0.1963461588,
                        "iteration": 97,
                        "remaining_time": 1.807186074,
                        "learn": [
                          0.4270565237
                        ]
                      },
                      {
                        "passed_time": 0.1977075582,
                        "iteration": 98,
                        "remaining_time": 1.799338484,
                        "learn": [
                          0.4259721413
                        ]
                      },
                      {
                        "passed_time": 0.199328119,
                        "iteration": 99,
                        "remaining_time": 1.793953071,
                        "learn": [
                          0.4251211776
                        ]
                      },
                      {
                        "passed_time": 0.2007485231,
                        "iteration": 100,
                        "remaining_time": 1.786860617,
                        "learn": [
                          0.4240284273
                        ]
                      },
                      {
                        "passed_time": 0.2022222124,
                        "iteration": 101,
                        "remaining_time": 1.780348497,
                        "learn": [
                          0.4232942916
                        ]
                      },
                      {
                        "passed_time": 0.2036599841,
                        "iteration": 102,
                        "remaining_time": 1.773621415,
                        "learn": [
                          0.4223092215
                        ]
                      },
                      {
                        "passed_time": 0.2051079334,
                        "iteration": 103,
                        "remaining_time": 1.767083734,
                        "learn": [
                          0.4213905141
                        ]
                      },
                      {
                        "passed_time": 0.2065293784,
                        "iteration": 104,
                        "remaining_time": 1.760417083,
                        "learn": [
                          0.4202151115
                        ]
                      },
                      {
                        "passed_time": 0.2079393363,
                        "iteration": 105,
                        "remaining_time": 1.753752516,
                        "learn": [
                          0.4196731821
                        ]
                      },
                      {
                        "passed_time": 0.2093591465,
                        "iteration": 106,
                        "remaining_time": 1.747268391,
                        "learn": [
                          0.4187047425
                        ]
                      },
                      {
                        "passed_time": 0.2107457702,
                        "iteration": 107,
                        "remaining_time": 1.740603954,
                        "learn": [
                          0.4178015806
                        ]
                      },
                      {
                        "passed_time": 0.2121670369,
                        "iteration": 108,
                        "remaining_time": 1.734319541,
                        "learn": [
                          0.4168549115
                        ]
                      },
                      {
                        "passed_time": 0.21360041,
                        "iteration": 109,
                        "remaining_time": 1.728221499,
                        "learn": [
                          0.4159900875
                        ]
                      },
                      {
                        "passed_time": 0.2142535877,
                        "iteration": 110,
                        "remaining_time": 1.715958914,
                        "learn": [
                          0.4157097948
                        ]
                      },
                      {
                        "passed_time": 0.2156090971,
                        "iteration": 111,
                        "remaining_time": 1.709472127,
                        "learn": [
                          0.4152711793
                        ]
                      },
                      {
                        "passed_time": 0.2170212398,
                        "iteration": 112,
                        "remaining_time": 1.703520705,
                        "learn": [
                          0.414367354
                        ]
                      },
                      {
                        "passed_time": 0.2184629072,
                        "iteration": 113,
                        "remaining_time": 1.697878384,
                        "learn": [
                          0.4134501547
                        ]
                      },
                      {
                        "passed_time": 0.2198784317,
                        "iteration": 114,
                        "remaining_time": 1.692107931,
                        "learn": [
                          0.4127976593
                        ]
                      },
                      {
                        "passed_time": 0.22131194,
                        "iteration": 115,
                        "remaining_time": 1.686549611,
                        "learn": [
                          0.4121456618
                        ]
                      },
                      {
                        "passed_time": 0.2227022802,
                        "iteration": 116,
                        "remaining_time": 1.680736012,
                        "learn": [
                          0.4115759632
                        ]
                      },
                      {
                        "passed_time": 0.2241490921,
                        "iteration": 117,
                        "remaining_time": 1.675419485,
                        "learn": [
                          0.410934184
                        ]
                      },
                      {
                        "passed_time": 0.2255938183,
                        "iteration": 118,
                        "remaining_time": 1.670152554,
                        "learn": [
                          0.4100703703
                        ]
                      },
                      {
                        "passed_time": 0.2270601291,
                        "iteration": 119,
                        "remaining_time": 1.665107614,
                        "learn": [
                          0.409230423
                        ]
                      },
                      {
                        "passed_time": 0.2277624759,
                        "iteration": 120,
                        "remaining_time": 1.654572036,
                        "learn": [
                          0.4089540218
                        ]
                      },
                      {
                        "passed_time": 0.2290989149,
                        "iteration": 121,
                        "remaining_time": 1.648761043,
                        "learn": [
                          0.4081493868
                        ]
                      },
                      {
                        "passed_time": 0.230534644,
                        "iteration": 122,
                        "remaining_time": 1.643730755,
                        "learn": [
                          0.4074444306
                        ]
                      },
                      {
                        "passed_time": 0.2319613926,
                        "iteration": 123,
                        "remaining_time": 1.638694999,
                        "learn": [
                          0.4066888204
                        ]
                      },
                      {
                        "passed_time": 0.2334047618,
                        "iteration": 124,
                        "remaining_time": 1.633833333,
                        "learn": [
                          0.4061085109
                        ]
                      },
                      {
                        "passed_time": 0.2348564273,
                        "iteration": 125,
                        "remaining_time": 1.629083472,
                        "learn": [
                          0.4052094871
                        ]
                      },
                      {
                        "passed_time": 0.2362735218,
                        "iteration": 126,
                        "remaining_time": 1.62414791,
                        "learn": [
                          0.4044623108
                        ]
                      },
                      {
                        "passed_time": 0.2377000225,
                        "iteration": 127,
                        "remaining_time": 1.619331404,
                        "learn": [
                          0.4041491242
                        ]
                      },
                      {
                        "passed_time": 0.2391455709,
                        "iteration": 128,
                        "remaining_time": 1.614696064,
                        "learn": [
                          0.4034442273
                        ]
                      },
                      {
                        "passed_time": 0.2405868045,
                        "iteration": 129,
                        "remaining_time": 1.610080922,
                        "learn": [
                          0.4028444904
                        ]
                      },
                      {
                        "passed_time": 0.242002972,
                        "iteration": 130,
                        "remaining_time": 1.605347959,
                        "learn": [
                          0.4024179976
                        ]
                      },
                      {
                        "passed_time": 0.2434203744,
                        "iteration": 131,
                        "remaining_time": 1.600673371,
                        "learn": [
                          0.4016197653
                        ]
                      },
                      {
                        "passed_time": 0.2448339688,
                        "iteration": 132,
                        "remaining_time": 1.59602294,
                        "learn": [
                          0.4010423739
                        ]
                      },
                      {
                        "passed_time": 0.246240071,
                        "iteration": 133,
                        "remaining_time": 1.591372399,
                        "learn": [
                          0.4001617415
                        ]
                      },
                      {
                        "passed_time": 0.2476708475,
                        "iteration": 134,
                        "remaining_time": 1.586928023,
                        "learn": [
                          0.3994701667
                        ]
                      },
                      {
                        "passed_time": 0.2490993317,
                        "iteration": 135,
                        "remaining_time": 1.582513402,
                        "learn": [
                          0.3987872942
                        ]
                      },
                      {
                        "passed_time": 0.2505143171,
                        "iteration": 136,
                        "remaining_time": 1.57805734,
                        "learn": [
                          0.3982793731
                        ]
                      },
                      {
                        "passed_time": 0.2521293552,
                        "iteration": 137,
                        "remaining_time": 1.574894958,
                        "learn": [
                          0.3975360346
                        ]
                      },
                      {
                        "passed_time": 0.2535790472,
                        "iteration": 138,
                        "remaining_time": 1.570730645,
                        "learn": [
                          0.3970372036
                        ]
                      },
                      {
                        "passed_time": 0.2551786864,
                        "iteration": 139,
                        "remaining_time": 1.567526216,
                        "learn": [
                          0.3965364097
                        ]
                      },
                      {
                        "passed_time": 0.2566159725,
                        "iteration": 140,
                        "remaining_time": 1.563355464,
                        "learn": [
                          0.395826421
                        ]
                      },
                      {
                        "passed_time": 0.2580492825,
                        "iteration": 141,
                        "remaining_time": 1.559199186,
                        "learn": [
                          0.3953833069
                        ]
                      },
                      {
                        "passed_time": 0.2594747558,
                        "iteration": 142,
                        "remaining_time": 1.555034026,
                        "learn": [
                          0.394903017
                        ]
                      },
                      {
                        "passed_time": 0.2608807036,
                        "iteration": 143,
                        "remaining_time": 1.550790849,
                        "learn": [
                          0.3943256168
                        ]
                      },
                      {
                        "passed_time": 0.2623291647,
                        "iteration": 144,
                        "remaining_time": 1.546837488,
                        "learn": [
                          0.3937729933
                        ]
                      },
                      {
                        "passed_time": 0.263735096,
                        "iteration": 145,
                        "remaining_time": 1.542669671,
                        "learn": [
                          0.393287899
                        ]
                      },
                      {
                        "passed_time": 0.2652609425,
                        "iteration": 146,
                        "remaining_time": 1.539235265,
                        "learn": [
                          0.3927761648
                        ]
                      },
                      {
                        "passed_time": 0.266691745,
                        "iteration": 147,
                        "remaining_time": 1.535279505,
                        "learn": [
                          0.3922883613
                        ]
                      },
                      {
                        "passed_time": 0.2681441826,
                        "iteration": 148,
                        "remaining_time": 1.531481204,
                        "learn": [
                          0.3918948727
                        ]
                      },
                      {
                        "passed_time": 0.2695615741,
                        "iteration": 149,
                        "remaining_time": 1.527515586,
                        "learn": [
                          0.3914426115
                        ]
                      },
                      {
                        "passed_time": 0.270997695,
                        "iteration": 150,
                        "remaining_time": 1.523689027,
                        "learn": [
                          0.3908289586
                        ]
                      },
                      {
                        "passed_time": 0.2724159269,
                        "iteration": 151,
                        "remaining_time": 1.519794118,
                        "learn": [
                          0.390476367
                        ]
                      },
                      {
                        "passed_time": 0.2738623392,
                        "iteration": 152,
                        "remaining_time": 1.51608759,
                        "learn": [
                          0.3900826861
                        ]
                      },
                      {
                        "passed_time": 0.2753721676,
                        "iteration": 153,
                        "remaining_time": 1.512758791,
                        "learn": [
                          0.3894064947
                        ]
                      },
                      {
                        "passed_time": 0.2767898091,
                        "iteration": 154,
                        "remaining_time": 1.508950895,
                        "learn": [
                          0.3890100751
                        ]
                      },
                      {
                        "passed_time": 0.2782032718,
                        "iteration": 155,
                        "remaining_time": 1.505151035,
                        "learn": [
                          0.3886227237
                        ]
                      },
                      {
                        "passed_time": 0.2796533177,
                        "iteration": 156,
                        "remaining_time": 1.501578005,
                        "learn": [
                          0.3883464398
                        ]
                      },
                      {
                        "passed_time": 0.2810624347,
                        "iteration": 157,
                        "remaining_time": 1.497813734,
                        "learn": [
                          0.3878725799
                        ]
                      },
                      {
                        "passed_time": 0.2824829706,
                        "iteration": 158,
                        "remaining_time": 1.494139486,
                        "learn": [
                          0.3875251747
                        ]
                      },
                      {
                        "passed_time": 0.2838788026,
                        "iteration": 159,
                        "remaining_time": 1.490363714,
                        "learn": [
                          0.3872151731
                        ]
                      },
                      {
                        "passed_time": 0.2852950941,
                        "iteration": 160,
                        "remaining_time": 1.486724124,
                        "learn": [
                          0.3869422674
                        ]
                      },
                      {
                        "passed_time": 0.2863629172,
                        "iteration": 161,
                        "remaining_time": 1.481309411,
                        "learn": [
                          0.3866506533
                        ]
                      },
                      {
                        "passed_time": 0.2897403482,
                        "iteration": 162,
                        "remaining_time": 1.4878078,
                        "learn": [
                          0.3864087281
                        ]
                      },
                      {
                        "passed_time": 0.2920126989,
                        "iteration": 163,
                        "remaining_time": 1.488552538,
                        "learn": [
                          0.3861071861
                        ]
                      },
                      {
                        "passed_time": 0.2943120566,
                        "iteration": 164,
                        "remaining_time": 1.489397377,
                        "learn": [
                          0.3857079985
                        ]
                      },
                      {
                        "passed_time": 0.2967119752,
                        "iteration": 165,
                        "remaining_time": 1.490709562,
                        "learn": [
                          0.3852391858
                        ]
                      },
                      {
                        "passed_time": 0.2982143214,
                        "iteration": 166,
                        "remaining_time": 1.487500178,
                        "learn": [
                          0.3850193193
                        ]
                      },
                      {
                        "passed_time": 0.2996696282,
                        "iteration": 167,
                        "remaining_time": 1.484078159,
                        "learn": [
                          0.38477708
                        ]
                      },
                      {
                        "passed_time": 0.3011007738,
                        "iteration": 168,
                        "remaining_time": 1.480560609,
                        "learn": [
                          0.3842687058
                        ]
                      },
                      {
                        "passed_time": 0.302560435,
                        "iteration": 169,
                        "remaining_time": 1.477206829,
                        "learn": [
                          0.3839901949
                        ]
                      },
                      {
                        "passed_time": 0.3039875566,
                        "iteration": 170,
                        "remaining_time": 1.473717453,
                        "learn": [
                          0.383542841
                        ]
                      },
                      {
                        "passed_time": 0.3054355267,
                        "iteration": 171,
                        "remaining_time": 1.470352419,
                        "learn": [
                          0.3832798091
                        ]
                      },
                      {
                        "passed_time": 0.306842192,
                        "iteration": 172,
                        "remaining_time": 1.466812097,
                        "learn": [
                          0.3830382462
                        ]
                      },
                      {
                        "passed_time": 0.3082792707,
                        "iteration": 173,
                        "remaining_time": 1.463440676,
                        "learn": [
                          0.3825900781
                        ]
                      },
                      {
                        "passed_time": 0.3097099502,
                        "iteration": 174,
                        "remaining_time": 1.460061194,
                        "learn": [
                          0.3822186992
                        ]
                      },
                      {
                        "passed_time": 0.3111405544,
                        "iteration": 175,
                        "remaining_time": 1.456703505,
                        "learn": [
                          0.3817593897
                        ]
                      },
                      {
                        "passed_time": 0.3125714487,
                        "iteration": 176,
                        "remaining_time": 1.45336894,
                        "learn": [
                          0.3813054402
                        ]
                      },
                      {
                        "passed_time": 0.3132548069,
                        "iteration": 177,
                        "remaining_time": 1.446603659,
                        "learn": [
                          0.3812089324
                        ]
                      },
                      {
                        "passed_time": 0.3145522976,
                        "iteration": 178,
                        "remaining_time": 1.442723108,
                        "learn": [
                          0.3809427639
                        ]
                      },
                      {
                        "passed_time": 0.3159932499,
                        "iteration": 179,
                        "remaining_time": 1.439524805,
                        "learn": [
                          0.3805322654
                        ]
                      },
                      {
                        "passed_time": 0.3174471166,
                        "iteration": 180,
                        "remaining_time": 1.436404356,
                        "learn": [
                          0.3800759676
                        ]
                      },
                      {
                        "passed_time": 0.3188498579,
                        "iteration": 181,
                        "remaining_time": 1.433072438,
                        "learn": [
                          0.3796976627
                        ]
                      },
                      {
                        "passed_time": 0.3203286776,
                        "iteration": 182,
                        "remaining_time": 1.430101255,
                        "learn": [
                          0.3793166042
                        ]
                      },
                      {
                        "passed_time": 0.3217645094,
                        "iteration": 183,
                        "remaining_time": 1.42695565,
                        "learn": [
                          0.3789589366
                        ]
                      },
                      {
                        "passed_time": 0.3232110078,
                        "iteration": 184,
                        "remaining_time": 1.423875521,
                        "learn": [
                          0.3786945378
                        ]
                      },
                      {
                        "passed_time": 0.3248195354,
                        "iteration": 185,
                        "remaining_time": 1.421522053,
                        "learn": [
                          0.3785050341
                        ]
                      },
                      {
                        "passed_time": 0.3262503127,
                        "iteration": 186,
                        "remaining_time": 1.418403766,
                        "learn": [
                          0.3782470687
                        ]
                      },
                      {
                        "passed_time": 0.3277214523,
                        "iteration": 187,
                        "remaining_time": 1.415477762,
                        "learn": [
                          0.3779812499
                        ]
                      },
                      {
                        "passed_time": 0.3287637942,
                        "iteration": 188,
                        "remaining_time": 1.410727181,
                        "learn": [
                          0.3777476407
                        ]
                      },
                      {
                        "passed_time": 0.330173683,
                        "iteration": 189,
                        "remaining_time": 1.407582543,
                        "learn": [
                          0.3773956909
                        ]
                      },
                      {
                        "passed_time": 0.3312365595,
                        "iteration": 190,
                        "remaining_time": 1.402986265,
                        "learn": [
                          0.3772178643
                        ]
                      },
                      {
                        "passed_time": 0.3326712112,
                        "iteration": 191,
                        "remaining_time": 1.399991347,
                        "learn": [
                          0.3768731166
                        ]
                      },
                      {
                        "passed_time": 0.334105193,
                        "iteration": 192,
                        "remaining_time": 1.397009796,
                        "learn": [
                          0.3765721205
                        ]
                      },
                      {
                        "passed_time": 0.3355738125,
                        "iteration": 193,
                        "remaining_time": 1.394188108,
                        "learn": [
                          0.3762415629
                        ]
                      },
                      {
                        "passed_time": 0.3369636049,
                        "iteration": 194,
                        "remaining_time": 1.391054882,
                        "learn": [
                          0.3758550383
                        ]
                      },
                      {
                        "passed_time": 0.3384094812,
                        "iteration": 195,
                        "remaining_time": 1.388169504,
                        "learn": [
                          0.3755665443
                        ]
                      },
                      {
                        "passed_time": 0.3398518639,
                        "iteration": 196,
                        "remaining_time": 1.385284501,
                        "learn": [
                          0.3751399452
                        ]
                      },
                      {
                        "passed_time": 0.3412892195,
                        "iteration": 197,
                        "remaining_time": 1.382393707,
                        "learn": [
                          0.3748894597
                        ]
                      },
                      {
                        "passed_time": 0.3427430559,
                        "iteration": 198,
                        "remaining_time": 1.379583858,
                        "learn": [
                          0.374485422
                        ]
                      },
                      {
                        "passed_time": 0.3441425984,
                        "iteration": 199,
                        "remaining_time": 1.376570394,
                        "learn": [
                          0.3742789213
                        ]
                      },
                      {
                        "passed_time": 0.3455305138,
                        "iteration": 200,
                        "remaining_time": 1.373526769,
                        "learn": [
                          0.373951815
                        ]
                      },
                      {
                        "passed_time": 0.3469466022,
                        "iteration": 201,
                        "remaining_time": 1.370610835,
                        "learn": [
                          0.3734478326
                        ]
                      },
                      {
                        "passed_time": 0.3484587116,
                        "iteration": 202,
                        "remaining_time": 1.368086666,
                        "learn": [
                          0.3731139765
                        ]
                      },
                      {
                        "passed_time": 0.3498797018,
                        "iteration": 203,
                        "remaining_time": 1.365216876,
                        "learn": [
                          0.3728864153
                        ]
                      },
                      {
                        "passed_time": 0.3512716259,
                        "iteration": 204,
                        "remaining_time": 1.362248501,
                        "learn": [
                          0.3726107903
                        ]
                      },
                      {
                        "passed_time": 0.3527233336,
                        "iteration": 205,
                        "remaining_time": 1.359525858,
                        "learn": [
                          0.3724367451
                        ]
                      },
                      {
                        "passed_time": 0.3541800412,
                        "iteration": 206,
                        "remaining_time": 1.356834651,
                        "learn": [
                          0.3721581223
                        ]
                      },
                      {
                        "passed_time": 0.3555998923,
                        "iteration": 207,
                        "remaining_time": 1.354014975,
                        "learn": [
                          0.3719434764
                        ]
                      },
                      {
                        "passed_time": 0.3569774215,
                        "iteration": 208,
                        "remaining_time": 1.351048519,
                        "learn": [
                          0.3716683697
                        ]
                      },
                      {
                        "passed_time": 0.3584242786,
                        "iteration": 209,
                        "remaining_time": 1.348358,
                        "learn": [
                          0.3714118222
                        ]
                      },
                      {
                        "passed_time": 0.359870557,
                        "iteration": 210,
                        "remaining_time": 1.345677107,
                        "learn": [
                          0.3710268099
                        ]
                      },
                      {
                        "passed_time": 0.3613350578,
                        "iteration": 211,
                        "remaining_time": 1.343075592,
                        "learn": [
                          0.3708463957
                        ]
                      },
                      {
                        "passed_time": 0.3627336943,
                        "iteration": 212,
                        "remaining_time": 1.340241396,
                        "learn": [
                          0.3705764255
                        ]
                      },
                      {
                        "passed_time": 0.3641630659,
                        "iteration": 213,
                        "remaining_time": 1.337533504,
                        "learn": [
                          0.370468547
                        ]
                      },
                      {
                        "passed_time": 0.3655519383,
                        "iteration": 214,
                        "remaining_time": 1.334689635,
                        "learn": [
                          0.3701241621
                        ]
                      },
                      {
                        "passed_time": 0.3669589792,
                        "iteration": 215,
                        "remaining_time": 1.331925184,
                        "learn": [
                          0.3697449865
                        ]
                      },
                      {
                        "passed_time": 0.368369148,
                        "iteration": 216,
                        "remaining_time": 1.329184529,
                        "learn": [
                          0.3695348055
                        ]
                      },
                      {
                        "passed_time": 0.3697772367,
                        "iteration": 217,
                        "remaining_time": 1.32644862,
                        "learn": [
                          0.3693346602
                        ]
                      },
                      {
                        "passed_time": 0.3711912942,
                        "iteration": 218,
                        "remaining_time": 1.323746122,
                        "learn": [
                          0.3689685019
                        ]
                      },
                      {
                        "passed_time": 0.3726277912,
                        "iteration": 219,
                        "remaining_time": 1.321134896,
                        "learn": [
                          0.3687015418
                        ]
                      },
                      {
                        "passed_time": 0.3740026534,
                        "iteration": 220,
                        "remaining_time": 1.318317045,
                        "learn": [
                          0.3683346923
                        ]
                      },
                      {
                        "passed_time": 0.3754257623,
                        "iteration": 221,
                        "remaining_time": 1.315681275,
                        "learn": [
                          0.3678518111
                        ]
                      },
                      {
                        "passed_time": 0.3760131605,
                        "iteration": 222,
                        "remaining_time": 1.31014451,
                        "learn": [
                          0.3678228571
                        ]
                      },
                      {
                        "passed_time": 0.3773538874,
                        "iteration": 223,
                        "remaining_time": 1.307261681,
                        "learn": [
                          0.367516503
                        ]
                      },
                      {
                        "passed_time": 0.3789177762,
                        "iteration": 224,
                        "remaining_time": 1.305161229,
                        "learn": [
                          0.3672253551
                        ]
                      },
                      {
                        "passed_time": 0.3803160257,
                        "iteration": 225,
                        "remaining_time": 1.302498247,
                        "learn": [
                          0.3670866657
                        ]
                      },
                      {
                        "passed_time": 0.3817242357,
                        "iteration": 226,
                        "remaining_time": 1.299880327,
                        "learn": [
                          0.3669348008
                        ]
                      },
                      {
                        "passed_time": 0.3831663245,
                        "iteration": 227,
                        "remaining_time": 1.29738773,
                        "learn": [
                          0.3667014206
                        ]
                      },
                      {
                        "passed_time": 0.3846196182,
                        "iteration": 228,
                        "remaining_time": 1.294942033,
                        "learn": [
                          0.3664208255
                        ]
                      },
                      {
                        "passed_time": 0.3860969731,
                        "iteration": 229,
                        "remaining_time": 1.292585519,
                        "learn": [
                          0.3661086342
                        ]
                      },
                      {
                        "passed_time": 0.3869381183,
                        "iteration": 230,
                        "remaining_time": 1.288118671,
                        "learn": [
                          0.3660583444
                        ]
                      },
                      {
                        "passed_time": 0.3882693316,
                        "iteration": 231,
                        "remaining_time": 1.285305374,
                        "learn": [
                          0.3658856814
                        ]
                      },
                      {
                        "passed_time": 0.3897227423,
                        "iteration": 232,
                        "remaining_time": 1.282907053,
                        "learn": [
                          0.3657126126
                        ]
                      },
                      {
                        "passed_time": 0.3911404264,
                        "iteration": 233,
                        "remaining_time": 1.280399857,
                        "learn": [
                          0.3655107619
                        ]
                      },
                      {
                        "passed_time": 0.3925657754,
                        "iteration": 234,
                        "remaining_time": 1.277926886,
                        "learn": [
                          0.3652815699
                        ]
                      },
                      {
                        "passed_time": 0.3939915587,
                        "iteration": 235,
                        "remaining_time": 1.275464199,
                        "learn": [
                          0.3650704325
                        ]
                      },
                      {
                        "passed_time": 0.3954018257,
                        "iteration": 236,
                        "remaining_time": 1.272960308,
                        "learn": [
                          0.3649196009
                        ]
                      },
                      {
                        "passed_time": 0.3968166789,
                        "iteration": 237,
                        "remaining_time": 1.270480291,
                        "learn": [
                          0.3647352623
                        ]
                      },
                      {
                        "passed_time": 0.3982896073,
                        "iteration": 238,
                        "remaining_time": 1.268194105,
                        "learn": [
                          0.3644805034
                        ]
                      },
                      {
                        "passed_time": 0.3997614395,
                        "iteration": 239,
                        "remaining_time": 1.265911225,
                        "learn": [
                          0.3643442676
                        ]
                      },
                      {
                        "passed_time": 0.4011989517,
                        "iteration": 240,
                        "remaining_time": 1.263526989,
                        "learn": [
                          0.3640816917
                        ]
                      },
                      {
                        "passed_time": 0.4026125823,
                        "iteration": 241,
                        "remaining_time": 1.261075774,
                        "learn": [
                          0.3638940009
                        ]
                      },
                      {
                        "passed_time": 0.4040354399,
                        "iteration": 242,
                        "remaining_time": 1.258661844,
                        "learn": [
                          0.3636709252
                        ]
                      },
                      {
                        "passed_time": 0.4054275636,
                        "iteration": 243,
                        "remaining_time": 1.256160812,
                        "learn": [
                          0.3633224187
                        ]
                      },
                      {
                        "passed_time": 0.4068476817,
                        "iteration": 244,
                        "remaining_time": 1.253755101,
                        "learn": [
                          0.3630748956
                        ]
                      },
                      {
                        "passed_time": 0.4082878274,
                        "iteration": 245,
                        "remaining_time": 1.251418788,
                        "learn": [
                          0.3628788333
                        ]
                      },
                      {
                        "passed_time": 0.4097084063,
                        "iteration": 246,
                        "remaining_time": 1.249030081,
                        "learn": [
                          0.3626549901
                        ]
                      },
                      {
                        "passed_time": 0.4111314261,
                        "iteration": 247,
                        "remaining_time": 1.246656582,
                        "learn": [
                          0.3624109806
                        ]
                      },
                      {
                        "passed_time": 0.4125383201,
                        "iteration": 248,
                        "remaining_time": 1.244242082,
                        "learn": [
                          0.3622578029
                        ]
                      },
                      {
                        "passed_time": 0.4139488197,
                        "iteration": 249,
                        "remaining_time": 1.241846459,
                        "learn": [
                          0.3619099653
                        ]
                      },
                      {
                        "passed_time": 0.4154989682,
                        "iteration": 250,
                        "remaining_time": 1.239875407,
                        "learn": [
                          0.3616890026
                        ]
                      },
                      {
                        "passed_time": 0.417118773,
                        "iteration": 251,
                        "remaining_time": 1.238114453,
                        "learn": [
                          0.3615334263
                        ]
                      },
                      {
                        "passed_time": 0.4185629153,
                        "iteration": 252,
                        "remaining_time": 1.235835959,
                        "learn": [
                          0.3611311894
                        ]
                      },
                      {
                        "passed_time": 0.420045939,
                        "iteration": 253,
                        "remaining_time": 1.23367823,
                        "learn": [
                          0.3609059085
                        ]
                      },
                      {
                        "passed_time": 0.4214513381,
                        "iteration": 254,
                        "remaining_time": 1.231299007,
                        "learn": [
                          0.3607352084
                        ]
                      },
                      {
                        "passed_time": 0.4228779345,
                        "iteration": 255,
                        "remaining_time": 1.228988997,
                        "learn": [
                          0.3603138161
                        ]
                      },
                      {
                        "passed_time": 0.4243245577,
                        "iteration": 256,
                        "remaining_time": 1.22674376,
                        "learn": [
                          0.3600139736
                        ]
                      },
                      {
                        "passed_time": 0.4257971438,
                        "iteration": 257,
                        "remaining_time": 1.224579383,
                        "learn": [
                          0.3597252754
                        ]
                      },
                      {
                        "passed_time": 0.427356579,
                        "iteration": 258,
                        "remaining_time": 1.222668823,
                        "learn": [
                          0.3593939739
                        ]
                      },
                      {
                        "passed_time": 0.4289244943,
                        "iteration": 259,
                        "remaining_time": 1.220785099,
                        "learn": [
                          0.3592387472
                        ]
                      },
                      {
                        "passed_time": 0.4303817451,
                        "iteration": 260,
                        "remaining_time": 1.218590458,
                        "learn": [
                          0.3590286195
                        ]
                      },
                      {
                        "passed_time": 0.431831237,
                        "iteration": 261,
                        "remaining_time": 1.216379591,
                        "learn": [
                          0.3587273361
                        ]
                      },
                      {
                        "passed_time": 0.4332334883,
                        "iteration": 262,
                        "remaining_time": 1.214042133,
                        "learn": [
                          0.358582219
                        ]
                      },
                      {
                        "passed_time": 0.4347403071,
                        "iteration": 263,
                        "remaining_time": 1.21200328,
                        "learn": [
                          0.3583936063
                        ]
                      },
                      {
                        "passed_time": 0.4361852585,
                        "iteration": 264,
                        "remaining_time": 1.209796849,
                        "learn": [
                          0.3581057407
                        ]
                      },
                      {
                        "passed_time": 0.4370111587,
                        "iteration": 265,
                        "remaining_time": 1.205887934,
                        "learn": [
                          0.3580536747
                        ]
                      },
                      {
                        "passed_time": 0.4383778608,
                        "iteration": 266,
                        "remaining_time": 1.203486786,
                        "learn": [
                          0.3578467177
                        ]
                      },
                      {
                        "passed_time": 0.4397822029,
                        "iteration": 267,
                        "remaining_time": 1.201196166,
                        "learn": [
                          0.357682046
                        ]
                      },
                      {
                        "passed_time": 0.4412200004,
                        "iteration": 268,
                        "remaining_time": 1.199003049,
                        "learn": [
                          0.3573225945
                        ]
                      },
                      {
                        "passed_time": 0.4426801894,
                        "iteration": 269,
                        "remaining_time": 1.196876068,
                        "learn": [
                          0.3569172747
                        ]
                      },
                      {
                        "passed_time": 0.4441214538,
                        "iteration": 270,
                        "remaining_time": 1.194703099,
                        "learn": [
                          0.3566529766
                        ]
                      },
                      {
                        "passed_time": 0.4456296648,
                        "iteration": 271,
                        "remaining_time": 1.192714691,
                        "learn": [
                          0.3564576012
                        ]
                      },
                      {
                        "passed_time": 0.4470350957,
                        "iteration": 272,
                        "remaining_time": 1.190456097,
                        "learn": [
                          0.356158821
                        ]
                      },
                      {
                        "passed_time": 0.4484691496,
                        "iteration": 273,
                        "remaining_time": 1.188279572,
                        "learn": [
                          0.3559459228
                        ]
                      },
                      {
                        "passed_time": 0.4499517959,
                        "iteration": 274,
                        "remaining_time": 1.186236553,
                        "learn": [
                          0.3557897647
                        ]
                      },
                      {
                        "passed_time": 0.4513863219,
                        "iteration": 275,
                        "remaining_time": 1.184071366,
                        "learn": [
                          0.3555807727
                        ]
                      },
                      {
                        "passed_time": 0.4528286007,
                        "iteration": 276,
                        "remaining_time": 1.181931691,
                        "learn": [
                          0.3552371544
                        ]
                      },
                      {
                        "passed_time": 0.4542349407,
                        "iteration": 277,
                        "remaining_time": 1.179703695,
                        "learn": [
                          0.3549751312
                        ]
                      },
                      {
                        "passed_time": 0.4556691185,
                        "iteration": 278,
                        "remaining_time": 1.177553529,
                        "learn": [
                          0.3547236908
                        ]
                      },
                      {
                        "passed_time": 0.4564639918,
                        "iteration": 279,
                        "remaining_time": 1.17376455,
                        "learn": [
                          0.3546875712
                        ]
                      },
                      {
                        "passed_time": 0.4578808002,
                        "iteration": 280,
                        "remaining_time": 1.17158824,
                        "learn": [
                          0.3545937165
                        ]
                      },
                      {
                        "passed_time": 0.4593006691,
                        "iteration": 281,
                        "remaining_time": 1.169425108,
                        "learn": [
                          0.3544790282
                        ]
                      },
                      {
                        "passed_time": 0.4607350482,
                        "iteration": 282,
                        "remaining_time": 1.167303991,
                        "learn": [
                          0.3542617581
                        ]
                      },
                      {
                        "passed_time": 0.462100352,
                        "iteration": 283,
                        "remaining_time": 1.165013564,
                        "learn": [
                          0.3540785894
                        ]
                      },
                      {
                        "passed_time": 0.463563632,
                        "iteration": 284,
                        "remaining_time": 1.162975428,
                        "learn": [
                          0.3539085981
                        ]
                      },
                      {
                        "passed_time": 0.4656266194,
                        "iteration": 285,
                        "remaining_time": 1.162438483,
                        "learn": [
                          0.3536930306
                        ]
                      },
                      {
                        "passed_time": 0.467955117,
                        "iteration": 286,
                        "remaining_time": 1.162550517,
                        "learn": [
                          0.3535144401
                        ]
                      },
                      {
                        "passed_time": 0.4694342268,
                        "iteration": 287,
                        "remaining_time": 1.160545727,
                        "learn": [
                          0.353376494
                        ]
                      },
                      {
                        "passed_time": 0.4708532491,
                        "iteration": 288,
                        "remaining_time": 1.158396748,
                        "learn": [
                          0.3531576971
                        ]
                      },
                      {
                        "passed_time": 0.4723033828,
                        "iteration": 289,
                        "remaining_time": 1.156328972,
                        "learn": [
                          0.3529447132
                        ]
                      },
                      {
                        "passed_time": 0.4737512121,
                        "iteration": 290,
                        "remaining_time": 1.154259826,
                        "learn": [
                          0.3526886553
                        ]
                      },
                      {
                        "passed_time": 0.4751752159,
                        "iteration": 291,
                        "remaining_time": 1.152137167,
                        "learn": [
                          0.3526397978
                        ]
                      },
                      {
                        "passed_time": 0.476609498,
                        "iteration": 292,
                        "remaining_time": 1.150044079,
                        "learn": [
                          0.3523945673
                        ]
                      },
                      {
                        "passed_time": 0.4780902486,
                        "iteration": 293,
                        "remaining_time": 1.14806706,
                        "learn": [
                          0.3522621235
                        ]
                      },
                      {
                        "passed_time": 0.4795028974,
                        "iteration": 294,
                        "remaining_time": 1.145930653,
                        "learn": [
                          0.3521356496
                        ]
                      },
                      {
                        "passed_time": 0.480959349,
                        "iteration": 295,
                        "remaining_time": 1.143903317,
                        "learn": [
                          0.3519880076
                        ]
                      },
                      {
                        "passed_time": 0.4832221244,
                        "iteration": 296,
                        "remaining_time": 1.143788396,
                        "learn": [
                          0.3517941393
                        ]
                      },
                      {
                        "passed_time": 0.4849110354,
                        "iteration": 297,
                        "remaining_time": 1.142307204,
                        "learn": [
                          0.3516621883
                        ]
                      },
                      {
                        "passed_time": 0.4868596777,
                        "iteration": 298,
                        "remaining_time": 1.141433559,
                        "learn": [
                          0.3514409852
                        ]
                      },
                      {
                        "passed_time": 0.48874106,
                        "iteration": 299,
                        "remaining_time": 1.140395807,
                        "learn": [
                          0.3512206691
                        ]
                      },
                      {
                        "passed_time": 0.4953331514,
                        "iteration": 300,
                        "remaining_time": 1.150291936,
                        "learn": [
                          0.3510668933
                        ]
                      },
                      {
                        "passed_time": 0.496912946,
                        "iteration": 301,
                        "remaining_time": 1.14849416,
                        "learn": [
                          0.3508160314
                        ]
                      },
                      {
                        "passed_time": 0.4985197249,
                        "iteration": 302,
                        "remaining_time": 1.146759895,
                        "learn": [
                          0.3506423851
                        ]
                      },
                      {
                        "passed_time": 0.5001000647,
                        "iteration": 303,
                        "remaining_time": 1.144965938,
                        "learn": [
                          0.3505147646
                        ]
                      },
                      {
                        "passed_time": 0.5025607194,
                        "iteration": 304,
                        "remaining_time": 1.145179344,
                        "learn": [
                          0.3503960758
                        ]
                      },
                      {
                        "passed_time": 0.5043041524,
                        "iteration": 305,
                        "remaining_time": 1.143748633,
                        "learn": [
                          0.3503406661
                        ]
                      },
                      {
                        "passed_time": 0.5061574408,
                        "iteration": 306,
                        "remaining_time": 1.142563865,
                        "learn": [
                          0.3501627522
                        ]
                      },
                      {
                        "passed_time": 0.507151732,
                        "iteration": 307,
                        "remaining_time": 1.139444801,
                        "learn": [
                          0.3501096014
                        ]
                      },
                      {
                        "passed_time": 0.5094228467,
                        "iteration": 308,
                        "remaining_time": 1.13919478,
                        "learn": [
                          0.3499659052
                        ]
                      },
                      {
                        "passed_time": 0.5110340322,
                        "iteration": 309,
                        "remaining_time": 1.137462846,
                        "learn": [
                          0.3497309682
                        ]
                      },
                      {
                        "passed_time": 0.5129126775,
                        "iteration": 310,
                        "remaining_time": 1.136324228,
                        "learn": [
                          0.3494783964
                        ]
                      },
                      {
                        "passed_time": 0.5146660741,
                        "iteration": 311,
                        "remaining_time": 1.134904676,
                        "learn": [
                          0.3493373384
                        ]
                      },
                      {
                        "passed_time": 0.516539788,
                        "iteration": 312,
                        "remaining_time": 1.133747075,
                        "learn": [
                          0.3492411431
                        ]
                      },
                      {
                        "passed_time": 0.5174741006,
                        "iteration": 313,
                        "remaining_time": 1.130532589,
                        "learn": [
                          0.3491876348
                        ]
                      },
                      {
                        "passed_time": 0.5188787314,
                        "iteration": 314,
                        "remaining_time": 1.128355337,
                        "learn": [
                          0.3489605255
                        ]
                      },
                      {
                        "passed_time": 0.5203937586,
                        "iteration": 315,
                        "remaining_time": 1.126421933,
                        "learn": [
                          0.3487802581
                        ]
                      },
                      {
                        "passed_time": 0.5218646622,
                        "iteration": 316,
                        "remaining_time": 1.124396102,
                        "learn": [
                          0.3487273174
                        ]
                      },
                      {
                        "passed_time": 0.5233640117,
                        "iteration": 317,
                        "remaining_time": 1.122434767,
                        "learn": [
                          0.3486084276
                        ]
                      },
                      {
                        "passed_time": 0.5249174225,
                        "iteration": 318,
                        "remaining_time": 1.120591739,
                        "learn": [
                          0.3485396089
                        ]
                      },
                      {
                        "passed_time": 0.5264312079,
                        "iteration": 319,
                        "remaining_time": 1.118666317,
                        "learn": [
                          0.3484292922
                        ]
                      },
                      {
                        "passed_time": 0.5278937709,
                        "iteration": 320,
                        "remaining_time": 1.11663511,
                        "learn": [
                          0.3483238847
                        ]
                      },
                      {
                        "passed_time": 0.5294560766,
                        "iteration": 321,
                        "remaining_time": 1.114817453,
                        "learn": [
                          0.3481932991
                        ]
                      },
                      {
                        "passed_time": 0.5308764055,
                        "iteration": 322,
                        "remaining_time": 1.112703797,
                        "learn": [
                          0.3480702749
                        ]
                      },
                      {
                        "passed_time": 0.5323399824,
                        "iteration": 323,
                        "remaining_time": 1.110684655,
                        "learn": [
                          0.3479906325
                        ]
                      },
                      {
                        "passed_time": 0.5338680367,
                        "iteration": 324,
                        "remaining_time": 1.108802845,
                        "learn": [
                          0.3478714676
                        ]
                      },
                      {
                        "passed_time": 0.5353712029,
                        "iteration": 325,
                        "remaining_time": 1.106871751,
                        "learn": [
                          0.3476454754
                        ]
                      },
                      {
                        "passed_time": 0.5368472747,
                        "iteration": 326,
                        "remaining_time": 1.10488751,
                        "learn": [
                          0.3475037133
                        ]
                      },
                      {
                        "passed_time": 0.5382555887,
                        "iteration": 327,
                        "remaining_time": 1.102767548,
                        "learn": [
                          0.3474003782
                        ]
                      },
                      {
                        "passed_time": 0.5397283514,
                        "iteration": 328,
                        "remaining_time": 1.100783355,
                        "learn": [
                          0.3472886479
                        ]
                      },
                      {
                        "passed_time": 0.5412009349,
                        "iteration": 329,
                        "remaining_time": 1.098801898,
                        "learn": [
                          0.3472273425
                        ]
                      },
                      {
                        "passed_time": 0.5427295384,
                        "iteration": 330,
                        "remaining_time": 1.096936741,
                        "learn": [
                          0.3471322406
                        ]
                      },
                      {
                        "passed_time": 0.5442237892,
                        "iteration": 331,
                        "remaining_time": 1.095004492,
                        "learn": [
                          0.3468901728
                        ]
                      },
                      {
                        "passed_time": 0.5456580596,
                        "iteration": 332,
                        "remaining_time": 1.092954732,
                        "learn": [
                          0.3466833034
                        ]
                      },
                      {
                        "passed_time": 0.5471663854,
                        "iteration": 333,
                        "remaining_time": 1.091056325,
                        "learn": [
                          0.3464664344
                        ]
                      },
                      {
                        "passed_time": 0.548645406,
                        "iteration": 334,
                        "remaining_time": 1.089102075,
                        "learn": [
                          0.3463172208
                        ]
                      },
                      {
                        "passed_time": 0.5501882997,
                        "iteration": 335,
                        "remaining_time": 1.087276878,
                        "learn": [
                          0.3462194896
                        ]
                      },
                      {
                        "passed_time": 0.5509209899,
                        "iteration": 336,
                        "remaining_time": 1.083859395,
                        "learn": [
                          0.3462054853
                        ]
                      },
                      {
                        "passed_time": 0.5523574207,
                        "iteration": 337,
                        "remaining_time": 1.081836132,
                        "learn": [
                          0.3460467479
                        ]
                      },
                      {
                        "passed_time": 0.5530917384,
                        "iteration": 338,
                        "remaining_time": 1.078447313,
                        "learn": [
                          0.3460309985
                        ]
                      },
                      {
                        "passed_time": 0.554504988,
                        "iteration": 339,
                        "remaining_time": 1.076392036,
                        "learn": [
                          0.3459408834
                        ]
                      },
                      {
                        "passed_time": 0.5559482634,
                        "iteration": 340,
                        "remaining_time": 1.07439855,
                        "learn": [
                          0.3458006043
                        ]
                      },
                      {
                        "passed_time": 0.5574531874,
                        "iteration": 341,
                        "remaining_time": 1.072526893,
                        "learn": [
                          0.3456834431
                        ]
                      },
                      {
                        "passed_time": 0.5582247085,
                        "iteration": 342,
                        "remaining_time": 1.069252576,
                        "learn": [
                          0.3456640457
                        ]
                      },
                      {
                        "passed_time": 0.5597117249,
                        "iteration": 343,
                        "remaining_time": 1.067357243,
                        "learn": [
                          0.345529785
                        ]
                      },
                      {
                        "passed_time": 0.5611779188,
                        "iteration": 344,
                        "remaining_time": 1.065424744,
                        "learn": [
                          0.3453834754
                        ]
                      },
                      {
                        "passed_time": 0.5622316909,
                        "iteration": 345,
                        "remaining_time": 1.062715393,
                        "learn": [
                          0.3453092681
                        ]
                      },
                      {
                        "passed_time": 0.5636858685,
                        "iteration": 346,
                        "remaining_time": 1.060769084,
                        "learn": [
                          0.3452550914
                        ]
                      },
                      {
                        "passed_time": 0.5652126711,
                        "iteration": 347,
                        "remaining_time": 1.058961671,
                        "learn": [
                          0.3449909455
                        ]
                      },
                      {
                        "passed_time": 0.5666648578,
                        "iteration": 348,
                        "remaining_time": 1.057016683,
                        "learn": [
                          0.3448312181
                        ]
                      },
                      {
                        "passed_time": 0.568191076,
                        "iteration": 349,
                        "remaining_time": 1.055211998,
                        "learn": [
                          0.3447148945
                        ]
                      },
                      {
                        "passed_time": 0.5696645044,
                        "iteration": 350,
                        "remaining_time": 1.053311292,
                        "learn": [
                          0.3445271467
                        ]
                      },
                      {
                        "passed_time": 0.57110155,
                        "iteration": 351,
                        "remaining_time": 1.051346035,
                        "learn": [
                          0.3444119293
                        ]
                      },
                      {
                        "passed_time": 0.5725766088,
                        "iteration": 352,
                        "remaining_time": 1.049453445,
                        "learn": [
                          0.3443081131
                        ]
                      },
                      {
                        "passed_time": 0.5740138867,
                        "iteration": 353,
                        "remaining_time": 1.047494268,
                        "learn": [
                          0.3441049711
                        ]
                      },
                      {
                        "passed_time": 0.5754304851,
                        "iteration": 354,
                        "remaining_time": 1.045500459,
                        "learn": [
                          0.3440178523
                        ]
                      },
                      {
                        "passed_time": 0.5770968274,
                        "iteration": 355,
                        "remaining_time": 1.043961677,
                        "learn": [
                          0.3439310627
                        ]
                      },
                      {
                        "passed_time": 0.5786115259,
                        "iteration": 356,
                        "remaining_time": 1.042149051,
                        "learn": [
                          0.3438000079
                        ]
                      },
                      {
                        "passed_time": 0.580083746,
                        "iteration": 357,
                        "remaining_time": 1.040261913,
                        "learn": [
                          0.3437113713
                        ]
                      },
                      {
                        "passed_time": 0.581548526,
                        "iteration": 358,
                        "remaining_time": 1.038363803,
                        "learn": [
                          0.3436008773
                        ]
                      },
                      {
                        "passed_time": 0.5830083933,
                        "iteration": 359,
                        "remaining_time": 1.036459366,
                        "learn": [
                          0.3434147288
                        ]
                      },
                      {
                        "passed_time": 0.5844316661,
                        "iteration": 360,
                        "remaining_time": 1.034492617,
                        "learn": [
                          0.3432298164
                        ]
                      },
                      {
                        "passed_time": 0.5850335423,
                        "iteration": 361,
                        "remaining_time": 1.031081215,
                        "learn": [
                          0.3432244043
                        ]
                      },
                      {
                        "passed_time": 0.5864053819,
                        "iteration": 362,
                        "remaining_time": 1.029036441,
                        "learn": [
                          0.3430240484
                        ]
                      },
                      {
                        "passed_time": 0.5878831859,
                        "iteration": 363,
                        "remaining_time": 1.027180512,
                        "learn": [
                          0.3429223498
                        ]
                      },
                      {
                        "passed_time": 0.5893508646,
                        "iteration": 364,
                        "remaining_time": 1.025309038,
                        "learn": [
                          0.3426927982
                        ]
                      },
                      {
                        "passed_time": 0.59083199,
                        "iteration": 365,
                        "remaining_time": 1.023463065,
                        "learn": [
                          0.3424978586
                        ]
                      },
                      {
                        "passed_time": 0.5922498233,
                        "iteration": 366,
                        "remaining_time": 1.021509913,
                        "learn": [
                          0.3424210126
                        ]
                      },
                      {
                        "passed_time": 0.5937464837,
                        "iteration": 367,
                        "remaining_time": 1.019695048,
                        "learn": [
                          0.3422578642
                        ]
                      },
                      {
                        "passed_time": 0.595245175,
                        "iteration": 368,
                        "remaining_time": 1.017885381,
                        "learn": [
                          0.3420487489
                        ]
                      },
                      {
                        "passed_time": 0.5967142433,
                        "iteration": 369,
                        "remaining_time": 1.016026955,
                        "learn": [
                          0.341819577
                        ]
                      },
                      {
                        "passed_time": 0.5982362092,
                        "iteration": 370,
                        "remaining_time": 1.014260312,
                        "learn": [
                          0.3416958306
                        ]
                      },
                      {
                        "passed_time": 0.5997206347,
                        "iteration": 371,
                        "remaining_time": 1.012431609,
                        "learn": [
                          0.3415166626
                        ]
                      },
                      {
                        "passed_time": 0.602077064,
                        "iteration": 372,
                        "remaining_time": 1.012070561,
                        "learn": [
                          0.3413711659
                        ]
                      },
                      {
                        "passed_time": 0.6046585174,
                        "iteration": 373,
                        "remaining_time": 1.012075486,
                        "learn": [
                          0.3412292555
                        ]
                      },
                      {
                        "passed_time": 0.606137898,
                        "iteration": 374,
                        "remaining_time": 1.01022983,
                        "learn": [
                          0.3410256768
                        ]
                      },
                      {
                        "passed_time": 0.6076408454,
                        "iteration": 375,
                        "remaining_time": 1.008425233,
                        "learn": [
                          0.3409181155
                        ]
                      },
                      {
                        "passed_time": 0.6091306366,
                        "iteration": 376,
                        "remaining_time": 1.006600495,
                        "learn": [
                          0.3406520336
                        ]
                      },
                      {
                        "passed_time": 0.6107127421,
                        "iteration": 377,
                        "remaining_time": 1.004929433,
                        "learn": [
                          0.3405542934
                        ]
                      },
                      {
                        "passed_time": 0.612177833,
                        "iteration": 378,
                        "remaining_time": 1.003067109,
                        "learn": [
                          0.340382912
                        ]
                      },
                      {
                        "passed_time": 0.6136221522,
                        "iteration": 379,
                        "remaining_time": 1.001172985,
                        "learn": [
                          0.3401896786
                        ]
                      },
                      {
                        "passed_time": 0.6150656288,
                        "iteration": 380,
                        "remaining_time": 0.9992798537,
                        "learn": [
                          0.3400476074
                        ]
                      },
                      {
                        "passed_time": 0.6165213822,
                        "iteration": 381,
                        "remaining_time": 0.9974089376,
                        "learn": [
                          0.3400003361
                        ]
                      },
                      {
                        "passed_time": 0.6179593948,
                        "iteration": 382,
                        "remaining_time": 0.9955116099,
                        "learn": [
                          0.3398634936
                        ]
                      },
                      {
                        "passed_time": 0.6193940348,
                        "iteration": 383,
                        "remaining_time": 0.9936112641,
                        "learn": [
                          0.3397856476
                        ]
                      },
                      {
                        "passed_time": 0.6208973509,
                        "iteration": 384,
                        "remaining_time": 0.9918230411,
                        "learn": [
                          0.339607483
                        ]
                      },
                      {
                        "passed_time": 0.6223524355,
                        "iteration": 385,
                        "remaining_time": 0.9899595736,
                        "learn": [
                          0.3395268716
                        ]
                      },
                      {
                        "passed_time": 0.6237590277,
                        "iteration": 386,
                        "remaining_time": 0.9880214057,
                        "learn": [
                          0.3393721753
                        ]
                      },
                      {
                        "passed_time": 0.6251392748,
                        "iteration": 387,
                        "remaining_time": 0.9860444231,
                        "learn": [
                          0.3392684298
                        ]
                      },
                      {
                        "passed_time": 0.6265786735,
                        "iteration": 388,
                        "remaining_time": 0.9841634178,
                        "learn": [
                          0.3390986091
                        ]
                      },
                      {
                        "passed_time": 0.6279919254,
                        "iteration": 389,
                        "remaining_time": 0.9822437807,
                        "learn": [
                          0.3389784163
                        ]
                      },
                      {
                        "passed_time": 0.6293756568,
                        "iteration": 390,
                        "remaining_time": 0.9802807545,
                        "learn": [
                          0.3388409818
                        ]
                      },
                      {
                        "passed_time": 0.6309418156,
                        "iteration": 391,
                        "remaining_time": 0.9786036323,
                        "learn": [
                          0.3387126073
                        ]
                      },
                      {
                        "passed_time": 0.6323815952,
                        "iteration": 392,
                        "remaining_time": 0.9767318786,
                        "learn": [
                          0.3386445578
                        ]
                      },
                      {
                        "passed_time": 0.6337802012,
                        "iteration": 393,
                        "remaining_time": 0.9747989897,
                        "learn": [
                          0.3384971345
                        ]
                      },
                      {
                        "passed_time": 0.635201411,
                        "iteration": 394,
                        "remaining_time": 0.972903427,
                        "learn": [
                          0.338375874
                        ]
                      },
                      {
                        "passed_time": 0.6366317183,
                        "iteration": 395,
                        "remaining_time": 0.971024136,
                        "learn": [
                          0.3383452528
                        ]
                      },
                      {
                        "passed_time": 0.6380352444,
                        "iteration": 396,
                        "remaining_time": 0.9691064291,
                        "learn": [
                          0.338240201
                        ]
                      },
                      {
                        "passed_time": 0.639424215,
                        "iteration": 397,
                        "remaining_time": 0.9671692901,
                        "learn": [
                          0.3381897155
                        ]
                      },
                      {
                        "passed_time": 0.6408327746,
                        "iteration": 398,
                        "remaining_time": 0.9652644049,
                        "learn": [
                          0.3380711922
                        ]
                      },
                      {
                        "passed_time": 0.6422538979,
                        "iteration": 399,
                        "remaining_time": 0.9633808469,
                        "learn": [
                          0.3379228545
                        ]
                      },
                      {
                        "passed_time": 0.6436615401,
                        "iteration": 400,
                        "remaining_time": 0.9614794577,
                        "learn": [
                          0.3375447215
                        ]
                      },
                      {
                        "passed_time": 0.6450819551,
                        "iteration": 401,
                        "remaining_time": 0.9595995253,
                        "learn": [
                          0.3374721834
                        ]
                      },
                      {
                        "passed_time": 0.6464740276,
                        "iteration": 402,
                        "remaining_time": 0.957679887,
                        "learn": [
                          0.3373633133
                        ]
                      },
                      {
                        "passed_time": 0.6479127763,
                        "iteration": 403,
                        "remaining_time": 0.9558317195,
                        "learn": [
                          0.3372388084
                        ]
                      },
                      {
                        "passed_time": 0.6493281308,
                        "iteration": 404,
                        "remaining_time": 0.9539512045,
                        "learn": [
                          0.3370920568
                        ]
                      },
                      {
                        "passed_time": 0.6507506658,
                        "iteration": 405,
                        "remaining_time": 0.9520834864,
                        "learn": [
                          0.3369607732
                        ]
                      },
                      {
                        "passed_time": 0.6521839371,
                        "iteration": 406,
                        "remaining_time": 0.9502335987,
                        "learn": [
                          0.3367745032
                        ]
                      },
                      {
                        "passed_time": 0.6536022794,
                        "iteration": 407,
                        "remaining_time": 0.9483640917,
                        "learn": [
                          0.3367229173
                        ]
                      },
                      {
                        "passed_time": 0.6550209027,
                        "iteration": 408,
                        "remaining_time": 0.9464971968,
                        "learn": [
                          0.3366030157
                        ]
                      },
                      {
                        "passed_time": 0.6564678911,
                        "iteration": 409,
                        "remaining_time": 0.9446733067,
                        "learn": [
                          0.3365014801
                        ]
                      },
                      {
                        "passed_time": 0.6578778938,
                        "iteration": 410,
                        "remaining_time": 0.9427982468,
                        "learn": [
                          0.3364347789
                        ]
                      },
                      {
                        "passed_time": 0.6593197473,
                        "iteration": 411,
                        "remaining_time": 0.9409709015,
                        "learn": [
                          0.3362532236
                        ]
                      },
                      {
                        "passed_time": 0.6607540773,
                        "iteration": 412,
                        "remaining_time": 0.9391347297,
                        "learn": [
                          0.3360162841
                        ]
                      },
                      {
                        "passed_time": 0.6621787619,
                        "iteration": 413,
                        "remaining_time": 0.9372868466,
                        "learn": [
                          0.335804704
                        ]
                      },
                      {
                        "passed_time": 0.6635871685,
                        "iteration": 414,
                        "remaining_time": 0.9354180568,
                        "learn": [
                          0.335475848
                        ]
                      },
                      {
                        "passed_time": 0.6644240849,
                        "iteration": 415,
                        "remaining_time": 0.9327491961,
                        "learn": [
                          0.3354497913
                        ]
                      },
                      {
                        "passed_time": 0.6652030353,
                        "iteration": 416,
                        "remaining_time": 0.9300080806,
                        "learn": [
                          0.3354256838
                        ]
                      },
                      {
                        "passed_time": 0.6666135689,
                        "iteration": 417,
                        "remaining_time": 0.9281557347,
                        "learn": [
                          0.3353192606
                        ]
                      },
                      {
                        "passed_time": 0.6680594951,
                        "iteration": 418,
                        "remaining_time": 0.9263545744,
                        "learn": [
                          0.335198886
                        ]
                      },
                      {
                        "passed_time": 0.6694885755,
                        "iteration": 419,
                        "remaining_time": 0.9245318423,
                        "learn": [
                          0.3350826298
                        ]
                      },
                      {
                        "passed_time": 0.6709050278,
                        "iteration": 420,
                        "remaining_time": 0.922693613,
                        "learn": [
                          0.334968797
                        ]
                      },
                      {
                        "passed_time": 0.6723102652,
                        "iteration": 421,
                        "remaining_time": 0.920842022,
                        "learn": [
                          0.3348505181
                        ]
                      },
                      {
                        "passed_time": 0.6737576671,
                        "iteration": 422,
                        "remaining_time": 0.9190500565,
                        "learn": [
                          0.3347686088
                        ]
                      },
                      {
                        "passed_time": 0.6757164439,
                        "iteration": 423,
                        "remaining_time": 0.9179544144,
                        "learn": [
                          0.33464541
                        ]
                      },
                      {
                        "passed_time": 0.6783074518,
                        "iteration": 424,
                        "remaining_time": 0.9177100818,
                        "learn": [
                          0.3345240797
                        ]
                      },
                      {
                        "passed_time": 0.6800859243,
                        "iteration": 425,
                        "remaining_time": 0.9163599075,
                        "learn": [
                          0.334256229
                        ]
                      },
                      {
                        "passed_time": 0.6821524392,
                        "iteration": 426,
                        "remaining_time": 0.9153942568,
                        "learn": [
                          0.334158655
                        ]
                      },
                      {
                        "passed_time": 0.6842772562,
                        "iteration": 427,
                        "remaining_time": 0.9145013798,
                        "learn": [
                          0.334002046
                        ]
                      },
                      {
                        "passed_time": 0.6864968775,
                        "iteration": 428,
                        "remaining_time": 0.9137289442,
                        "learn": [
                          0.3338798672
                        ]
                      },
                      {
                        "passed_time": 0.6879834739,
                        "iteration": 429,
                        "remaining_time": 0.9119780933,
                        "learn": [
                          0.3336966372
                        ]
                      },
                      {
                        "passed_time": 0.6894385885,
                        "iteration": 430,
                        "remaining_time": 0.9101869069,
                        "learn": [
                          0.3335627303
                        ]
                      },
                      {
                        "passed_time": 0.6909186383,
                        "iteration": 431,
                        "remaining_time": 0.9084300614,
                        "learn": [
                          0.3334672546
                        ]
                      },
                      {
                        "passed_time": 0.6923370984,
                        "iteration": 432,
                        "remaining_time": 0.9065938448,
                        "learn": [
                          0.3333622262
                        ]
                      },
                      {
                        "passed_time": 0.6938309575,
                        "iteration": 433,
                        "remaining_time": 0.9048578847,
                        "learn": [
                          0.3332344888
                        ]
                      },
                      {
                        "passed_time": 0.6946584138,
                        "iteration": 434,
                        "remaining_time": 0.90225748,
                        "learn": [
                          0.3332091494
                        ]
                      },
                      {
                        "passed_time": 0.6959949398,
                        "iteration": 435,
                        "remaining_time": 0.9003237295,
                        "learn": [
                          0.3329718776
                        ]
                      },
                      {
                        "passed_time": 0.6974151739,
                        "iteration": 436,
                        "remaining_time": 0.8985005559,
                        "learn": [
                          0.3329003308
                        ]
                      },
                      {
                        "passed_time": 0.6988962394,
                        "iteration": 437,
                        "remaining_time": 0.8967572752,
                        "learn": [
                          0.3327673727
                        ]
                      },
                      {
                        "passed_time": 0.7003228579,
                        "iteration": 438,
                        "remaining_time": 0.8949456111,
                        "learn": [
                          0.3326810019
                        ]
                      },
                      {
                        "passed_time": 0.7017943515,
                        "iteration": 439,
                        "remaining_time": 0.8931928109,
                        "learn": [
                          0.332512773
                        ]
                      },
                      {
                        "passed_time": 0.7032451204,
                        "iteration": 440,
                        "remaining_time": 0.8914150165,
                        "learn": [
                          0.3322002089
                        ]
                      },
                      {
                        "passed_time": 0.7046632562,
                        "iteration": 441,
                        "remaining_time": 0.8895975044,
                        "learn": [
                          0.3321414598
                        ]
                      },
                      {
                        "passed_time": 0.7060941696,
                        "iteration": 442,
                        "remaining_time": 0.8877978611,
                        "learn": [
                          0.3320087685
                        ]
                      },
                      {
                        "passed_time": 0.7075071001,
                        "iteration": 443,
                        "remaining_time": 0.8859773596,
                        "learn": [
                          0.3318830047
                        ]
                      },
                      {
                        "passed_time": 0.7089250864,
                        "iteration": 444,
                        "remaining_time": 0.8841649954,
                        "learn": [
                          0.3318155096
                        ]
                      },
                      {
                        "passed_time": 0.7103703396,
                        "iteration": 445,
                        "remaining_time": 0.8823882694,
                        "learn": [
                          0.3316995451
                        ]
                      },
                      {
                        "passed_time": 0.7111989555,
                        "iteration": 446,
                        "remaining_time": 0.8798501619,
                        "learn": [
                          0.3316850032
                        ]
                      },
                      {
                        "passed_time": 0.7125490217,
                        "iteration": 447,
                        "remaining_time": 0.8779621874,
                        "learn": [
                          0.3315221754
                        ]
                      },
                      {
                        "passed_time": 0.7139625292,
                        "iteration": 448,
                        "remaining_time": 0.8761544623,
                        "learn": [
                          0.3312955282
                        ]
                      },
                      {
                        "passed_time": 0.7153845807,
                        "iteration": 449,
                        "remaining_time": 0.874358932,
                        "learn": [
                          0.3311432705
                        ]
                      },
                      {
                        "passed_time": 0.7167815415,
                        "iteration": 450,
                        "remaining_time": 0.872534515,
                        "learn": [
                          0.3308790797
                        ]
                      },
                      {
                        "passed_time": 0.7181711691,
                        "iteration": 451,
                        "remaining_time": 0.8707030988,
                        "learn": [
                          0.3307777201
                        ]
                      },
                      {
                        "passed_time": 0.7195610611,
                        "iteration": 452,
                        "remaining_time": 0.8688739523,
                        "learn": [
                          0.3306408816
                        ]
                      },
                      {
                        "passed_time": 0.7209487113,
                        "iteration": 453,
                        "remaining_time": 0.8670440448,
                        "learn": [
                          0.3305048132
                        ]
                      },
                      {
                        "passed_time": 0.722672584,
                        "iteration": 454,
                        "remaining_time": 0.8656188094,
                        "learn": [
                          0.3303615945
                        ]
                      },
                      {
                        "passed_time": 0.7241082957,
                        "iteration": 455,
                        "remaining_time": 0.8638484931,
                        "learn": [
                          0.3302555688
                        ]
                      },
                      {
                        "passed_time": 0.7255157575,
                        "iteration": 456,
                        "remaining_time": 0.8620460751,
                        "learn": [
                          0.3300345711
                        ]
                      },
                      {
                        "passed_time": 0.7269351768,
                        "iteration": 457,
                        "remaining_time": 0.8602595324,
                        "learn": [
                          0.3298076081
                        ]
                      },
                      {
                        "passed_time": 0.7284109639,
                        "iteration": 458,
                        "remaining_time": 0.8585410271,
                        "learn": [
                          0.3296298939
                        ]
                      },
                      {
                        "passed_time": 0.7298363516,
                        "iteration": 459,
                        "remaining_time": 0.8567644127,
                        "learn": [
                          0.3295225096
                        ]
                      },
                      {
                        "passed_time": 0.7312190921,
                        "iteration": 460,
                        "remaining_time": 0.8549394591,
                        "learn": [
                          0.3293158027
                        ]
                      },
                      {
                        "passed_time": 0.7326482068,
                        "iteration": 461,
                        "remaining_time": 0.8531704226,
                        "learn": [
                          0.3292497887
                        ]
                      },
                      {
                        "passed_time": 0.734066767,
                        "iteration": 462,
                        "remaining_time": 0.8513906131,
                        "learn": [
                          0.328917018
                        ]
                      },
                      {
                        "passed_time": 0.7354602407,
                        "iteration": 463,
                        "remaining_time": 0.8495833815,
                        "learn": [
                          0.328840413
                        ]
                      },
                      {
                        "passed_time": 0.736894789,
                        "iteration": 464,
                        "remaining_time": 0.8478251873,
                        "learn": [
                          0.3287698737
                        ]
                      },
                      {
                        "passed_time": 0.738288008,
                        "iteration": 465,
                        "remaining_time": 0.846021022,
                        "learn": [
                          0.3286187318
                        ]
                      },
                      {
                        "passed_time": 0.7397225279,
                        "iteration": 466,
                        "remaining_time": 0.8442657546,
                        "learn": [
                          0.3284020212
                        ]
                      },
                      {
                        "passed_time": 0.7413129918,
                        "iteration": 467,
                        "remaining_time": 0.8426891275,
                        "learn": [
                          0.3282282066
                        ]
                      },
                      {
                        "passed_time": 0.742731449,
                        "iteration": 468,
                        "remaining_time": 0.8409176959,
                        "learn": [
                          0.3281732226
                        ]
                      },
                      {
                        "passed_time": 0.7440995528,
                        "iteration": 469,
                        "remaining_time": 0.8390909851,
                        "learn": [
                          0.3281200538
                        ]
                      },
                      {
                        "passed_time": 0.7449262943,
                        "iteration": 470,
                        "remaining_time": 0.8366581947,
                        "learn": [
                          0.3281062706
                        ]
                      },
                      {
                        "passed_time": 0.746277011,
                        "iteration": 471,
                        "remaining_time": 0.8348183512,
                        "learn": [
                          0.3279792035
                        ]
                      },
                      {
                        "passed_time": 0.7476784844,
                        "iteration": 472,
                        "remaining_time": 0.8330371274,
                        "learn": [
                          0.3278005898
                        ]
                      },
                      {
                        "passed_time": 0.7483888499,
                        "iteration": 473,
                        "remaining_time": 0.8304905803,
                        "learn": [
                          0.327788782
                        ]
                      },
                      {
                        "passed_time": 0.7496946259,
                        "iteration": 474,
                        "remaining_time": 0.8286098497,
                        "learn": [
                          0.3276956859
                        ]
                      },
                      {
                        "passed_time": 0.7511592637,
                        "iteration": 475,
                        "remaining_time": 0.8269064164,
                        "learn": [
                          0.3275846589
                        ]
                      },
                      {
                        "passed_time": 0.7525629459,
                        "iteration": 476,
                        "remaining_time": 0.8251371503,
                        "learn": [
                          0.3273623747
                        ]
                      },
                      {
                        "passed_time": 0.7540040825,
                        "iteration": 477,
                        "remaining_time": 0.823410316,
                        "learn": [
                          0.3272557554
                        ]
                      },
                      {
                        "passed_time": 0.7554092133,
                        "iteration": 478,
                        "remaining_time": 0.8216455118,
                        "learn": [
                          0.327188279
                        ]
                      },
                      {
                        "passed_time": 0.7568502599,
                        "iteration": 479,
                        "remaining_time": 0.8199211149,
                        "learn": [
                          0.3271006085
                        ]
                      },
                      {
                        "passed_time": 0.7582466437,
                        "iteration": 480,
                        "remaining_time": 0.818149705,
                        "learn": [
                          0.3270263547
                        ]
                      },
                      {
                        "passed_time": 0.7596454154,
                        "iteration": 481,
                        "remaining_time": 0.8163824174,
                        "learn": [
                          0.3269568278
                        ]
                      },
                      {
                        "passed_time": 0.7610497984,
                        "iteration": 482,
                        "remaining_time": 0.8146226621,
                        "learn": [
                          0.3266801426
                        ]
                      },
                      {
                        "passed_time": 0.7624391817,
                        "iteration": 483,
                        "remaining_time": 0.8128483838,
                        "learn": [
                          0.3265558122
                        ]
                      },
                      {
                        "passed_time": 0.7630772032,
                        "iteration": 484,
                        "remaining_time": 0.8102778549,
                        "learn": [
                          0.3265459411
                        ]
                      },
                      {
                        "passed_time": 0.7644350599,
                        "iteration": 485,
                        "remaining_time": 0.808476586,
                        "learn": [
                          0.3264090082
                        ]
                      },
                      {
                        "passed_time": 0.7658748417,
                        "iteration": 486,
                        "remaining_time": 0.806763437,
                        "learn": [
                          0.3263175866
                        ]
                      },
                      {
                        "passed_time": 0.7669312334,
                        "iteration": 487,
                        "remaining_time": 0.8046491629,
                        "learn": [
                          0.3262868752
                        ]
                      },
                      {
                        "passed_time": 0.7683590928,
                        "iteration": 488,
                        "remaining_time": 0.8029273956,
                        "learn": [
                          0.326222991
                        ]
                      },
                      {
                        "passed_time": 0.7689765701,
                        "iteration": 489,
                        "remaining_time": 0.8003633689,
                        "learn": [
                          0.3262131817
                        ]
                      },
                      {
                        "passed_time": 0.7704105901,
                        "iteration": 490,
                        "remaining_time": 0.7986537482,
                        "learn": [
                          0.3261627548
                        ]
                      },
                      {
                        "passed_time": 0.7718525015,
                        "iteration": 491,
                        "remaining_time": 0.7969533958,
                        "learn": [
                          0.3260316409
                        ]
                      },
                      {
                        "passed_time": 0.7732921615,
                        "iteration": 492,
                        "remaining_time": 0.7952517767,
                        "learn": [
                          0.3257836898
                        ]
                      },
                      {
                        "passed_time": 0.7747254089,
                        "iteration": 493,
                        "remaining_time": 0.7935446496,
                        "learn": [
                          0.3255757416
                        ]
                      },
                      {
                        "passed_time": 0.7761274701,
                        "iteration": 494,
                        "remaining_time": 0.791806813,
                        "learn": [
                          0.3254459756
                        ]
                      },
                      {
                        "passed_time": 0.777507055,
                        "iteration": 495,
                        "remaining_time": 0.7900474914,
                        "learn": [
                          0.3252673853
                        ]
                      },
                      {
                        "passed_time": 0.7789467825,
                        "iteration": 496,
                        "remaining_time": 0.7883505665,
                        "learn": [
                          0.3251085717
                        ]
                      },
                      {
                        "passed_time": 0.7803390184,
                        "iteration": 497,
                        "remaining_time": 0.7866068016,
                        "learn": [
                          0.325039621
                        ]
                      },
                      {
                        "passed_time": 0.7817768219,
                        "iteration": 498,
                        "remaining_time": 0.7849101959,
                        "learn": [
                          0.3249311254
                        ]
                      },
                      {
                        "passed_time": 0.7828241973,
                        "iteration": 499,
                        "remaining_time": 0.7828241973,
                        "learn": [
                          0.324898606
                        ]
                      },
                      {
                        "passed_time": 0.7842431671,
                        "iteration": 500,
                        "remaining_time": 0.7811124558,
                        "learn": [
                          0.3247555552
                        ]
                      },
                      {
                        "passed_time": 0.7856855124,
                        "iteration": 501,
                        "remaining_time": 0.7794250701,
                        "learn": [
                          0.3246341677
                        ]
                      },
                      {
                        "passed_time": 0.7870713799,
                        "iteration": 502,
                        "remaining_time": 0.7776828545,
                        "learn": [
                          0.3244792339
                        ]
                      },
                      {
                        "passed_time": 0.7884846666,
                        "iteration": 503,
                        "remaining_time": 0.775969037,
                        "learn": [
                          0.3244309733
                        ]
                      },
                      {
                        "passed_time": 0.789886677,
                        "iteration": 504,
                        "remaining_time": 0.7742453566,
                        "learn": [
                          0.3242955346
                        ]
                      },
                      {
                        "passed_time": 0.7914297824,
                        "iteration": 505,
                        "remaining_time": 0.7726606966,
                        "learn": [
                          0.3241075727
                        ]
                      },
                      {
                        "passed_time": 0.7929357712,
                        "iteration": 506,
                        "remaining_time": 0.7710401089,
                        "learn": [
                          0.323934088
                        ]
                      },
                      {
                        "passed_time": 0.7935682991,
                        "iteration": 507,
                        "remaining_time": 0.768574022,
                        "learn": [
                          0.3239285775
                        ]
                      },
                      {
                        "passed_time": 0.7951105897,
                        "iteration": 508,
                        "remaining_time": 0.76699273,
                        "learn": [
                          0.3238121648
                        ]
                      },
                      {
                        "passed_time": 0.7959319125,
                        "iteration": 509,
                        "remaining_time": 0.7647188963,
                        "learn": [
                          0.3237949332
                        ]
                      },
                      {
                        "passed_time": 0.7973922337,
                        "iteration": 510,
                        "remaining_time": 0.7630622354,
                        "learn": [
                          0.3236887895
                        ]
                      },
                      {
                        "passed_time": 0.7988376208,
                        "iteration": 511,
                        "remaining_time": 0.7613921073,
                        "learn": [
                          0.3235205169
                        ]
                      },
                      {
                        "passed_time": 0.8003559919,
                        "iteration": 512,
                        "remaining_time": 0.7597921405,
                        "learn": [
                          0.3234333841
                        ]
                      },
                      {
                        "passed_time": 0.8018255915,
                        "iteration": 513,
                        "remaining_time": 0.7581463764,
                        "learn": [
                          0.3233939959
                        ]
                      },
                      {
                        "passed_time": 0.8031981567,
                        "iteration": 514,
                        "remaining_time": 0.7564099146,
                        "learn": [
                          0.3233348469
                        ]
                      },
                      {
                        "passed_time": 0.8046336445,
                        "iteration": 515,
                        "remaining_time": 0.7547338836,
                        "learn": [
                          0.323264879
                        ]
                      },
                      {
                        "passed_time": 0.806219834,
                        "iteration": 516,
                        "remaining_time": 0.7531995741,
                        "learn": [
                          0.3232070616
                        ]
                      },
                      {
                        "passed_time": 0.8077168005,
                        "iteration": 517,
                        "remaining_time": 0.7515820422,
                        "learn": [
                          0.3230668079
                        ]
                      },
                      {
                        "passed_time": 0.8091379047,
                        "iteration": 518,
                        "remaining_time": 0.7498946669,
                        "learn": [
                          0.322991266
                        ]
                      },
                      {
                        "passed_time": 0.8106035185,
                        "iteration": 519,
                        "remaining_time": 0.7482494017,
                        "learn": [
                          0.3229176776
                        ]
                      },
                      {
                        "passed_time": 0.8120123634,
                        "iteration": 520,
                        "remaining_time": 0.7465526335,
                        "learn": [
                          0.3226694742
                        ]
                      },
                      {
                        "passed_time": 0.8134597466,
                        "iteration": 521,
                        "remaining_time": 0.7448922584,
                        "learn": [
                          0.3225186496
                        ]
                      },
                      {
                        "passed_time": 0.8148588291,
                        "iteration": 522,
                        "remaining_time": 0.7431886453,
                        "learn": [
                          0.322462615
                        ]
                      },
                      {
                        "passed_time": 0.8162952409,
                        "iteration": 523,
                        "remaining_time": 0.7415201043,
                        "learn": [
                          0.3223781554
                        ]
                      },
                      {
                        "passed_time": 0.8169696937,
                        "iteration": 524,
                        "remaining_time": 0.7391630562,
                        "learn": [
                          0.322362149
                        ]
                      },
                      {
                        "passed_time": 0.818313125,
                        "iteration": 525,
                        "remaining_time": 0.7374152496,
                        "learn": [
                          0.3222456936
                        ]
                      },
                      {
                        "passed_time": 0.8197232038,
                        "iteration": 526,
                        "remaining_time": 0.7357287958,
                        "learn": [
                          0.3221449677
                        ]
                      },
                      {
                        "passed_time": 0.8211182689,
                        "iteration": 527,
                        "remaining_time": 0.7340299676,
                        "learn": [
                          0.3219690877
                        ]
                      },
                      {
                        "passed_time": 0.8225264637,
                        "iteration": 528,
                        "remaining_time": 0.7323439781,
                        "learn": [
                          0.3218950058
                        ]
                      },
                      {
                        "passed_time": 0.823957918,
                        "iteration": 529,
                        "remaining_time": 0.7306796631,
                        "learn": [
                          0.3217994465
                        ]
                      },
                      {
                        "passed_time": 0.8253631489,
                        "iteration": 530,
                        "remaining_time": 0.7289930637,
                        "learn": [
                          0.321696096
                        ]
                      },
                      {
                        "passed_time": 0.8268751225,
                        "iteration": 531,
                        "remaining_time": 0.7274014236,
                        "learn": [
                          0.3216181545
                        ]
                      },
                      {
                        "passed_time": 0.8282331319,
                        "iteration": 532,
                        "remaining_time": 0.7256751831,
                        "learn": [
                          0.3215691794
                        ]
                      },
                      {
                        "passed_time": 0.8296703467,
                        "iteration": 533,
                        "remaining_time": 0.7240194411,
                        "learn": [
                          0.3214381843
                        ]
                      },
                      {
                        "passed_time": 0.8310609952,
                        "iteration": 534,
                        "remaining_time": 0.7223240425,
                        "learn": [
                          0.3213934944
                        ]
                      },
                      {
                        "passed_time": 0.8324784614,
                        "iteration": 535,
                        "remaining_time": 0.7206529965,
                        "learn": [
                          0.3213037363
                        ]
                      },
                      {
                        "passed_time": 0.8339056791,
                        "iteration": 536,
                        "remaining_time": 0.7189913025,
                        "learn": [
                          0.3210779275
                        ]
                      },
                      {
                        "passed_time": 0.8352765095,
                        "iteration": 537,
                        "remaining_time": 0.7172820584,
                        "learn": [
                          0.3209061144
                        ]
                      },
                      {
                        "passed_time": 0.8366837622,
                        "iteration": 538,
                        "remaining_time": 0.7156052215,
                        "learn": [
                          0.3208450184
                        ]
                      },
                      {
                        "passed_time": 0.8380974836,
                        "iteration": 539,
                        "remaining_time": 0.7139348934,
                        "learn": [
                          0.3208079675
                        ]
                      },
                      {
                        "passed_time": 0.8395217452,
                        "iteration": 540,
                        "remaining_time": 0.7122744566,
                        "learn": [
                          0.3206408139
                        ]
                      },
                      {
                        "passed_time": 0.8409345849,
                        "iteration": 541,
                        "remaining_time": 0.7106052396,
                        "learn": [
                          0.3206010596
                        ]
                      },
                      {
                        "passed_time": 0.842365123,
                        "iteration": 542,
                        "remaining_time": 0.7089518623,
                        "learn": [
                          0.3205077995
                        ]
                      },
                      {
                        "passed_time": 0.843953063,
                        "iteration": 543,
                        "remaining_time": 0.707431244,
                        "learn": [
                          0.3203995474
                        ]
                      },
                      {
                        "passed_time": 0.8453973896,
                        "iteration": 544,
                        "remaining_time": 0.7057904812,
                        "learn": [
                          0.3203628983
                        ]
                      },
                      {
                        "passed_time": 0.846854456,
                        "iteration": 545,
                        "remaining_time": 0.7041610312,
                        "learn": [
                          0.3202900699
                        ]
                      },
                      {
                        "passed_time": 0.8476666495,
                        "iteration": 546,
                        "remaining_time": 0.7019981576,
                        "learn": [
                          0.3202816326
                        ]
                      },
                      {
                        "passed_time": 0.8490200901,
                        "iteration": 547,
                        "remaining_time": 0.7002866436,
                        "learn": [
                          0.3200630266
                        ]
                      },
                      {
                        "passed_time": 0.8504395259,
                        "iteration": 548,
                        "remaining_time": 0.6986306488,
                        "learn": [
                          0.3199533087
                        ]
                      },
                      {
                        "passed_time": 0.8521700509,
                        "iteration": 549,
                        "remaining_time": 0.6972300416,
                        "learn": [
                          0.3198410117
                        ]
                      },
                      {
                        "passed_time": 0.8536185759,
                        "iteration": 550,
                        "remaining_time": 0.6955984402,
                        "learn": [
                          0.3197322253
                        ]
                      },
                      {
                        "passed_time": 0.8549982816,
                        "iteration": 551,
                        "remaining_time": 0.6939116488,
                        "learn": [
                          0.3196694282
                        ]
                      },
                      {
                        "passed_time": 0.8564239001,
                        "iteration": 552,
                        "remaining_time": 0.6922630802,
                        "learn": [
                          0.3196157905
                        ]
                      },
                      {
                        "passed_time": 0.8578671955,
                        "iteration": 553,
                        "remaining_time": 0.6906295472,
                        "learn": [
                          0.3193985142
                        ]
                      },
                      {
                        "passed_time": 0.8592910409,
                        "iteration": 554,
                        "remaining_time": 0.6889811049,
                        "learn": [
                          0.3193123045
                        ]
                      },
                      {
                        "passed_time": 0.861050505,
                        "iteration": 555,
                        "remaining_time": 0.6876014824,
                        "learn": [
                          0.319249371
                        ]
                      },
                      {
                        "passed_time": 0.8626466816,
                        "iteration": 556,
                        "remaining_time": 0.6860906283,
                        "learn": [
                          0.3191793079
                        ]
                      },
                      {
                        "passed_time": 0.8642751486,
                        "iteration": 557,
                        "remaining_time": 0.684605046,
                        "learn": [
                          0.3190861203
                        ]
                      },
                      {
                        "passed_time": 0.8660471246,
                        "iteration": 558,
                        "remaining_time": 0.6832321681,
                        "learn": [
                          0.319014648
                        ]
                      },
                      {
                        "passed_time": 0.8674978696,
                        "iteration": 559,
                        "remaining_time": 0.681605469,
                        "learn": [
                          0.3189327134
                        ]
                      },
                      {
                        "passed_time": 0.8689727266,
                        "iteration": 560,
                        "remaining_time": 0.6799982656,
                        "learn": [
                          0.3186316283
                        ]
                      },
                      {
                        "passed_time": 0.8704243025,
                        "iteration": 561,
                        "remaining_time": 0.6783733888,
                        "learn": [
                          0.3185309334
                        ]
                      },
                      {
                        "passed_time": 0.8718779823,
                        "iteration": 562,
                        "remaining_time": 0.6767507607,
                        "learn": [
                          0.3183904596
                        ]
                      },
                      {
                        "passed_time": 0.8729120519,
                        "iteration": 563,
                        "remaining_time": 0.6748043522,
                        "learn": [
                          0.3183511268
                        ]
                      },
                      {
                        "passed_time": 0.8743388283,
                        "iteration": 564,
                        "remaining_time": 0.6731635227,
                        "learn": [
                          0.3182326748
                        ]
                      },
                      {
                        "passed_time": 0.8758290826,
                        "iteration": 565,
                        "remaining_time": 0.6715721234,
                        "learn": [
                          0.3181541233
                        ]
                      },
                      {
                        "passed_time": 0.8772079266,
                        "iteration": 566,
                        "remaining_time": 0.6698960003,
                        "learn": [
                          0.318097029
                        ]
                      },
                      {
                        "passed_time": 0.8782238955,
                        "iteration": 567,
                        "remaining_time": 0.6679449346,
                        "learn": [
                          0.318074857
                        ]
                      },
                      {
                        "passed_time": 0.8796492471,
                        "iteration": 568,
                        "remaining_time": 0.6663072504,
                        "learn": [
                          0.3180191087
                        ]
                      },
                      {
                        "passed_time": 0.8810548558,
                        "iteration": 569,
                        "remaining_time": 0.6646554175,
                        "learn": [
                          0.317888175
                        ]
                      },
                      {
                        "passed_time": 0.8825149739,
                        "iteration": 570,
                        "remaining_time": 0.6630454007,
                        "learn": [
                          0.3177336916
                        ]
                      },
                      {
                        "passed_time": 0.8839297802,
                        "iteration": 571,
                        "remaining_time": 0.6614020033,
                        "learn": [
                          0.3176408634
                        ]
                      },
                      {
                        "passed_time": 0.8854311132,
                        "iteration": 572,
                        "remaining_time": 0.6598238837,
                        "learn": [
                          0.3175828799
                        ]
                      },
                      {
                        "passed_time": 0.8861581773,
                        "iteration": 573,
                        "remaining_time": 0.6576713999,
                        "learn": [
                          0.3175739599
                        ]
                      },
                      {
                        "passed_time": 0.8875601825,
                        "iteration": 574,
                        "remaining_time": 0.6560227436,
                        "learn": [
                          0.3175220163
                        ]
                      },
                      {
                        "passed_time": 0.888987521,
                        "iteration": 575,
                        "remaining_time": 0.6543935919,
                        "learn": [
                          0.3174703122
                        ]
                      },
                      {
                        "passed_time": 0.8904543519,
                        "iteration": 576,
                        "remaining_time": 0.6527940916,
                        "learn": [
                          0.3173625304
                        ]
                      },
                      {
                        "passed_time": 0.8918459952,
                        "iteration": 577,
                        "remaining_time": 0.6511401557,
                        "learn": [
                          0.3172170269
                        ]
                      },
                      {
                        "passed_time": 0.8932771382,
                        "iteration": 578,
                        "remaining_time": 0.6495158466,
                        "learn": [
                          0.3171394851
                        ]
                      },
                      {
                        "passed_time": 0.8947087181,
                        "iteration": 579,
                        "remaining_time": 0.64789252,
                        "learn": [
                          0.3170281359
                        ]
                      },
                      {
                        "passed_time": 0.8961267235,
                        "iteration": 580,
                        "remaining_time": 0.6462600639,
                        "learn": [
                          0.3169832287
                        ]
                      },
                      {
                        "passed_time": 0.8975224421,
                        "iteration": 581,
                        "remaining_time": 0.6446123381,
                        "learn": [
                          0.3168413823
                        ]
                      },
                      {
                        "passed_time": 0.8989502885,
                        "iteration": 582,
                        "remaining_time": 0.6429884568,
                        "learn": [
                          0.3167043726
                        ]
                      },
                      {
                        "passed_time": 0.9003160523,
                        "iteration": 583,
                        "remaining_time": 0.6413210235,
                        "learn": [
                          0.3165079933
                        ]
                      },
                      {
                        "passed_time": 0.9017584158,
                        "iteration": 584,
                        "remaining_time": 0.6397089617,
                        "learn": [
                          0.3164576919
                        ]
                      },
                      {
                        "passed_time": 0.9031266914,
                        "iteration": 585,
                        "remaining_time": 0.6380451369,
                        "learn": [
                          0.3163234768
                        ]
                      },
                      {
                        "passed_time": 0.9045534822,
                        "iteration": 586,
                        "remaining_time": 0.6364234892,
                        "learn": [
                          0.3161982622
                        ]
                      },
                      {
                        "passed_time": 0.9059527838,
                        "iteration": 587,
                        "remaining_time": 0.6347832431,
                        "learn": [
                          0.316097248
                        ]
                      },
                      {
                        "passed_time": 0.9073269291,
                        "iteration": 588,
                        "remaining_time": 0.6331262612,
                        "learn": [
                          0.3158549894
                        ]
                      },
                      {
                        "passed_time": 0.9087395187,
                        "iteration": 589,
                        "remaining_time": 0.6314969537,
                        "learn": [
                          0.3157801041
                        ]
                      },
                      {
                        "passed_time": 0.9101978482,
                        "iteration": 590,
                        "remaining_time": 0.6299000337,
                        "learn": [
                          0.3156526984
                        ]
                      },
                      {
                        "passed_time": 0.9110134969,
                        "iteration": 591,
                        "remaining_time": 0.6278606533,
                        "learn": [
                          0.3156324867
                        ]
                      },
                      {
                        "passed_time": 0.912361357,
                        "iteration": 592,
                        "remaining_time": 0.6261906784,
                        "learn": [
                          0.3155633806
                        ]
                      },
                      {
                        "passed_time": 0.9137425697,
                        "iteration": 593,
                        "remaining_time": 0.6245445847,
                        "learn": [
                          0.3154417653
                        ]
                      },
                      {
                        "passed_time": 0.9151832663,
                        "iteration": 594,
                        "remaining_time": 0.6229398703,
                        "learn": [
                          0.3153039966
                        ]
                      },
                      {
                        "passed_time": 0.916566706,
                        "iteration": 595,
                        "remaining_time": 0.6212968947,
                        "learn": [
                          0.3151648292
                        ]
                      },
                      {
                        "passed_time": 0.917972723,
                        "iteration": 596,
                        "remaining_time": 0.6196700291,
                        "learn": [
                          0.3150101588
                        ]
                      },
                      {
                        "passed_time": 0.9193495308,
                        "iteration": 597,
                        "remaining_time": 0.6180242665,
                        "learn": [
                          0.3149550569
                        ]
                      },
                      {
                        "passed_time": 0.9207351023,
                        "iteration": 598,
                        "remaining_time": 0.6163852688,
                        "learn": [
                          0.3149056924
                        ]
                      },
                      {
                        "passed_time": 0.9221511507,
                        "iteration": 599,
                        "remaining_time": 0.6147674338,
                        "learn": [
                          0.3148054224
                        ]
                      },
                      {
                        "passed_time": 0.9235598669,
                        "iteration": 600,
                        "remaining_time": 0.6131454025,
                        "learn": [
                          0.3146687851
                        ]
                      },
                      {
                        "passed_time": 0.9252430103,
                        "iteration": 601,
                        "remaining_time": 0.6117055118,
                        "learn": [
                          0.3145538059
                        ]
                      },
                      {
                        "passed_time": 0.9261548256,
                        "iteration": 602,
                        "remaining_time": 0.6097569913,
                        "learn": [
                          0.3145461578
                        ]
                      },
                      {
                        "passed_time": 0.9275270143,
                        "iteration": 603,
                        "remaining_time": 0.6081137378,
                        "learn": [
                          0.3144374923
                        ]
                      },
                      {
                        "passed_time": 0.92896932,
                        "iteration": 604,
                        "remaining_time": 0.6065171594,
                        "learn": [
                          0.3143131476
                        ]
                      },
                      {
                        "passed_time": 0.9303997391,
                        "iteration": 605,
                        "remaining_time": 0.6049133617,
                        "learn": [
                          0.3142265789
                        ]
                      },
                      {
                        "passed_time": 0.93181038,
                        "iteration": 606,
                        "remaining_time": 0.6032973301,
                        "learn": [
                          0.3140995549
                        ]
                      },
                      {
                        "passed_time": 0.9332844845,
                        "iteration": 607,
                        "remaining_time": 0.6017228913,
                        "learn": [
                          0.3140545329
                        ]
                      },
                      {
                        "passed_time": 0.9347220575,
                        "iteration": 608,
                        "remaining_time": 0.6001253276,
                        "learn": [
                          0.3138537654
                        ]
                      },
                      {
                        "passed_time": 0.9364742476,
                        "iteration": 609,
                        "remaining_time": 0.598729437,
                        "learn": [
                          0.3136966567
                        ]
                      },
                      {
                        "passed_time": 0.9380328019,
                        "iteration": 610,
                        "remaining_time": 0.5972090997,
                        "learn": [
                          0.3136453454
                        ]
                      },
                      {
                        "passed_time": 0.961286794,
                        "iteration": 611,
                        "remaining_time": 0.6094432616,
                        "learn": [
                          0.3135457924
                        ]
                      },
                      {
                        "passed_time": 0.9637981177,
                        "iteration": 612,
                        "remaining_time": 0.6084663484,
                        "learn": [
                          0.3134377839
                        ]
                      },
                      {
                        "passed_time": 0.9700042058,
                        "iteration": 613,
                        "remaining_time": 0.6098072043,
                        "learn": [
                          0.3133714983
                        ]
                      },
                      {
                        "passed_time": 0.9758395393,
                        "iteration": 614,
                        "remaining_time": 0.6108914189,
                        "learn": [
                          0.3132152668
                        ]
                      },
                      {
                        "passed_time": 0.9886832647,
                        "iteration": 615,
                        "remaining_time": 0.6163220351,
                        "learn": [
                          0.3131232381
                        ]
                      },
                      {
                        "passed_time": 0.9912678611,
                        "iteration": 616,
                        "remaining_time": 0.6153251067,
                        "learn": [
                          0.3130685085
                        ]
                      },
                      {
                        "passed_time": 0.9928103952,
                        "iteration": 617,
                        "remaining_time": 0.6136789174,
                        "learn": [
                          0.3129312822
                        ]
                      },
                      {
                        "passed_time": 0.9942925128,
                        "iteration": 618,
                        "remaining_time": 0.6119958762,
                        "learn": [
                          0.3128472874
                        ]
                      },
                      {
                        "passed_time": 0.995753331,
                        "iteration": 619,
                        "remaining_time": 0.6103004287,
                        "learn": [
                          0.3127962806
                        ]
                      },
                      {
                        "passed_time": 0.9976056555,
                        "iteration": 620,
                        "remaining_time": 0.6088446754,
                        "learn": [
                          0.3125858171
                        ]
                      },
                      {
                        "passed_time": 0.9991599628,
                        "iteration": 621,
                        "remaining_time": 0.6072065369,
                        "learn": [
                          0.312521011
                        ]
                      },
                      {
                        "passed_time": 1.000691403,
                        "iteration": 622,
                        "remaining_time": 0.6055548296,
                        "learn": [
                          0.312412486
                        ]
                      },
                      {
                        "passed_time": 1.002228612,
                        "iteration": 623,
                        "remaining_time": 0.6039069844,
                        "learn": [
                          0.3123525745
                        ]
                      },
                      {
                        "passed_time": 1.00370753,
                        "iteration": 624,
                        "remaining_time": 0.6022245183,
                        "learn": [
                          0.312288813
                        ]
                      },
                      {
                        "passed_time": 1.005213841,
                        "iteration": 625,
                        "remaining_time": 0.6005590677,
                        "learn": [
                          0.3122109366
                        ]
                      },
                      {
                        "passed_time": 1.006731858,
                        "iteration": 626,
                        "remaining_time": 0.5989010892,
                        "learn": [
                          0.3121054706
                        ]
                      },
                      {
                        "passed_time": 1.008241281,
                        "iteration": 627,
                        "remaining_time": 0.5972384661,
                        "learn": [
                          0.3120637206
                        ]
                      },
                      {
                        "passed_time": 1.009729351,
                        "iteration": 628,
                        "remaining_time": 0.5955637347,
                        "learn": [
                          0.3120157516
                        ]
                      },
                      {
                        "passed_time": 1.011249215,
                        "iteration": 629,
                        "remaining_time": 0.5939082689,
                        "learn": [
                          0.311952797
                        ]
                      },
                      {
                        "passed_time": 1.012725676,
                        "iteration": 630,
                        "remaining_time": 0.592227852,
                        "learn": [
                          0.3118958319
                        ]
                      },
                      {
                        "passed_time": 1.014224262,
                        "iteration": 631,
                        "remaining_time": 0.5905609625,
                        "learn": [
                          0.3117858468
                        ]
                      },
                      {
                        "passed_time": 1.015715564,
                        "iteration": 632,
                        "remaining_time": 0.5888903821,
                        "learn": [
                          0.3116477361
                        ]
                      },
                      {
                        "passed_time": 1.017242904,
                        "iteration": 633,
                        "remaining_time": 0.5872411718,
                        "learn": [
                          0.3115629252
                        ]
                      },
                      {
                        "passed_time": 1.018720353,
                        "iteration": 634,
                        "remaining_time": 0.5855636677,
                        "learn": [
                          0.3114205732
                        ]
                      },
                      {
                        "passed_time": 1.020231061,
                        "iteration": 635,
                        "remaining_time": 0.5839058274,
                        "learn": [
                          0.3113602465
                        ]
                      },
                      {
                        "passed_time": 1.021728935,
                        "iteration": 636,
                        "remaining_time": 0.5822411358,
                        "learn": [
                          0.311235046
                        ]
                      },
                      {
                        "passed_time": 1.023242014,
                        "iteration": 637,
                        "remaining_time": 0.580585594,
                        "learn": [
                          0.3111367133
                        ]
                      },
                      {
                        "passed_time": 1.024716294,
                        "iteration": 638,
                        "remaining_time": 0.5789085792,
                        "learn": [
                          0.3110636032
                        ]
                      },
                      {
                        "passed_time": 1.02649837,
                        "iteration": 639,
                        "remaining_time": 0.5774053331,
                        "learn": [
                          0.3108479397
                        ]
                      },
                      {
                        "passed_time": 1.029702287,
                        "iteration": 640,
                        "remaining_time": 0.5766975368,
                        "learn": [
                          0.3107432152
                        ]
                      },
                      {
                        "passed_time": 1.031222689,
                        "iteration": 641,
                        "remaining_time": 0.5750431819,
                        "learn": [
                          0.3104965479
                        ]
                      },
                      {
                        "passed_time": 1.032924526,
                        "iteration": 642,
                        "remaining_time": 0.5734899781,
                        "learn": [
                          0.3104546495
                        ]
                      },
                      {
                        "passed_time": 1.034458352,
                        "iteration": 643,
                        "remaining_time": 0.5718434369,
                        "learn": [
                          0.310381301
                        ]
                      },
                      {
                        "passed_time": 1.035885967,
                        "iteration": 644,
                        "remaining_time": 0.5701387879,
                        "learn": [
                          0.3103113884
                        ]
                      },
                      {
                        "passed_time": 1.037343175,
                        "iteration": 645,
                        "remaining_time": 0.5684512133,
                        "learn": [
                          0.3102544916
                        ]
                      },
                      {
                        "passed_time": 1.038784457,
                        "iteration": 646,
                        "remaining_time": 0.5667556619,
                        "learn": [
                          0.3101075295
                        ]
                      },
                      {
                        "passed_time": 1.040236387,
                        "iteration": 647,
                        "remaining_time": 0.5650666791,
                        "learn": [
                          0.3100587285
                        ]
                      },
                      {
                        "passed_time": 1.041633289,
                        "iteration": 648,
                        "remaining_time": 0.5633486663,
                        "learn": [
                          0.3099374264
                        ]
                      },
                      {
                        "passed_time": 1.043094145,
                        "iteration": 649,
                        "remaining_time": 0.5616660783,
                        "learn": [
                          0.3098411383
                        ]
                      },
                      {
                        "passed_time": 1.044533162,
                        "iteration": 650,
                        "remaining_time": 0.5599724632,
                        "learn": [
                          0.3098000433
                        ]
                      },
                      {
                        "passed_time": 1.045960441,
                        "iteration": 651,
                        "remaining_time": 0.5582733645,
                        "learn": [
                          0.3096618809
                        ]
                      },
                      {
                        "passed_time": 1.04737483,
                        "iteration": 652,
                        "remaining_time": 0.556568248,
                        "learn": [
                          0.3096120424
                        ]
                      },
                      {
                        "passed_time": 1.048802329,
                        "iteration": 653,
                        "remaining_time": 0.5548709571,
                        "learn": [
                          0.3095004317
                        ]
                      },
                      {
                        "passed_time": 1.050259492,
                        "iteration": 654,
                        "remaining_time": 0.553190114,
                        "learn": [
                          0.309226178
                        ]
                      },
                      {
                        "passed_time": 1.051671411,
                        "iteration": 655,
                        "remaining_time": 0.5514862275,
                        "learn": [
                          0.3090704395
                        ]
                      },
                      {
                        "passed_time": 1.054155375,
                        "iteration": 656,
                        "remaining_time": 0.5503429125,
                        "learn": [
                          0.308934987
                        ]
                      },
                      {
                        "passed_time": 1.057560886,
                        "iteration": 657,
                        "remaining_time": 0.5496745029,
                        "learn": [
                          0.3087159186
                        ]
                      },
                      {
                        "passed_time": 1.059772764,
                        "iteration": 658,
                        "remaining_time": 0.5483801405,
                        "learn": [
                          0.3086411533
                        ]
                      },
                      {
                        "passed_time": 1.061949369,
                        "iteration": 659,
                        "remaining_time": 0.5470648262,
                        "learn": [
                          0.308398843
                        ]
                      },
                      {
                        "passed_time": 1.066852189,
                        "iteration": 660,
                        "remaining_time": 0.5471450712,
                        "learn": [
                          0.3083128399
                        ]
                      },
                      {
                        "passed_time": 1.068501613,
                        "iteration": 661,
                        "remaining_time": 0.5455491618,
                        "learn": [
                          0.3081738427
                        ]
                      },
                      {
                        "passed_time": 1.070089945,
                        "iteration": 662,
                        "remaining_time": 0.5439220384,
                        "learn": [
                          0.3080535127
                        ]
                      },
                      {
                        "passed_time": 1.071596934,
                        "iteration": 663,
                        "remaining_time": 0.5422538701,
                        "learn": [
                          0.3079764767
                        ]
                      },
                      {
                        "passed_time": 1.073045444,
                        "iteration": 664,
                        "remaining_time": 0.5405567274,
                        "learn": [
                          0.3079115608
                        ]
                      },
                      {
                        "passed_time": 1.074528705,
                        "iteration": 665,
                        "remaining_time": 0.5388777592,
                        "learn": [
                          0.3077016001
                        ]
                      },
                      {
                        "passed_time": 1.075957774,
                        "iteration": 666,
                        "remaining_time": 0.5371723218,
                        "learn": [
                          0.3075876721
                        ]
                      },
                      {
                        "passed_time": 1.077410147,
                        "iteration": 667,
                        "remaining_time": 0.5354792948,
                        "learn": [
                          0.307530132
                        ]
                      },
                      {
                        "passed_time": 1.078805475,
                        "iteration": 668,
                        "remaining_time": 0.5337587627,
                        "learn": [
                          0.307468005
                        ]
                      },
                      {
                        "passed_time": 1.080214545,
                        "iteration": 669,
                        "remaining_time": 0.53204597,
                        "learn": [
                          0.3073219464
                        ]
                      },
                      {
                        "passed_time": 1.081592675,
                        "iteration": 670,
                        "remaining_time": 0.5303189122,
                        "learn": [
                          0.3072464425
                        ]
                      },
                      {
                        "passed_time": 1.083219782,
                        "iteration": 671,
                        "remaining_time": 0.5287144175,
                        "learn": [
                          0.3071208981
                        ]
                      },
                      {
                        "passed_time": 1.084727614,
                        "iteration": 672,
                        "remaining_time": 0.5270519014,
                        "learn": [
                          0.3070043151
                        ]
                      },
                      {
                        "passed_time": 1.086137448,
                        "iteration": 673,
                        "remaining_time": 0.5253424452,
                        "learn": [
                          0.3068709775
                        ]
                      },
                      {
                        "passed_time": 1.087522447,
                        "iteration": 674,
                        "remaining_time": 0.5236219191,
                        "learn": [
                          0.3067957719
                        ]
                      },
                      {
                        "passed_time": 1.088944512,
                        "iteration": 675,
                        "remaining_time": 0.5219201509,
                        "learn": [
                          0.3067314131
                        ]
                      },
                      {
                        "passed_time": 1.090351135,
                        "iteration": 676,
                        "remaining_time": 0.5202118415,
                        "learn": [
                          0.3065681881
                        ]
                      },
                      {
                        "passed_time": 1.091775692,
                        "iteration": 677,
                        "remaining_time": 0.5185129391,
                        "learn": [
                          0.3063230196
                        ]
                      },
                      {
                        "passed_time": 1.093150431,
                        "iteration": 678,
                        "remaining_time": 0.5167912935,
                        "learn": [
                          0.3062008558
                        ]
                      },
                      {
                        "passed_time": 1.094622237,
                        "iteration": 679,
                        "remaining_time": 0.5151163466,
                        "learn": [
                          0.3061315345
                        ]
                      },
                      {
                        "passed_time": 1.096030344,
                        "iteration": 680,
                        "remaining_time": 0.513412158,
                        "learn": [
                          0.306008234
                        ]
                      },
                      {
                        "passed_time": 1.097422443,
                        "iteration": 681,
                        "remaining_time": 0.5117013739,
                        "learn": [
                          0.3059730071
                        ]
                      },
                      {
                        "passed_time": 1.098358065,
                        "iteration": 682,
                        "remaining_time": 0.5097796583,
                        "learn": [
                          0.3059111758
                        ]
                      },
                      {
                        "passed_time": 1.099845582,
                        "iteration": 683,
                        "remaining_time": 0.5081157954,
                        "learn": [
                          0.3058682139
                        ]
                      },
                      {
                        "passed_time": 1.101303106,
                        "iteration": 684,
                        "remaining_time": 0.5064386544,
                        "learn": [
                          0.3058095873
                        ]
                      },
                      {
                        "passed_time": 1.102721008,
                        "iteration": 685,
                        "remaining_time": 0.5047440181,
                        "learn": [
                          0.3057283911
                        ]
                      },
                      {
                        "passed_time": 1.104187139,
                        "iteration": 686,
                        "remaining_time": 0.503072161,
                        "learn": [
                          0.3055438261
                        ]
                      },
                      {
                        "passed_time": 1.105010715,
                        "iteration": 687,
                        "remaining_time": 0.5011095102,
                        "learn": [
                          0.3055294484
                        ]
                      },
                      {
                        "passed_time": 1.106375065,
                        "iteration": 688,
                        "remaining_time": 0.4993942603,
                        "learn": [
                          0.3053549736
                        ]
                      },
                      {
                        "passed_time": 1.107784393,
                        "iteration": 689,
                        "remaining_time": 0.4977002347,
                        "learn": [
                          0.3052834359
                        ]
                      },
                      {
                        "passed_time": 1.109206224,
                        "iteration": 690,
                        "remaining_time": 0.4960126243,
                        "learn": [
                          0.3052373252
                        ]
                      },
                      {
                        "passed_time": 1.110602473,
                        "iteration": 691,
                        "remaining_time": 0.4943143955,
                        "learn": [
                          0.3051284625
                        ]
                      },
                      {
                        "passed_time": 1.111991073,
                        "iteration": 692,
                        "remaining_time": 0.4926136501,
                        "learn": [
                          0.3049945141
                        ]
                      },
                      {
                        "passed_time": 1.113377622,
                        "iteration": 693,
                        "remaining_time": 0.4909128995,
                        "learn": [
                          0.3048362109
                        ]
                      },
                      {
                        "passed_time": 1.114809651,
                        "iteration": 694,
                        "remaining_time": 0.4892330124,
                        "learn": [
                          0.3044931555
                        ]
                      },
                      {
                        "passed_time": 1.116189063,
                        "iteration": 695,
                        "remaining_time": 0.4875308551,
                        "learn": [
                          0.3043994327
                        ]
                      },
                      {
                        "passed_time": 1.117642421,
                        "iteration": 696,
                        "remaining_time": 0.4858617697,
                        "learn": [
                          0.3042597649
                        ]
                      },
                      {
                        "passed_time": 1.11909229,
                        "iteration": 697,
                        "remaining_time": 0.4841917931,
                        "learn": [
                          0.3041375886
                        ]
                      },
                      {
                        "passed_time": 1.120543768,
                        "iteration": 698,
                        "remaining_time": 0.482523139,
                        "learn": [
                          0.3040868419
                        ]
                      },
                      {
                        "passed_time": 1.121935562,
                        "iteration": 699,
                        "remaining_time": 0.4808295266,
                        "learn": [
                          0.3039994251
                        ]
                      },
                      {
                        "passed_time": 1.12336494,
                        "iteration": 700,
                        "remaining_time": 0.4791528062,
                        "learn": [
                          0.3039184083
                        ]
                      },
                      {
                        "passed_time": 1.124777293,
                        "iteration": 701,
                        "remaining_time": 0.4774695631,
                        "learn": [
                          0.3038885497
                        ]
                      },
                      {
                        "passed_time": 1.126229103,
                        "iteration": 702,
                        "remaining_time": 0.4758037604,
                        "learn": [
                          0.3037804671
                        ]
                      },
                      {
                        "passed_time": 1.127651857,
                        "iteration": 703,
                        "remaining_time": 0.474126349,
                        "learn": [
                          0.3036813774
                        ]
                      },
                      {
                        "passed_time": 1.129054737,
                        "iteration": 704,
                        "remaining_time": 0.472441344,
                        "learn": [
                          0.3035125494
                        ]
                      },
                      {
                        "passed_time": 1.130438807,
                        "iteration": 705,
                        "remaining_time": 0.4707493049,
                        "learn": [
                          0.3034160189
                        ]
                      },
                      {
                        "passed_time": 1.131855036,
                        "iteration": 706,
                        "remaining_time": 0.4690714649,
                        "learn": [
                          0.3032527685
                        ]
                      },
                      {
                        "passed_time": 1.133312811,
                        "iteration": 707,
                        "remaining_time": 0.4674114982,
                        "learn": [
                          0.3029617916
                        ]
                      },
                      {
                        "passed_time": 1.134720829,
                        "iteration": 708,
                        "remaining_time": 0.4657316803,
                        "learn": [
                          0.3028802444
                        ]
                      },
                      {
                        "passed_time": 1.136110639,
                        "iteration": 709,
                        "remaining_time": 0.4640451905,
                        "learn": [
                          0.3028333175
                        ]
                      },
                      {
                        "passed_time": 1.137534518,
                        "iteration": 710,
                        "remaining_time": 0.4623733834,
                        "learn": [
                          0.3027314755
                        ]
                      },
                      {
                        "passed_time": 1.138978988,
                        "iteration": 711,
                        "remaining_time": 0.460710602,
                        "learn": [
                          0.3026887961
                        ]
                      },
                      {
                        "passed_time": 1.14036698,
                        "iteration": 712,
                        "remaining_time": 0.4590256987,
                        "learn": [
                          0.3025590485
                        ]
                      },
                      {
                        "passed_time": 1.141800633,
                        "iteration": 713,
                        "remaining_time": 0.4573599173,
                        "learn": [
                          0.3024553184
                        ]
                      },
                      {
                        "passed_time": 1.143191395,
                        "iteration": 714,
                        "remaining_time": 0.4556776888,
                        "learn": [
                          0.3024281958
                        ]
                      },
                      {
                        "passed_time": 1.144614207,
                        "iteration": 715,
                        "remaining_time": 0.454008987,
                        "learn": [
                          0.3022719186
                        ]
                      },
                      {
                        "passed_time": 1.14603996,
                        "iteration": 716,
                        "remaining_time": 0.4523421322,
                        "learn": [
                          0.3021912196
                        ]
                      },
                      {
                        "passed_time": 1.147469993,
                        "iteration": 717,
                        "remaining_time": 0.4506776296,
                        "learn": [
                          0.3019797554
                        ]
                      },
                      {
                        "passed_time": 1.148859201,
                        "iteration": 718,
                        "remaining_time": 0.4489978239,
                        "learn": [
                          0.3019364662
                        ]
                      },
                      {
                        "passed_time": 1.150498891,
                        "iteration": 719,
                        "remaining_time": 0.4474162355,
                        "learn": [
                          0.3018369019
                        ]
                      },
                      {
                        "passed_time": 1.15194195,
                        "iteration": 720,
                        "remaining_time": 0.4457583966,
                        "learn": [
                          0.3014778188
                        ]
                      },
                      {
                        "passed_time": 1.153368465,
                        "iteration": 721,
                        "remaining_time": 0.444094783,
                        "learn": [
                          0.3012445178
                        ]
                      },
                      {
                        "passed_time": 1.156615306,
                        "iteration": 722,
                        "remaining_time": 0.4431292391,
                        "learn": [
                          0.3011785672
                        ]
                      },
                      {
                        "passed_time": 1.159136945,
                        "iteration": 723,
                        "remaining_time": 0.441880935,
                        "learn": [
                          0.3010524525
                        ]
                      },
                      {
                        "passed_time": 1.160600422,
                        "iteration": 724,
                        "remaining_time": 0.4402277461,
                        "learn": [
                          0.3009926216
                        ]
                      },
                      {
                        "passed_time": 1.162061027,
                        "iteration": 725,
                        "remaining_time": 0.4385739963,
                        "learn": [
                          0.3008899374
                        ]
                      },
                      {
                        "passed_time": 1.163482283,
                        "iteration": 726,
                        "remaining_time": 0.4369060017,
                        "learn": [
                          0.3006483388
                        ]
                      },
                      {
                        "passed_time": 1.164902619,
                        "iteration": 727,
                        "remaining_time": 0.4352383411,
                        "learn": [
                          0.3004663743
                        ]
                      },
                      {
                        "passed_time": 1.166335992,
                        "iteration": 728,
                        "remaining_time": 0.4335762055,
                        "learn": [
                          0.300410799
                        ]
                      },
                      {
                        "passed_time": 1.167757484,
                        "iteration": 729,
                        "remaining_time": 0.4319103022,
                        "learn": [
                          0.3002647568
                        ]
                      },
                      {
                        "passed_time": 1.169200321,
                        "iteration": 730,
                        "remaining_time": 0.4302529226,
                        "learn": [
                          0.3001438427
                        ]
                      },
                      {
                        "passed_time": 1.170623347,
                        "iteration": 731,
                        "remaining_time": 0.4285888757,
                        "learn": [
                          0.3001010997
                        ]
                      },
                      {
                        "passed_time": 1.17201717,
                        "iteration": 732,
                        "remaining_time": 0.4269148491,
                        "learn": [
                          0.2999886058
                        ]
                      },
                      {
                        "passed_time": 1.173411158,
                        "iteration": 733,
                        "remaining_time": 0.4252416457,
                        "learn": [
                          0.2999014201
                        ]
                      },
                      {
                        "passed_time": 1.174834807,
                        "iteration": 734,
                        "remaining_time": 0.4235798963,
                        "learn": [
                          0.2997848932
                        ]
                      },
                      {
                        "passed_time": 1.176261421,
                        "iteration": 735,
                        "remaining_time": 0.4219198575,
                        "learn": [
                          0.29971252
                        ]
                      },
                      {
                        "passed_time": 1.177654106,
                        "iteration": 736,
                        "remaining_time": 0.4202483445,
                        "learn": [
                          0.2995159897
                        ]
                      },
                      {
                        "passed_time": 1.179082668,
                        "iteration": 737,
                        "remaining_time": 0.4185903237,
                        "learn": [
                          0.2994632147
                        ]
                      },
                      {
                        "passed_time": 1.180493505,
                        "iteration": 738,
                        "remaining_time": 0.416926664,
                        "learn": [
                          0.299422895
                        ]
                      },
                      {
                        "passed_time": 1.181888251,
                        "iteration": 739,
                        "remaining_time": 0.4152580343,
                        "learn": [
                          0.2993449587
                        ]
                      },
                      {
                        "passed_time": 1.183309995,
                        "iteration": 740,
                        "remaining_time": 0.41359958,
                        "learn": [
                          0.2992737538
                        ]
                      },
                      {
                        "passed_time": 1.184773059,
                        "iteration": 741,
                        "remaining_time": 0.411956131,
                        "learn": [
                          0.2992199663
                        ]
                      },
                      {
                        "passed_time": 1.186177474,
                        "iteration": 742,
                        "remaining_time": 0.4102928814,
                        "learn": [
                          0.2989109104
                        ]
                      },
                      {
                        "passed_time": 1.187664131,
                        "iteration": 743,
                        "remaining_time": 0.4086586259,
                        "learn": [
                          0.2988569625
                        ]
                      },
                      {
                        "passed_time": 1.189083706,
                        "iteration": 744,
                        "remaining_time": 0.4070018053,
                        "learn": [
                          0.2987142077
                        ]
                      },
                      {
                        "passed_time": 1.190534121,
                        "iteration": 745,
                        "remaining_time": 0.4053561218,
                        "learn": [
                          0.2986342732
                        ]
                      },
                      {
                        "passed_time": 1.191975264,
                        "iteration": 746,
                        "remaining_time": 0.4037078204,
                        "learn": [
                          0.2984661963
                        ]
                      },
                      {
                        "passed_time": 1.193586105,
                        "iteration": 747,
                        "remaining_time": 0.4021172439,
                        "learn": [
                          0.2983996954
                        ]
                      },
                      {
                        "passed_time": 1.195075828,
                        "iteration": 748,
                        "remaining_time": 0.4004860252,
                        "learn": [
                          0.2981082894
                        ]
                      },
                      {
                        "passed_time": 1.196585036,
                        "iteration": 749,
                        "remaining_time": 0.3988616787,
                        "learn": [
                          0.2980616813
                        ]
                      },
                      {
                        "passed_time": 1.200107205,
                        "iteration": 750,
                        "remaining_time": 0.3979050519,
                        "learn": [
                          0.2979620997
                        ]
                      },
                      {
                        "passed_time": 1.201562637,
                        "iteration": 751,
                        "remaining_time": 0.3962600187,
                        "learn": [
                          0.2978062636
                        ]
                      },
                      {
                        "passed_time": 1.203083618,
                        "iteration": 752,
                        "remaining_time": 0.3946369902,
                        "learn": [
                          0.2976206585
                        ]
                      },
                      {
                        "passed_time": 1.204512162,
                        "iteration": 753,
                        "remaining_time": 0.392984074,
                        "learn": [
                          0.2974915242
                        ]
                      },
                      {
                        "passed_time": 1.20595095,
                        "iteration": 754,
                        "remaining_time": 0.3913350766,
                        "learn": [
                          0.2973620116
                        ]
                      },
                      {
                        "passed_time": 1.207367778,
                        "iteration": 755,
                        "remaining_time": 0.3896795474,
                        "learn": [
                          0.2972318657
                        ]
                      },
                      {
                        "passed_time": 1.20878438,
                        "iteration": 756,
                        "remaining_time": 0.3880245762,
                        "learn": [
                          0.2972126859
                        ]
                      },
                      {
                        "passed_time": 1.210211529,
                        "iteration": 757,
                        "remaining_time": 0.3863736016,
                        "learn": [
                          0.2971475666
                        ]
                      },
                      {
                        "passed_time": 1.211821082,
                        "iteration": 758,
                        "remaining_time": 0.384781134,
                        "learn": [
                          0.2970739018
                        ]
                      },
                      {
                        "passed_time": 1.213205702,
                        "iteration": 759,
                        "remaining_time": 0.3831175902,
                        "learn": [
                          0.2969404227
                        ]
                      },
                      {
                        "passed_time": 1.21479116,
                        "iteration": 760,
                        "remaining_time": 0.3815178544,
                        "learn": [
                          0.2968920639
                        ]
                      },
                      {
                        "passed_time": 1.216191001,
                        "iteration": 761,
                        "remaining_time": 0.3798601815,
                        "learn": [
                          0.2968265459
                        ]
                      },
                      {
                        "passed_time": 1.217657419,
                        "iteration": 762,
                        "remaining_time": 0.3782238641,
                        "learn": [
                          0.2966576254
                        ]
                      },
                      {
                        "passed_time": 1.219095169,
                        "iteration": 763,
                        "remaining_time": 0.3765791359,
                        "learn": [
                          0.2965917032
                        ]
                      },
                      {
                        "passed_time": 1.220554596,
                        "iteration": 764,
                        "remaining_time": 0.3749416079,
                        "learn": [
                          0.2963978513
                        ]
                      },
                      {
                        "passed_time": 1.221951877,
                        "iteration": 765,
                        "remaining_time": 0.3732855603,
                        "learn": [
                          0.2962967793
                        ]
                      },
                      {
                        "passed_time": 1.223394343,
                        "iteration": 766,
                        "remaining_time": 0.371643914,
                        "learn": [
                          0.2962023517
                        ]
                      },
                      {
                        "passed_time": 1.224834378,
                        "iteration": 767,
                        "remaining_time": 0.3700020518,
                        "learn": [
                          0.2960678417
                        ]
                      },
                      {
                        "passed_time": 1.226268551,
                        "iteration": 768,
                        "remaining_time": 0.3683589536,
                        "learn": [
                          0.2959804033
                        ]
                      },
                      {
                        "passed_time": 1.22791469,
                        "iteration": 769,
                        "remaining_time": 0.3667797127,
                        "learn": [
                          0.2958884801
                        ]
                      },
                      {
                        "passed_time": 1.229371385,
                        "iteration": 770,
                        "remaining_time": 0.36514403,
                        "learn": [
                          0.2955595721
                        ]
                      },
                      {
                        "passed_time": 1.230791162,
                        "iteration": 771,
                        "remaining_time": 0.363497908,
                        "learn": [
                          0.2953965388
                        ]
                      },
                      {
                        "passed_time": 1.232219173,
                        "iteration": 772,
                        "remaining_time": 0.3618547896,
                        "learn": [
                          0.2953397529
                        ]
                      },
                      {
                        "passed_time": 1.233659934,
                        "iteration": 773,
                        "remaining_time": 0.3602159498,
                        "learn": [
                          0.2952481207
                        ]
                      },
                      {
                        "passed_time": 1.235040086,
                        "iteration": 774,
                        "remaining_time": 0.358560025,
                        "learn": [
                          0.2951742711
                        ]
                      },
                      {
                        "passed_time": 1.236581179,
                        "iteration": 775,
                        "remaining_time": 0.3569512682,
                        "learn": [
                          0.2949391438
                        ]
                      },
                      {
                        "passed_time": 1.237984843,
                        "iteration": 776,
                        "remaining_time": 0.3553032431,
                        "learn": [
                          0.294797225
                        ]
                      },
                      {
                        "passed_time": 1.239420195,
                        "iteration": 777,
                        "remaining_time": 0.3536648885,
                        "learn": [
                          0.2947086352
                        ]
                      },
                      {
                        "passed_time": 1.241543285,
                        "iteration": 778,
                        "remaining_time": 0.3522221644,
                        "learn": [
                          0.2946614968
                        ]
                      },
                      {
                        "passed_time": 1.243450374,
                        "iteration": 779,
                        "remaining_time": 0.3507167723,
                        "learn": [
                          0.2945478169
                        ]
                      },
                      {
                        "passed_time": 1.244891887,
                        "iteration": 780,
                        "remaining_time": 0.3490797993,
                        "learn": [
                          0.2944399296
                        ]
                      },
                      {
                        "passed_time": 1.246362157,
                        "iteration": 781,
                        "remaining_time": 0.3474513429,
                        "learn": [
                          0.2942843984
                        ]
                      },
                      {
                        "passed_time": 1.247764635,
                        "iteration": 782,
                        "remaining_time": 0.3458045029,
                        "learn": [
                          0.2941676482
                        ]
                      },
                      {
                        "passed_time": 1.249369988,
                        "iteration": 783,
                        "remaining_time": 0.3442141803,
                        "learn": [
                          0.2939968507
                        ]
                      },
                      {
                        "passed_time": 1.250797772,
                        "iteration": 784,
                        "remaining_time": 0.3425751858,
                        "learn": [
                          0.2939267048
                        ]
                      },
                      {
                        "passed_time": 1.252244526,
                        "iteration": 785,
                        "remaining_time": 0.3409418937,
                        "learn": [
                          0.2938614105
                        ]
                      },
                      {
                        "passed_time": 1.253630106,
                        "iteration": 786,
                        "remaining_time": 0.3392925192,
                        "learn": [
                          0.293587116
                        ]
                      },
                      {
                        "passed_time": 1.255112282,
                        "iteration": 787,
                        "remaining_time": 0.3376698018,
                        "learn": [
                          0.2934816862
                        ]
                      },
                      {
                        "passed_time": 1.256597777,
                        "iteration": 788,
                        "remaining_time": 0.3360483281,
                        "learn": [
                          0.2933516744
                        ]
                      },
                      {
                        "passed_time": 1.258047901,
                        "iteration": 789,
                        "remaining_time": 0.3344177964,
                        "learn": [
                          0.2932696746
                        ]
                      },
                      {
                        "passed_time": 1.25949802,
                        "iteration": 790,
                        "remaining_time": 0.3327877195,
                        "learn": [
                          0.2931462543
                        ]
                      },
                      {
                        "passed_time": 1.260894097,
                        "iteration": 791,
                        "remaining_time": 0.3311439041,
                        "learn": [
                          0.2930201787
                        ]
                      },
                      {
                        "passed_time": 1.262327927,
                        "iteration": 792,
                        "remaining_time": 0.3295105687,
                        "learn": [
                          0.2928708871
                        ]
                      },
                      {
                        "passed_time": 1.263784817,
                        "iteration": 793,
                        "remaining_time": 0.3278837182,
                        "learn": [
                          0.29282031
                        ]
                      },
                      {
                        "passed_time": 1.265214435,
                        "iteration": 794,
                        "remaining_time": 0.3262502631,
                        "learn": [
                          0.2925990921
                        ]
                      },
                      {
                        "passed_time": 1.266640971,
                        "iteration": 795,
                        "remaining_time": 0.3246165303,
                        "learn": [
                          0.2925259273
                        ]
                      },
                      {
                        "passed_time": 1.268094348,
                        "iteration": 796,
                        "remaining_time": 0.3229901539,
                        "learn": [
                          0.292384533
                        ]
                      },
                      {
                        "passed_time": 1.269528213,
                        "iteration": 797,
                        "remaining_time": 0.3213592719,
                        "learn": [
                          0.2922466687
                        ]
                      },
                      {
                        "passed_time": 1.270960963,
                        "iteration": 798,
                        "remaining_time": 0.3197286027,
                        "learn": [
                          0.2921779101
                        ]
                      },
                      {
                        "passed_time": 1.272362254,
                        "iteration": 799,
                        "remaining_time": 0.3180905634,
                        "learn": [
                          0.2921251041
                        ]
                      },
                      {
                        "passed_time": 1.27373847,
                        "iteration": 800,
                        "remaining_time": 0.3164468857,
                        "learn": [
                          0.2920091278
                        ]
                      },
                      {
                        "passed_time": 1.275115532,
                        "iteration": 801,
                        "remaining_time": 0.314804084,
                        "learn": [
                          0.2919123908
                        ]
                      },
                      {
                        "passed_time": 1.276490189,
                        "iteration": 802,
                        "remaining_time": 0.3131613541,
                        "learn": [
                          0.2918093639
                        ]
                      },
                      {
                        "passed_time": 1.277947806,
                        "iteration": 803,
                        "remaining_time": 0.3115395148,
                        "learn": [
                          0.2915730372
                        ]
                      },
                      {
                        "passed_time": 1.27939162,
                        "iteration": 804,
                        "remaining_time": 0.3099147403,
                        "learn": [
                          0.2914247345
                        ]
                      },
                      {
                        "passed_time": 1.280854549,
                        "iteration": 805,
                        "remaining_time": 0.3082950156,
                        "learn": [
                          0.2912006645
                        ]
                      },
                      {
                        "passed_time": 1.282264609,
                        "iteration": 806,
                        "remaining_time": 0.3066630353,
                        "learn": [
                          0.291054225
                        ]
                      },
                      {
                        "passed_time": 1.283712398,
                        "iteration": 807,
                        "remaining_time": 0.3050405699,
                        "learn": [
                          0.2908678772
                        ]
                      },
                      {
                        "passed_time": 1.285176761,
                        "iteration": 808,
                        "remaining_time": 0.3034224491,
                        "learn": [
                          0.2907921892
                        ]
                      },
                      {
                        "passed_time": 1.286603401,
                        "iteration": 809,
                        "remaining_time": 0.3017958595,
                        "learn": [
                          0.2905329002
                        ]
                      },
                      {
                        "passed_time": 1.287997942,
                        "iteration": 810,
                        "remaining_time": 0.3001622824,
                        "learn": [
                          0.2904080974
                        ]
                      },
                      {
                        "passed_time": 1.289454486,
                        "iteration": 811,
                        "remaining_time": 0.2985436495,
                        "learn": [
                          0.2903152654
                        ]
                      },
                      {
                        "passed_time": 1.290878629,
                        "iteration": 812,
                        "remaining_time": 0.2969179626,
                        "learn": [
                          0.2902359678
                        ]
                      },
                      {
                        "passed_time": 1.292325558,
                        "iteration": 813,
                        "remaining_time": 0.2952979777,
                        "learn": [
                          0.2900708486
                        ]
                      },
                      {
                        "passed_time": 1.293874649,
                        "iteration": 814,
                        "remaining_time": 0.2937016074,
                        "learn": [
                          0.2900165225
                        ]
                      },
                      {
                        "passed_time": 1.29530024,
                        "iteration": 815,
                        "remaining_time": 0.2920775052,
                        "learn": [
                          0.2900046162
                        ]
                      },
                      {
                        "passed_time": 1.296712391,
                        "iteration": 816,
                        "remaining_time": 0.2904508783,
                        "learn": [
                          0.2899408858
                        ]
                      },
                      {
                        "passed_time": 1.298187219,
                        "iteration": 817,
                        "remaining_time": 0.2888387211,
                        "learn": [
                          0.2897334573
                        ]
                      },
                      {
                        "passed_time": 1.299545734,
                        "iteration": 818,
                        "remaining_time": 0.287201194,
                        "learn": [
                          0.2896813954
                        ]
                      },
                      {
                        "passed_time": 1.301087033,
                        "iteration": 819,
                        "remaining_time": 0.2856044706,
                        "learn": [
                          0.289538504
                        ]
                      },
                      {
                        "passed_time": 1.302526945,
                        "iteration": 820,
                        "remaining_time": 0.2839857772,
                        "learn": [
                          0.2894630553
                        ]
                      },
                      {
                        "passed_time": 1.303963599,
                        "iteration": 821,
                        "remaining_time": 0.2823668135,
                        "learn": [
                          0.2893958077
                        ]
                      },
                      {
                        "passed_time": 1.305339294,
                        "iteration": 822,
                        "remaining_time": 0.2807351823,
                        "learn": [
                          0.2893010016
                        ]
                      },
                      {
                        "passed_time": 1.306782461,
                        "iteration": 823,
                        "remaining_time": 0.2791185839,
                        "learn": [
                          0.289243319
                        ]
                      },
                      {
                        "passed_time": 1.308162967,
                        "iteration": 824,
                        "remaining_time": 0.2774891142,
                        "learn": [
                          0.2891496113
                        ]
                      },
                      {
                        "passed_time": 1.309563843,
                        "iteration": 825,
                        "remaining_time": 0.2758645383,
                        "learn": [
                          0.288899648
                        ]
                      },
                      {
                        "passed_time": 1.310994644,
                        "iteration": 826,
                        "remaining_time": 0.2742467635,
                        "learn": [
                          0.2888500932
                        ]
                      },
                      {
                        "passed_time": 1.312445762,
                        "iteration": 827,
                        "remaining_time": 0.2726336607,
                        "learn": [
                          0.2887556307
                        ]
                      },
                      {
                        "passed_time": 1.313865413,
                        "iteration": 828,
                        "remaining_time": 0.2710144579,
                        "learn": [
                          0.2886781055
                        ]
                      },
                      {
                        "passed_time": 1.315286678,
                        "iteration": 829,
                        "remaining_time": 0.2693960666,
                        "learn": [
                          0.2885344465
                        ]
                      },
                      {
                        "passed_time": 1.316695532,
                        "iteration": 830,
                        "remaining_time": 0.2677756256,
                        "learn": [
                          0.2884445169
                        ]
                      },
                      {
                        "passed_time": 1.318142502,
                        "iteration": 831,
                        "remaining_time": 0.2661633898,
                        "learn": [
                          0.2883631921
                        ]
                      },
                      {
                        "passed_time": 1.319547022,
                        "iteration": 832,
                        "remaining_time": 0.2645430405,
                        "learn": [
                          0.2883005547
                        ]
                      },
                      {
                        "passed_time": 1.320945544,
                        "iteration": 833,
                        "remaining_time": 0.2629220148,
                        "learn": [
                          0.2882540595
                        ]
                      },
                      {
                        "passed_time": 1.322526841,
                        "iteration": 834,
                        "remaining_time": 0.2613376393,
                        "learn": [
                          0.2879285582
                        ]
                      },
                      {
                        "passed_time": 1.324105628,
                        "iteration": 835,
                        "remaining_time": 0.2597527787,
                        "learn": [
                          0.2878767535
                        ]
                      },
                      {
                        "passed_time": 1.32554947,
                        "iteration": 836,
                        "remaining_time": 0.258141653,
                        "learn": [
                          0.2877246451
                        ]
                      },
                      {
                        "passed_time": 1.327050705,
                        "iteration": 837,
                        "remaining_time": 0.2565420217,
                        "learn": [
                          0.2876675578
                        ]
                      },
                      {
                        "passed_time": 1.32856569,
                        "iteration": 838,
                        "remaining_time": 0.2549452636,
                        "learn": [
                          0.2875005455
                        ]
                      },
                      {
                        "passed_time": 1.330064909,
                        "iteration": 839,
                        "remaining_time": 0.2533456969,
                        "learn": [
                          0.2874218061
                        ]
                      },
                      {
                        "passed_time": 1.331562303,
                        "iteration": 840,
                        "remaining_time": 0.251746024,
                        "learn": [
                          0.287342845
                        ]
                      },
                      {
                        "passed_time": 1.333155935,
                        "iteration": 841,
                        "remaining_time": 0.2501646528,
                        "learn": [
                          0.2872021093
                        ]
                      },
                      {
                        "passed_time": 1.334679782,
                        "iteration": 842,
                        "remaining_time": 0.248570256,
                        "learn": [
                          0.2871024637
                        ]
                      },
                      {
                        "passed_time": 1.336169379,
                        "iteration": 843,
                        "remaining_time": 0.2469696956,
                        "learn": [
                          0.2869410885
                        ]
                      },
                      {
                        "passed_time": 1.337621692,
                        "iteration": 844,
                        "remaining_time": 0.245362559,
                        "learn": [
                          0.2868758929
                        ]
                      },
                      {
                        "passed_time": 1.339099637,
                        "iteration": 845,
                        "remaining_time": 0.2437604541,
                        "learn": [
                          0.2868433747
                        ]
                      },
                      {
                        "passed_time": 1.340570973,
                        "iteration": 846,
                        "remaining_time": 0.2421574484,
                        "learn": [
                          0.2867324039
                        ]
                      },
                      {
                        "passed_time": 1.341972096,
                        "iteration": 847,
                        "remaining_time": 0.2405421682,
                        "learn": [
                          0.2866748378
                        ]
                      },
                      {
                        "passed_time": 1.343411367,
                        "iteration": 848,
                        "remaining_time": 0.2389341772,
                        "learn": [
                          0.286606445
                        ]
                      },
                      {
                        "passed_time": 1.344825487,
                        "iteration": 849,
                        "remaining_time": 0.2373221447,
                        "learn": [
                          0.2865137593
                        ]
                      },
                      {
                        "passed_time": 1.346248622,
                        "iteration": 850,
                        "remaining_time": 0.2357121559,
                        "learn": [
                          0.2864600617
                        ]
                      },
                      {
                        "passed_time": 1.347692591,
                        "iteration": 851,
                        "remaining_time": 0.2341062247,
                        "learn": [
                          0.2863194395
                        ]
                      },
                      {
                        "passed_time": 1.349112876,
                        "iteration": 852,
                        "remaining_time": 0.2324965917,
                        "learn": [
                          0.2862215157
                        ]
                      },
                      {
                        "passed_time": 1.350792075,
                        "iteration": 853,
                        "remaining_time": 0.2309316663,
                        "learn": [
                          0.286111676
                        ]
                      },
                      {
                        "passed_time": 1.352217159,
                        "iteration": 854,
                        "remaining_time": 0.2293233779,
                        "learn": [
                          0.2859650895
                        ]
                      },
                      {
                        "passed_time": 1.353646823,
                        "iteration": 855,
                        "remaining_time": 0.2277162879,
                        "learn": [
                          0.2858701971
                        ]
                      },
                      {
                        "passed_time": 1.355067741,
                        "iteration": 856,
                        "remaining_time": 0.2261081528,
                        "learn": [
                          0.2857376489
                        ]
                      },
                      {
                        "passed_time": 1.35653327,
                        "iteration": 857,
                        "remaining_time": 0.2245078373,
                        "learn": [
                          0.2856740193
                        ]
                      },
                      {
                        "passed_time": 1.357935138,
                        "iteration": 858,
                        "remaining_time": 0.2228973858,
                        "learn": [
                          0.2856168272
                        ]
                      },
                      {
                        "passed_time": 1.359369601,
                        "iteration": 859,
                        "remaining_time": 0.2212927257,
                        "learn": [
                          0.2854793499
                        ]
                      },
                      {
                        "passed_time": 1.360811027,
                        "iteration": 860,
                        "remaining_time": 0.2196895851,
                        "learn": [
                          0.2852836307
                        ]
                      },
                      {
                        "passed_time": 1.362241734,
                        "iteration": 861,
                        "remaining_time": 0.2180851037,
                        "learn": [
                          0.2852155773
                        ]
                      },
                      {
                        "passed_time": 1.363640659,
                        "iteration": 862,
                        "remaining_time": 0.2164759795,
                        "learn": [
                          0.2850262641
                        ]
                      },
                      {
                        "passed_time": 1.365074948,
                        "iteration": 863,
                        "remaining_time": 0.2148729085,
                        "learn": [
                          0.2848451829
                        ]
                      },
                      {
                        "passed_time": 1.366495042,
                        "iteration": 864,
                        "remaining_time": 0.2132680124,
                        "learn": [
                          0.2847333116
                        ]
                      },
                      {
                        "passed_time": 1.367879064,
                        "iteration": 865,
                        "remaining_time": 0.2116579614,
                        "learn": [
                          0.284651923
                        ]
                      },
                      {
                        "passed_time": 1.369447579,
                        "iteration": 866,
                        "remaining_time": 0.2100767336,
                        "learn": [
                          0.2845991627
                        ]
                      },
                      {
                        "passed_time": 1.370891924,
                        "iteration": 867,
                        "remaining_time": 0.208476652,
                        "learn": [
                          0.2845450807
                        ]
                      },
                      {
                        "passed_time": 1.372325367,
                        "iteration": 868,
                        "remaining_time": 0.2068752854,
                        "learn": [
                          0.2844899552
                        ]
                      },
                      {
                        "passed_time": 1.373758707,
                        "iteration": 869,
                        "remaining_time": 0.2052742896,
                        "learn": [
                          0.2844205759
                        ]
                      },
                      {
                        "passed_time": 1.375169373,
                        "iteration": 870,
                        "remaining_time": 0.2036703205,
                        "learn": [
                          0.2843579419
                        ]
                      },
                      {
                        "passed_time": 1.376607038,
                        "iteration": 871,
                        "remaining_time": 0.2020707579,
                        "learn": [
                          0.2843104565
                        ]
                      },
                      {
                        "passed_time": 1.378034337,
                        "iteration": 872,
                        "remaining_time": 0.2004700581,
                        "learn": [
                          0.2842160011
                        ]
                      },
                      {
                        "passed_time": 1.379460385,
                        "iteration": 873,
                        "remaining_time": 0.198869575,
                        "learn": [
                          0.2840328745
                        ]
                      },
                      {
                        "passed_time": 1.380860403,
                        "iteration": 874,
                        "remaining_time": 0.1972657718,
                        "learn": [
                          0.2839984742
                        ]
                      },
                      {
                        "passed_time": 1.382270361,
                        "iteration": 875,
                        "remaining_time": 0.195663841,
                        "learn": [
                          0.2839545783
                        ]
                      },
                      {
                        "passed_time": 1.383678836,
                        "iteration": 876,
                        "remaining_time": 0.19406214,
                        "learn": [
                          0.2837009827
                        ]
                      },
                      {
                        "passed_time": 1.385096483,
                        "iteration": 877,
                        "remaining_time": 0.1924621536,
                        "learn": [
                          0.283584325
                        ]
                      },
                      {
                        "passed_time": 1.386526081,
                        "iteration": 878,
                        "remaining_time": 0.1908642274,
                        "learn": [
                          0.2835068112
                        ]
                      },
                      {
                        "passed_time": 1.387949763,
                        "iteration": 879,
                        "remaining_time": 0.1892658767,
                        "learn": [
                          0.2834455261
                        ]
                      },
                      {
                        "passed_time": 1.388997947,
                        "iteration": 880,
                        "remaining_time": 0.1876172028,
                        "learn": [
                          0.2834185856
                        ]
                      },
                      {
                        "passed_time": 1.390472412,
                        "iteration": 881,
                        "remaining_time": 0.1860269213,
                        "learn": [
                          0.2833837506
                        ]
                      },
                      {
                        "passed_time": 1.392731947,
                        "iteration": 882,
                        "remaining_time": 0.1845409262,
                        "learn": [
                          0.2833282923
                        ]
                      },
                      {
                        "passed_time": 1.394418018,
                        "iteration": 883,
                        "remaining_time": 0.1829779299,
                        "learn": [
                          0.2832493354
                        ]
                      },
                      {
                        "passed_time": 1.39598873,
                        "iteration": 884,
                        "remaining_time": 0.1813996655,
                        "learn": [
                          0.2831928703
                        ]
                      },
                      {
                        "passed_time": 1.401058743,
                        "iteration": 885,
                        "remaining_time": 0.1802716667,
                        "learn": [
                          0.2831483296
                        ]
                      },
                      {
                        "passed_time": 1.402624723,
                        "iteration": 886,
                        "remaining_time": 0.1786883807,
                        "learn": [
                          0.2831022233
                        ]
                      },
                      {
                        "passed_time": 1.404052818,
                        "iteration": 887,
                        "remaining_time": 0.1770877428,
                        "learn": [
                          0.2830333281
                        ]
                      },
                      {
                        "passed_time": 1.4054724,
                        "iteration": 888,
                        "remaining_time": 0.1754864301,
                        "learn": [
                          0.2829758378
                        ]
                      },
                      {
                        "passed_time": 1.406930549,
                        "iteration": 889,
                        "remaining_time": 0.1738902926,
                        "learn": [
                          0.2829081383
                        ]
                      },
                      {
                        "passed_time": 1.408371107,
                        "iteration": 890,
                        "remaining_time": 0.1722923127,
                        "learn": [
                          0.2828449918
                        ]
                      },
                      {
                        "passed_time": 1.409755905,
                        "iteration": 891,
                        "remaining_time": 0.1706879347,
                        "learn": [
                          0.2827987133
                        ]
                      },
                      {
                        "passed_time": 1.411187731,
                        "iteration": 892,
                        "remaining_time": 0.1690896834,
                        "learn": [
                          0.2827473781
                        ]
                      },
                      {
                        "passed_time": 1.412589793,
                        "iteration": 893,
                        "remaining_time": 0.1674882752,
                        "learn": [
                          0.2826162831
                        ]
                      },
                      {
                        "passed_time": 1.414013077,
                        "iteration": 894,
                        "remaining_time": 0.1658898024,
                        "learn": [
                          0.2825659552
                        ]
                      },
                      {
                        "passed_time": 1.415401073,
                        "iteration": 895,
                        "remaining_time": 0.1642876245,
                        "learn": [
                          0.2823295078
                        ]
                      },
                      {
                        "passed_time": 1.416875194,
                        "iteration": 896,
                        "remaining_time": 0.1626958138,
                        "learn": [
                          0.282057999
                        ]
                      },
                      {
                        "passed_time": 1.418298652,
                        "iteration": 897,
                        "remaining_time": 0.1610985105,
                        "learn": [
                          0.2819027632
                        ]
                      },
                      {
                        "passed_time": 1.419706236,
                        "iteration": 898,
                        "remaining_time": 0.1594998107,
                        "learn": [
                          0.2818209461
                        ]
                      },
                      {
                        "passed_time": 1.421128866,
                        "iteration": 899,
                        "remaining_time": 0.1579032074,
                        "learn": [
                          0.2816825992
                        ]
                      },
                      {
                        "passed_time": 1.422555563,
                        "iteration": 900,
                        "remaining_time": 0.156307437,
                        "learn": [
                          0.2816322754
                        ]
                      },
                      {
                        "passed_time": 1.423956503,
                        "iteration": 901,
                        "remaining_time": 0.1547092431,
                        "learn": [
                          0.2814776859
                        ]
                      },
                      {
                        "passed_time": 1.425369186,
                        "iteration": 902,
                        "remaining_time": 0.1531127476,
                        "learn": [
                          0.2814161816
                        ]
                      },
                      {
                        "passed_time": 1.426771614,
                        "iteration": 903,
                        "remaining_time": 0.1515155696,
                        "learn": [
                          0.2813693145
                        ]
                      },
                      {
                        "passed_time": 1.428159091,
                        "iteration": 904,
                        "remaining_time": 0.1499172526,
                        "learn": [
                          0.281310278
                        ]
                      },
                      {
                        "passed_time": 1.429658325,
                        "iteration": 905,
                        "remaining_time": 0.1483309962,
                        "learn": [
                          0.2812072598
                        ]
                      },
                      {
                        "passed_time": 1.431100372,
                        "iteration": 906,
                        "remaining_time": 0.1467390679,
                        "learn": [
                          0.2811142365
                        ]
                      },
                      {
                        "passed_time": 1.432558736,
                        "iteration": 907,
                        "remaining_time": 0.145149123,
                        "learn": [
                          0.2810252213
                        ]
                      },
                      {
                        "passed_time": 1.43396692,
                        "iteration": 908,
                        "remaining_time": 0.1435544441,
                        "learn": [
                          0.2808763808
                        ]
                      },
                      {
                        "passed_time": 1.435484377,
                        "iteration": 909,
                        "remaining_time": 0.1419709823,
                        "learn": [
                          0.2808280606
                        ]
                      },
                      {
                        "passed_time": 1.436958956,
                        "iteration": 910,
                        "remaining_time": 0.1403834765,
                        "learn": [
                          0.2807721671
                        ]
                      },
                      {
                        "passed_time": 1.438359581,
                        "iteration": 911,
                        "remaining_time": 0.1387890823,
                        "learn": [
                          0.2806290135
                        ]
                      },
                      {
                        "passed_time": 1.439777404,
                        "iteration": 912,
                        "remaining_time": 0.1371967515,
                        "learn": [
                          0.2805950159
                        ]
                      },
                      {
                        "passed_time": 1.441184968,
                        "iteration": 913,
                        "remaining_time": 0.1356038372,
                        "learn": [
                          0.2804893432
                        ]
                      },
                      {
                        "passed_time": 1.442577228,
                        "iteration": 914,
                        "remaining_time": 0.1340099064,
                        "learn": [
                          0.2803961142
                        ]
                      },
                      {
                        "passed_time": 1.444195197,
                        "iteration": 915,
                        "remaining_time": 0.1324371141,
                        "learn": [
                          0.2802248413
                        ]
                      },
                      {
                        "passed_time": 1.445628745,
                        "iteration": 916,
                        "remaining_time": 0.1308475309,
                        "learn": [
                          0.2800357006
                        ]
                      },
                      {
                        "passed_time": 1.447075626,
                        "iteration": 917,
                        "remaining_time": 0.1292594786,
                        "learn": [
                          0.2799556083
                        ]
                      },
                      {
                        "passed_time": 1.448531354,
                        "iteration": 918,
                        "remaining_time": 0.1276725132,
                        "learn": [
                          0.2798899017
                        ]
                      },
                      {
                        "passed_time": 1.449952585,
                        "iteration": 919,
                        "remaining_time": 0.1260828335,
                        "learn": [
                          0.2797651295
                        ]
                      },
                      {
                        "passed_time": 1.451399989,
                        "iteration": 920,
                        "remaining_time": 0.1244957645,
                        "learn": [
                          0.2797256451
                        ]
                      },
                      {
                        "passed_time": 1.45274758,
                        "iteration": 921,
                        "remaining_time": 0.1229005545,
                        "learn": [
                          0.2796727499
                        ]
                      },
                      {
                        "passed_time": 1.454176569,
                        "iteration": 922,
                        "remaining_time": 0.1213126715,
                        "learn": [
                          0.2793870192
                        ]
                      },
                      {
                        "passed_time": 1.45559851,
                        "iteration": 923,
                        "remaining_time": 0.1197245528,
                        "learn": [
                          0.279338804
                        ]
                      },
                      {
                        "passed_time": 1.45701443,
                        "iteration": 924,
                        "remaining_time": 0.1181363051,
                        "learn": [
                          0.2790935572
                        ]
                      },
                      {
                        "passed_time": 1.458459645,
                        "iteration": 925,
                        "remaining_time": 0.1165507708,
                        "learn": [
                          0.2790264675
                        ]
                      },
                      {
                        "passed_time": 1.459888644,
                        "iteration": 926,
                        "remaining_time": 0.1149642621,
                        "learn": [
                          0.2789834107
                        ]
                      },
                      {
                        "passed_time": 1.461305247,
                        "iteration": 927,
                        "remaining_time": 0.1133771312,
                        "learn": [
                          0.2789216099
                        ]
                      },
                      {
                        "passed_time": 1.462728919,
                        "iteration": 928,
                        "remaining_time": 0.1117909077,
                        "learn": [
                          0.278812751
                        ]
                      },
                      {
                        "passed_time": 1.464139058,
                        "iteration": 929,
                        "remaining_time": 0.1102040151,
                        "learn": [
                          0.2787614315
                        ]
                      },
                      {
                        "passed_time": 1.465552859,
                        "iteration": 930,
                        "remaining_time": 0.1086177736,
                        "learn": [
                          0.2786815622
                        ]
                      },
                      {
                        "passed_time": 1.466993255,
                        "iteration": 931,
                        "remaining_time": 0.1070338426,
                        "learn": [
                          0.2786301264
                        ]
                      },
                      {
                        "passed_time": 1.468406342,
                        "iteration": 932,
                        "remaining_time": 0.1054482582,
                        "learn": [
                          0.2785330182
                        ]
                      },
                      {
                        "passed_time": 1.469817078,
                        "iteration": 933,
                        "remaining_time": 0.103862877,
                        "learn": [
                          0.2784460321
                        ]
                      },
                      {
                        "passed_time": 1.471233142,
                        "iteration": 934,
                        "remaining_time": 0.1022782398,
                        "learn": [
                          0.2784025104
                        ]
                      },
                      {
                        "passed_time": 1.472726893,
                        "iteration": 935,
                        "remaining_time": 0.1006992747,
                        "learn": [
                          0.278342338
                        ]
                      },
                      {
                        "passed_time": 1.474376767,
                        "iteration": 936,
                        "remaining_time": 0.09913098863,
                        "learn": [
                          0.278229948
                        ]
                      },
                      {
                        "passed_time": 1.475797788,
                        "iteration": 937,
                        "remaining_time": 0.09754740174,
                        "learn": [
                          0.2781706466
                        ]
                      },
                      {
                        "passed_time": 1.477494439,
                        "iteration": 938,
                        "remaining_time": 0.09598206687,
                        "learn": [
                          0.2780906258
                        ]
                      },
                      {
                        "passed_time": 1.478958231,
                        "iteration": 939,
                        "remaining_time": 0.0944015892,
                        "learn": [
                          0.2780447635
                        ]
                      },
                      {
                        "passed_time": 1.480404866,
                        "iteration": 940,
                        "remaining_time": 0.09282028385,
                        "learn": [
                          0.2778058548
                        ]
                      },
                      {
                        "passed_time": 1.48182465,
                        "iteration": 941,
                        "remaining_time": 0.09123761117,
                        "learn": [
                          0.277755525
                        ]
                      },
                      {
                        "passed_time": 1.483287542,
                        "iteration": 942,
                        "remaining_time": 0.08965788963,
                        "learn": [
                          0.2776854727
                        ]
                      },
                      {
                        "passed_time": 1.484928167,
                        "iteration": 943,
                        "remaining_time": 0.08808895906,
                        "learn": [
                          0.2776411646
                        ]
                      },
                      {
                        "passed_time": 1.486363346,
                        "iteration": 944,
                        "remaining_time": 0.08650791962,
                        "learn": [
                          0.2775777053
                        ]
                      },
                      {
                        "passed_time": 1.487794713,
                        "iteration": 945,
                        "remaining_time": 0.08492697091,
                        "learn": [
                          0.2774902018
                        ]
                      },
                      {
                        "passed_time": 1.489212831,
                        "iteration": 946,
                        "remaining_time": 0.08334559664,
                        "learn": [
                          0.2773402029
                        ]
                      },
                      {
                        "passed_time": 1.490711571,
                        "iteration": 947,
                        "remaining_time": 0.08176898913,
                        "learn": [
                          0.2773212774
                        ]
                      },
                      {
                        "passed_time": 1.49213432,
                        "iteration": 948,
                        "remaining_time": 0.08018846187,
                        "learn": [
                          0.2771572512
                        ]
                      },
                      {
                        "passed_time": 1.493560986,
                        "iteration": 949,
                        "remaining_time": 0.07860847297,
                        "learn": [
                          0.2771076317
                        ]
                      },
                      {
                        "passed_time": 1.494994379,
                        "iteration": 950,
                        "remaining_time": 0.07702915309,
                        "learn": [
                          0.2769384283
                        ]
                      },
                      {
                        "passed_time": 1.496439611,
                        "iteration": 951,
                        "remaining_time": 0.07545073668,
                        "learn": [
                          0.2768377911
                        ]
                      },
                      {
                        "passed_time": 1.497862695,
                        "iteration": 952,
                        "remaining_time": 0.07387150754,
                        "learn": [
                          0.27678005
                        ]
                      },
                      {
                        "passed_time": 1.499268454,
                        "iteration": 953,
                        "remaining_time": 0.0722917703,
                        "learn": [
                          0.2766772455
                        ]
                      },
                      {
                        "passed_time": 1.500663398,
                        "iteration": 954,
                        "remaining_time": 0.07071188788,
                        "learn": [
                          0.2766422376
                        ]
                      },
                      {
                        "passed_time": 1.502101019,
                        "iteration": 955,
                        "remaining_time": 0.06913435653,
                        "learn": [
                          0.2765528236
                        ]
                      },
                      {
                        "passed_time": 1.503530553,
                        "iteration": 956,
                        "remaining_time": 0.06755675423,
                        "learn": [
                          0.276478395
                        ]
                      },
                      {
                        "passed_time": 1.504969123,
                        "iteration": 957,
                        "remaining_time": 0.06597985719,
                        "learn": [
                          0.2764301137
                        ]
                      },
                      {
                        "passed_time": 1.506411057,
                        "iteration": 958,
                        "remaining_time": 0.06440339243,
                        "learn": [
                          0.2763976991
                        ]
                      },
                      {
                        "passed_time": 1.507858254,
                        "iteration": 959,
                        "remaining_time": 0.06282742726,
                        "learn": [
                          0.2763310372
                        ]
                      },
                      {
                        "passed_time": 1.5094029,
                        "iteration": 960,
                        "remaining_time": 0.06125568479,
                        "learn": [
                          0.2763018893
                        ]
                      },
                      {
                        "passed_time": 1.511125492,
                        "iteration": 961,
                        "remaining_time": 0.05969102774,
                        "learn": [
                          0.2760239178
                        ]
                      },
                      {
                        "passed_time": 1.512790259,
                        "iteration": 962,
                        "remaining_time": 0.05812382097,
                        "learn": [
                          0.275978355
                        ]
                      },
                      {
                        "passed_time": 1.514284987,
                        "iteration": 963,
                        "remaining_time": 0.05655006176,
                        "learn": [
                          0.2759011014
                        ]
                      },
                      {
                        "passed_time": 1.515804029,
                        "iteration": 964,
                        "remaining_time": 0.05497734821,
                        "learn": [
                          0.2756728953
                        ]
                      },
                      {
                        "passed_time": 1.517321977,
                        "iteration": 965,
                        "remaining_time": 0.05340470727,
                        "learn": [
                          0.2754162806
                        ]
                      },
                      {
                        "passed_time": 1.51895488,
                        "iteration": 966,
                        "remaining_time": 0.05183610244,
                        "learn": [
                          0.2753084253
                        ]
                      },
                      {
                        "passed_time": 1.520460068,
                        "iteration": 967,
                        "remaining_time": 0.05026314276,
                        "learn": [
                          0.2752626967
                        ]
                      },
                      {
                        "passed_time": 1.522357613,
                        "iteration": 968,
                        "remaining_time": 0.04870287512,
                        "learn": [
                          0.2751887089
                        ]
                      },
                      {
                        "passed_time": 1.524542688,
                        "iteration": 969,
                        "remaining_time": 0.04715080479,
                        "learn": [
                          0.2750784298
                        ]
                      },
                      {
                        "passed_time": 1.526511156,
                        "iteration": 970,
                        "remaining_time": 0.04559096141,
                        "learn": [
                          0.2749092052
                        ]
                      },
                      {
                        "passed_time": 1.528071349,
                        "iteration": 971,
                        "remaining_time": 0.04401851623,
                        "learn": [
                          0.2748685375
                        ]
                      },
                      {
                        "passed_time": 1.529693986,
                        "iteration": 972,
                        "remaining_time": 0.042447829,
                        "learn": [
                          0.2747023528
                        ]
                      },
                      {
                        "passed_time": 1.531648953,
                        "iteration": 973,
                        "remaining_time": 0.04088590634,
                        "learn": [
                          0.2746679189
                        ]
                      },
                      {
                        "passed_time": 1.533122731,
                        "iteration": 974,
                        "remaining_time": 0.03931083926,
                        "learn": [
                          0.2745462578
                        ]
                      },
                      {
                        "passed_time": 1.53455924,
                        "iteration": 975,
                        "remaining_time": 0.03773506328,
                        "learn": [
                          0.2743467237
                        ]
                      },
                      {
                        "passed_time": 1.535968873,
                        "iteration": 976,
                        "remaining_time": 0.03615893968,
                        "learn": [
                          0.2740949008
                        ]
                      },
                      {
                        "passed_time": 1.537415903,
                        "iteration": 977,
                        "remaining_time": 0.03458399781,
                        "learn": [
                          0.2739889918
                        ]
                      },
                      {
                        "passed_time": 1.538971187,
                        "iteration": 978,
                        "remaining_time": 0.03301163935,
                        "learn": [
                          0.2739497123
                        ]
                      },
                      {
                        "passed_time": 1.540485632,
                        "iteration": 979,
                        "remaining_time": 0.0314384823,
                        "learn": [
                          0.273901841
                        ]
                      },
                      {
                        "passed_time": 1.541923228,
                        "iteration": 980,
                        "remaining_time": 0.02986395651,
                        "learn": [
                          0.2738642286
                        ]
                      },
                      {
                        "passed_time": 1.543422572,
                        "iteration": 981,
                        "remaining_time": 0.02829084144,
                        "learn": [
                          0.2736668944
                        ]
                      },
                      {
                        "passed_time": 1.545190935,
                        "iteration": 982,
                        "remaining_time": 0.02672252889,
                        "learn": [
                          0.2735603876
                        ]
                      },
                      {
                        "passed_time": 1.546675409,
                        "iteration": 983,
                        "remaining_time": 0.02514919364,
                        "learn": [
                          0.2734986588
                        ]
                      },
                      {
                        "passed_time": 1.548116565,
                        "iteration": 984,
                        "remaining_time": 0.02357537917,
                        "learn": [
                          0.2734515246
                        ]
                      },
                      {
                        "passed_time": 1.549500095,
                        "iteration": 985,
                        "remaining_time": 0.02200101555,
                        "learn": [
                          0.2734036627
                        ]
                      },
                      {
                        "passed_time": 1.550956406,
                        "iteration": 986,
                        "remaining_time": 0.02042799724,
                        "learn": [
                          0.2732932085
                        ]
                      },
                      {
                        "passed_time": 1.552357606,
                        "iteration": 987,
                        "remaining_time": 0.01885454582,
                        "learn": [
                          0.2732519647
                        ]
                      },
                      {
                        "passed_time": 1.553952234,
                        "iteration": 988,
                        "remaining_time": 0.01728359411,
                        "learn": [
                          0.2732210256
                        ]
                      },
                      {
                        "passed_time": 1.555472833,
                        "iteration": 989,
                        "remaining_time": 0.0157118468,
                        "learn": [
                          0.2731767391
                        ]
                      },
                      {
                        "passed_time": 1.556936582,
                        "iteration": 990,
                        "remaining_time": 0.01413968642,
                        "learn": [
                          0.2731268744
                        ]
                      },
                      {
                        "passed_time": 1.558447605,
                        "iteration": 991,
                        "remaining_time": 0.01256812585,
                        "learn": [
                          0.2730212307
                        ]
                      },
                      {
                        "passed_time": 1.560036034,
                        "iteration": 992,
                        "remaining_time": 0.01099723287,
                        "learn": [
                          0.2729242746
                        ]
                      },
                      {
                        "passed_time": 1.563880551,
                        "iteration": 993,
                        "remaining_time": 0.009439922842,
                        "learn": [
                          0.2728901296
                        ]
                      },
                      {
                        "passed_time": 1.565414725,
                        "iteration": 994,
                        "remaining_time": 0.007866405653,
                        "learn": [
                          0.2727676162
                        ]
                      },
                      {
                        "passed_time": 1.566946748,
                        "iteration": 995,
                        "remaining_time": 0.006292958827,
                        "learn": [
                          0.2725821781
                        ]
                      },
                      {
                        "passed_time": 1.568381654,
                        "iteration": 996,
                        "remaining_time": 0.004719302869,
                        "learn": [
                          0.272326892
                        ]
                      },
                      {
                        "passed_time": 1.569855845,
                        "iteration": 997,
                        "remaining_time": 0.003146003697,
                        "learn": [
                          0.2722438094
                        ]
                      },
                      {
                        "passed_time": 1.571329613,
                        "iteration": 998,
                        "remaining_time": 0.001572902516,
                        "learn": [
                          0.2721802689
                        ]
                      },
                      {
                        "passed_time": 1.572820275,
                        "iteration": 999,
                        "remaining_time": 0,
                        "learn": [
                          0.2720373017
                        ]
                      }
                    ]
                  },
                  "total_iterations": 1000,
                  "passed_iterations": 999
                },
                "path": "catboost_info",
                "name": "catboost_info"
              }
            },
            "_view_module": "catboost-widget",
            "_model_module_version": "^1.0.0",
            "_view_count": null,
            "_view_module_version": "^1.0.0",
            "layout": "IPY_MODEL_0e362e507b0b4d50a8b666151dbea449",
            "_model_module": "catboost-widget"
          },
          "model_module_version": "^1.0.0"
        }
      }
    }
  },
  "cells": [
    {
      "cell_type": "markdown",
      "metadata": {
        "id": "view-in-github",
        "colab_type": "text"
      },
      "source": [
        "<a href=\"https://colab.research.google.com/github/TrybinD/educational-projects/blob/main/educational-projects/ML%20projects/Titanic_v2.ipynb\" target=\"_parent\"><img src=\"https://colab.research.google.com/assets/colab-badge.svg\" alt=\"Open In Colab\"/></a>"
      ]
    },
    {
      "cell_type": "code",
      "metadata": {
        "id": "-JW6SLVhvtQI",
        "colab": {
          "resources": {
            "http://localhost:8080/nbextensions/google.colab/files.js": {
              "data": "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",
              "ok": true,
              "headers": [
                [
                  "content-type",
                  "application/javascript"
                ]
              ],
              "status": 200,
              "status_text": ""
            }
          },
          "base_uri": "https://localhost:8080/",
          "height": 91
        },
        "outputId": "1ce0c834-e01f-4ba1-9bfc-f00947b43a4c"
      },
      "source": [
        "from google.colab import files\n",
        "files.upload()"
      ],
      "execution_count": null,
      "outputs": [
        {
          "output_type": "display_data",
          "data": {
            "text/html": [
              "\n",
              "     <input type=\"file\" id=\"files-764ba6e2-be40-48c8-bac3-2ef3562f2b73\" name=\"files[]\" multiple disabled\n",
              "        style=\"border:none\" />\n",
              "     <output id=\"result-764ba6e2-be40-48c8-bac3-2ef3562f2b73\">\n",
              "      Upload widget is only available when the cell has been executed in the\n",
              "      current browser session. Please rerun this cell to enable.\n",
              "      </output>\n",
              "      <script src=\"/nbextensions/google.colab/files.js\"></script> "
            ],
            "text/plain": [
              "<IPython.core.display.HTML object>"
            ]
          },
          "metadata": {
            "tags": []
          }
        },
        {
          "output_type": "stream",
          "text": [
            "Saving kaggle.json to kaggle.json\n"
          ],
          "name": "stdout"
        },
        {
          "output_type": "execute_result",
          "data": {
            "text/plain": [
              "{'kaggle.json': b'{\"username\":\"daniiltrubin\",\"key\":\"a0e37acddb328217e1f38b5525aa2e78\"}'}"
            ]
          },
          "metadata": {
            "tags": []
          },
          "execution_count": 1
        }
      ]
    },
    {
      "cell_type": "code",
      "metadata": {
        "id": "tWghd4L7wix9"
      },
      "source": [
        "!pip install -q kaggle\n",
        "!mkdir ~/.kaggle\n",
        "!cp kaggle.json ~/.kaggle/\n",
        "!chmod 600 /root/.kaggle/kaggle.json"
      ],
      "execution_count": null,
      "outputs": []
    },
    {
      "cell_type": "code",
      "metadata": {
        "colab": {
          "base_uri": "https://localhost:8080/"
        },
        "id": "P89-tIAAw838",
        "outputId": "7fa04bac-4979-4069-9bb0-013eb21b5038"
      },
      "source": [
        "!kaggle competitions download -c titanic -q"
      ],
      "execution_count": null,
      "outputs": [
        {
          "output_type": "stream",
          "text": [
            "Warning: Looks like you're using an outdated API Version, please consider updating (server 1.5.12 / client 1.5.4)\n"
          ],
          "name": "stdout"
        }
      ]
    },
    {
      "cell_type": "markdown",
      "metadata": {
        "id": "Wcx0J27GxeP7"
      },
      "source": [
        "Здесь начинается работа с датасетом"
      ]
    },
    {
      "cell_type": "code",
      "metadata": {
        "id": "SO6-9hwMxdUt"
      },
      "source": [
        "import pandas as pd\n",
        "import numpy as np"
      ],
      "execution_count": null,
      "outputs": []
    },
    {
      "cell_type": "code",
      "metadata": {
        "id": "sbj2q0JtxdbJ"
      },
      "source": [
        "data_train = pd.read_csv(\"train.csv\", index_col=\"PassengerId\")\n",
        "data_test = pd.read_csv(\"test.csv\", index_col=\"PassengerId\")"
      ],
      "execution_count": null,
      "outputs": []
    },
    {
      "cell_type": "code",
      "metadata": {
        "colab": {
          "base_uri": "https://localhost:8080/",
          "height": 233
        },
        "id": "_WkMh5r4ytWu",
        "outputId": "20c384ec-ad28-4347-faea-01c6adb9f0e2"
      },
      "source": [
        "data_train.head()"
      ],
      "execution_count": null,
      "outputs": [
        {
          "output_type": "execute_result",
          "data": {
            "text/html": [
              "<div>\n",
              "<style scoped>\n",
              "    .dataframe tbody tr th:only-of-type {\n",
              "        vertical-align: middle;\n",
              "    }\n",
              "\n",
              "    .dataframe tbody tr th {\n",
              "        vertical-align: top;\n",
              "    }\n",
              "\n",
              "    .dataframe thead th {\n",
              "        text-align: right;\n",
              "    }\n",
              "</style>\n",
              "<table border=\"1\" class=\"dataframe\">\n",
              "  <thead>\n",
              "    <tr style=\"text-align: right;\">\n",
              "      <th></th>\n",
              "      <th>Survived</th>\n",
              "      <th>Pclass</th>\n",
              "      <th>Name</th>\n",
              "      <th>Sex</th>\n",
              "      <th>Age</th>\n",
              "      <th>SibSp</th>\n",
              "      <th>Parch</th>\n",
              "      <th>Ticket</th>\n",
              "      <th>Fare</th>\n",
              "      <th>Cabin</th>\n",
              "      <th>Embarked</th>\n",
              "    </tr>\n",
              "    <tr>\n",
              "      <th>PassengerId</th>\n",
              "      <th></th>\n",
              "      <th></th>\n",
              "      <th></th>\n",
              "      <th></th>\n",
              "      <th></th>\n",
              "      <th></th>\n",
              "      <th></th>\n",
              "      <th></th>\n",
              "      <th></th>\n",
              "      <th></th>\n",
              "      <th></th>\n",
              "    </tr>\n",
              "  </thead>\n",
              "  <tbody>\n",
              "    <tr>\n",
              "      <th>1</th>\n",
              "      <td>0</td>\n",
              "      <td>3</td>\n",
              "      <td>Braund, Mr. Owen Harris</td>\n",
              "      <td>male</td>\n",
              "      <td>22.0</td>\n",
              "      <td>1</td>\n",
              "      <td>0</td>\n",
              "      <td>A/5 21171</td>\n",
              "      <td>7.2500</td>\n",
              "      <td>NaN</td>\n",
              "      <td>S</td>\n",
              "    </tr>\n",
              "    <tr>\n",
              "      <th>2</th>\n",
              "      <td>1</td>\n",
              "      <td>1</td>\n",
              "      <td>Cumings, Mrs. John Bradley (Florence Briggs Th...</td>\n",
              "      <td>female</td>\n",
              "      <td>38.0</td>\n",
              "      <td>1</td>\n",
              "      <td>0</td>\n",
              "      <td>PC 17599</td>\n",
              "      <td>71.2833</td>\n",
              "      <td>C85</td>\n",
              "      <td>C</td>\n",
              "    </tr>\n",
              "    <tr>\n",
              "      <th>3</th>\n",
              "      <td>1</td>\n",
              "      <td>3</td>\n",
              "      <td>Heikkinen, Miss. Laina</td>\n",
              "      <td>female</td>\n",
              "      <td>26.0</td>\n",
              "      <td>0</td>\n",
              "      <td>0</td>\n",
              "      <td>STON/O2. 3101282</td>\n",
              "      <td>7.9250</td>\n",
              "      <td>NaN</td>\n",
              "      <td>S</td>\n",
              "    </tr>\n",
              "    <tr>\n",
              "      <th>4</th>\n",
              "      <td>1</td>\n",
              "      <td>1</td>\n",
              "      <td>Futrelle, Mrs. Jacques Heath (Lily May Peel)</td>\n",
              "      <td>female</td>\n",
              "      <td>35.0</td>\n",
              "      <td>1</td>\n",
              "      <td>0</td>\n",
              "      <td>113803</td>\n",
              "      <td>53.1000</td>\n",
              "      <td>C123</td>\n",
              "      <td>S</td>\n",
              "    </tr>\n",
              "    <tr>\n",
              "      <th>5</th>\n",
              "      <td>0</td>\n",
              "      <td>3</td>\n",
              "      <td>Allen, Mr. William Henry</td>\n",
              "      <td>male</td>\n",
              "      <td>35.0</td>\n",
              "      <td>0</td>\n",
              "      <td>0</td>\n",
              "      <td>373450</td>\n",
              "      <td>8.0500</td>\n",
              "      <td>NaN</td>\n",
              "      <td>S</td>\n",
              "    </tr>\n",
              "  </tbody>\n",
              "</table>\n",
              "</div>"
            ],
            "text/plain": [
              "             Survived  Pclass  ... Cabin Embarked\n",
              "PassengerId                    ...               \n",
              "1                   0       3  ...   NaN        S\n",
              "2                   1       1  ...   C85        C\n",
              "3                   1       3  ...   NaN        S\n",
              "4                   1       1  ...  C123        S\n",
              "5                   0       3  ...   NaN        S\n",
              "\n",
              "[5 rows x 11 columns]"
            ]
          },
          "metadata": {
            "tags": []
          },
          "execution_count": 6
        }
      ]
    },
    {
      "cell_type": "code",
      "metadata": {
        "id": "FwP5FjQuyBHJ"
      },
      "source": [
        "X, y = data_train.drop([\"Survived\"], axis=1), data_train.Survived"
      ],
      "execution_count": null,
      "outputs": []
    },
    {
      "cell_type": "code",
      "metadata": {
        "colab": {
          "base_uri": "https://localhost:8080/"
        },
        "id": "CLhey7ntzCmJ",
        "outputId": "b72ff645-bd47-4566-99e3-9e77e72911d1"
      },
      "source": [
        "X.info()"
      ],
      "execution_count": null,
      "outputs": [
        {
          "output_type": "stream",
          "text": [
            "<class 'pandas.core.frame.DataFrame'>\n",
            "Int64Index: 891 entries, 1 to 891\n",
            "Data columns (total 10 columns):\n",
            " #   Column    Non-Null Count  Dtype  \n",
            "---  ------    --------------  -----  \n",
            " 0   Pclass    891 non-null    int64  \n",
            " 1   Name      891 non-null    object \n",
            " 2   Sex       891 non-null    object \n",
            " 3   Age       714 non-null    float64\n",
            " 4   SibSp     891 non-null    int64  \n",
            " 5   Parch     891 non-null    int64  \n",
            " 6   Ticket    891 non-null    object \n",
            " 7   Fare      891 non-null    float64\n",
            " 8   Cabin     204 non-null    object \n",
            " 9   Embarked  889 non-null    object \n",
            "dtypes: float64(2), int64(3), object(5)\n",
            "memory usage: 76.6+ KB\n"
          ],
          "name": "stdout"
        }
      ]
    },
    {
      "cell_type": "code",
      "metadata": {
        "id": "d9LPlRtzzF5P"
      },
      "source": [
        "drop_cols = [\"Name\", \"Ticket\", \"Cabin\", \"SibSp\", \"Parch\"]\n",
        "cat_cols = [\"Sex\", \"Embarked\", \"Pclass\"]\n",
        "num_cols = [\"Age\",  \"Fare\", \"SibSp\", \"Parch\"]"
      ],
      "execution_count": null,
      "outputs": []
    },
    {
      "cell_type": "code",
      "metadata": {
        "colab": {
          "base_uri": "https://localhost:8080/",
          "height": 446
        },
        "id": "KSu4jH9TPnrZ",
        "outputId": "83f356ef-2a5e-4ae9-f6b5-87ae46a2fed3"
      },
      "source": [
        "X[drop_cols]"
      ],
      "execution_count": null,
      "outputs": [
        {
          "output_type": "execute_result",
          "data": {
            "text/html": [
              "<div>\n",
              "<style scoped>\n",
              "    .dataframe tbody tr th:only-of-type {\n",
              "        vertical-align: middle;\n",
              "    }\n",
              "\n",
              "    .dataframe tbody tr th {\n",
              "        vertical-align: top;\n",
              "    }\n",
              "\n",
              "    .dataframe thead th {\n",
              "        text-align: right;\n",
              "    }\n",
              "</style>\n",
              "<table border=\"1\" class=\"dataframe\">\n",
              "  <thead>\n",
              "    <tr style=\"text-align: right;\">\n",
              "      <th></th>\n",
              "      <th>Name</th>\n",
              "      <th>Ticket</th>\n",
              "      <th>Cabin</th>\n",
              "      <th>SibSp</th>\n",
              "      <th>Parch</th>\n",
              "    </tr>\n",
              "    <tr>\n",
              "      <th>PassengerId</th>\n",
              "      <th></th>\n",
              "      <th></th>\n",
              "      <th></th>\n",
              "      <th></th>\n",
              "      <th></th>\n",
              "    </tr>\n",
              "  </thead>\n",
              "  <tbody>\n",
              "    <tr>\n",
              "      <th>1</th>\n",
              "      <td>Braund, Mr. Owen Harris</td>\n",
              "      <td>A/5 21171</td>\n",
              "      <td>NaN</td>\n",
              "      <td>1</td>\n",
              "      <td>0</td>\n",
              "    </tr>\n",
              "    <tr>\n",
              "      <th>2</th>\n",
              "      <td>Cumings, Mrs. John Bradley (Florence Briggs Th...</td>\n",
              "      <td>PC 17599</td>\n",
              "      <td>C85</td>\n",
              "      <td>1</td>\n",
              "      <td>0</td>\n",
              "    </tr>\n",
              "    <tr>\n",
              "      <th>3</th>\n",
              "      <td>Heikkinen, Miss. Laina</td>\n",
              "      <td>STON/O2. 3101282</td>\n",
              "      <td>NaN</td>\n",
              "      <td>0</td>\n",
              "      <td>0</td>\n",
              "    </tr>\n",
              "    <tr>\n",
              "      <th>4</th>\n",
              "      <td>Futrelle, Mrs. Jacques Heath (Lily May Peel)</td>\n",
              "      <td>113803</td>\n",
              "      <td>C123</td>\n",
              "      <td>1</td>\n",
              "      <td>0</td>\n",
              "    </tr>\n",
              "    <tr>\n",
              "      <th>5</th>\n",
              "      <td>Allen, Mr. William Henry</td>\n",
              "      <td>373450</td>\n",
              "      <td>NaN</td>\n",
              "      <td>0</td>\n",
              "      <td>0</td>\n",
              "    </tr>\n",
              "    <tr>\n",
              "      <th>...</th>\n",
              "      <td>...</td>\n",
              "      <td>...</td>\n",
              "      <td>...</td>\n",
              "      <td>...</td>\n",
              "      <td>...</td>\n",
              "    </tr>\n",
              "    <tr>\n",
              "      <th>887</th>\n",
              "      <td>Montvila, Rev. Juozas</td>\n",
              "      <td>211536</td>\n",
              "      <td>NaN</td>\n",
              "      <td>0</td>\n",
              "      <td>0</td>\n",
              "    </tr>\n",
              "    <tr>\n",
              "      <th>888</th>\n",
              "      <td>Graham, Miss. Margaret Edith</td>\n",
              "      <td>112053</td>\n",
              "      <td>B42</td>\n",
              "      <td>0</td>\n",
              "      <td>0</td>\n",
              "    </tr>\n",
              "    <tr>\n",
              "      <th>889</th>\n",
              "      <td>Johnston, Miss. Catherine Helen \"Carrie\"</td>\n",
              "      <td>W./C. 6607</td>\n",
              "      <td>NaN</td>\n",
              "      <td>1</td>\n",
              "      <td>2</td>\n",
              "    </tr>\n",
              "    <tr>\n",
              "      <th>890</th>\n",
              "      <td>Behr, Mr. Karl Howell</td>\n",
              "      <td>111369</td>\n",
              "      <td>C148</td>\n",
              "      <td>0</td>\n",
              "      <td>0</td>\n",
              "    </tr>\n",
              "    <tr>\n",
              "      <th>891</th>\n",
              "      <td>Dooley, Mr. Patrick</td>\n",
              "      <td>370376</td>\n",
              "      <td>NaN</td>\n",
              "      <td>0</td>\n",
              "      <td>0</td>\n",
              "    </tr>\n",
              "  </tbody>\n",
              "</table>\n",
              "<p>891 rows × 5 columns</p>\n",
              "</div>"
            ],
            "text/plain": [
              "                                                          Name  ... Parch\n",
              "PassengerId                                                     ...      \n",
              "1                                      Braund, Mr. Owen Harris  ...     0\n",
              "2            Cumings, Mrs. John Bradley (Florence Briggs Th...  ...     0\n",
              "3                                       Heikkinen, Miss. Laina  ...     0\n",
              "4                 Futrelle, Mrs. Jacques Heath (Lily May Peel)  ...     0\n",
              "5                                     Allen, Mr. William Henry  ...     0\n",
              "...                                                        ...  ...   ...\n",
              "887                                      Montvila, Rev. Juozas  ...     0\n",
              "888                               Graham, Miss. Margaret Edith  ...     0\n",
              "889                   Johnston, Miss. Catherine Helen \"Carrie\"  ...     2\n",
              "890                                      Behr, Mr. Karl Howell  ...     0\n",
              "891                                        Dooley, Mr. Patrick  ...     0\n",
              "\n",
              "[891 rows x 5 columns]"
            ]
          },
          "metadata": {
            "tags": []
          },
          "execution_count": 12
        }
      ]
    },
    {
      "cell_type": "code",
      "metadata": {
        "id": "lpnMs3TDzOCh"
      },
      "source": [
        "from sklearn.preprocessing import FunctionTransformer, StandardScaler, OneHotEncoder\n",
        "from sklearn.pipeline import Pipeline, FeatureUnion\n",
        "from sklearn.impute import SimpleImputer"
      ],
      "execution_count": null,
      "outputs": []
    },
    {
      "cell_type": "code",
      "metadata": {
        "id": "wXNQDlph3kDX"
      },
      "source": [
        "def selector(atribute_names):\n",
        "  return FunctionTransformer(lambda x: x[atribute_names])"
      ],
      "execution_count": null,
      "outputs": []
    },
    {
      "cell_type": "code",
      "metadata": {
        "id": "f5acLDgNS5Zj"
      },
      "source": [
        "def split_names(x):\n",
        "  ans = []\n",
        "  ans2 = []\n",
        "  for i in x:\n",
        "    ans.append(i.split(', ')[1].split('.')[0])\n",
        "  for n in ans:\n",
        "    ans2.append(n if n in [\"Mr\", \"Miss\", \"Mrs\", \"Master\"] else \"Other\")\n",
        "  return np.array(ans2).reshape(len(x), 1)\n"
      ],
      "execution_count": null,
      "outputs": []
    },
    {
      "cell_type": "code",
      "metadata": {
        "id": "kOxkf27nRvCo"
      },
      "source": [
        "name_encoder = FunctionTransformer(split_names)"
      ],
      "execution_count": null,
      "outputs": []
    },
    {
      "cell_type": "code",
      "metadata": {
        "id": "ZtWO6C3_lSoa"
      },
      "source": [
        "name_encoder.transform(X.Name)"
      ],
      "execution_count": null,
      "outputs": []
    },
    {
      "cell_type": "code",
      "metadata": {
        "colab": {
          "base_uri": "https://localhost:8080/",
          "height": 498
        },
        "id": "jyCXpYb1iXYY",
        "outputId": "9973d24d-0436-4c5a-ce22-b38dfd73c5f6"
      },
      "source": [
        "X"
      ],
      "execution_count": null,
      "outputs": [
        {
          "output_type": "execute_result",
          "data": {
            "text/html": [
              "<div>\n",
              "<style scoped>\n",
              "    .dataframe tbody tr th:only-of-type {\n",
              "        vertical-align: middle;\n",
              "    }\n",
              "\n",
              "    .dataframe tbody tr th {\n",
              "        vertical-align: top;\n",
              "    }\n",
              "\n",
              "    .dataframe thead th {\n",
              "        text-align: right;\n",
              "    }\n",
              "</style>\n",
              "<table border=\"1\" class=\"dataframe\">\n",
              "  <thead>\n",
              "    <tr style=\"text-align: right;\">\n",
              "      <th></th>\n",
              "      <th>Pclass</th>\n",
              "      <th>Name</th>\n",
              "      <th>Sex</th>\n",
              "      <th>Age</th>\n",
              "      <th>SibSp</th>\n",
              "      <th>Parch</th>\n",
              "      <th>Ticket</th>\n",
              "      <th>Fare</th>\n",
              "      <th>Cabin</th>\n",
              "      <th>Embarked</th>\n",
              "      <th>FamilySize</th>\n",
              "      <th>IsAlone</th>\n",
              "    </tr>\n",
              "    <tr>\n",
              "      <th>PassengerId</th>\n",
              "      <th></th>\n",
              "      <th></th>\n",
              "      <th></th>\n",
              "      <th></th>\n",
              "      <th></th>\n",
              "      <th></th>\n",
              "      <th></th>\n",
              "      <th></th>\n",
              "      <th></th>\n",
              "      <th></th>\n",
              "      <th></th>\n",
              "      <th></th>\n",
              "    </tr>\n",
              "  </thead>\n",
              "  <tbody>\n",
              "    <tr>\n",
              "      <th>1</th>\n",
              "      <td>3</td>\n",
              "      <td>Braund, Mr. Owen Harris</td>\n",
              "      <td>male</td>\n",
              "      <td>22.0</td>\n",
              "      <td>1</td>\n",
              "      <td>0</td>\n",
              "      <td>A/5 21171</td>\n",
              "      <td>7.2500</td>\n",
              "      <td>NaN</td>\n",
              "      <td>S</td>\n",
              "      <td>2</td>\n",
              "      <td>0</td>\n",
              "    </tr>\n",
              "    <tr>\n",
              "      <th>2</th>\n",
              "      <td>1</td>\n",
              "      <td>Cumings, Mrs. John Bradley (Florence Briggs Th...</td>\n",
              "      <td>female</td>\n",
              "      <td>38.0</td>\n",
              "      <td>1</td>\n",
              "      <td>0</td>\n",
              "      <td>PC 17599</td>\n",
              "      <td>71.2833</td>\n",
              "      <td>C85</td>\n",
              "      <td>C</td>\n",
              "      <td>2</td>\n",
              "      <td>0</td>\n",
              "    </tr>\n",
              "    <tr>\n",
              "      <th>3</th>\n",
              "      <td>3</td>\n",
              "      <td>Heikkinen, Miss. Laina</td>\n",
              "      <td>female</td>\n",
              "      <td>26.0</td>\n",
              "      <td>0</td>\n",
              "      <td>0</td>\n",
              "      <td>STON/O2. 3101282</td>\n",
              "      <td>7.9250</td>\n",
              "      <td>NaN</td>\n",
              "      <td>S</td>\n",
              "      <td>1</td>\n",
              "      <td>1</td>\n",
              "    </tr>\n",
              "    <tr>\n",
              "      <th>4</th>\n",
              "      <td>1</td>\n",
              "      <td>Futrelle, Mrs. Jacques Heath (Lily May Peel)</td>\n",
              "      <td>female</td>\n",
              "      <td>35.0</td>\n",
              "      <td>1</td>\n",
              "      <td>0</td>\n",
              "      <td>113803</td>\n",
              "      <td>53.1000</td>\n",
              "      <td>C123</td>\n",
              "      <td>S</td>\n",
              "      <td>2</td>\n",
              "      <td>0</td>\n",
              "    </tr>\n",
              "    <tr>\n",
              "      <th>5</th>\n",
              "      <td>3</td>\n",
              "      <td>Allen, Mr. William Henry</td>\n",
              "      <td>male</td>\n",
              "      <td>35.0</td>\n",
              "      <td>0</td>\n",
              "      <td>0</td>\n",
              "      <td>373450</td>\n",
              "      <td>8.0500</td>\n",
              "      <td>NaN</td>\n",
              "      <td>S</td>\n",
              "      <td>1</td>\n",
              "      <td>1</td>\n",
              "    </tr>\n",
              "    <tr>\n",
              "      <th>...</th>\n",
              "      <td>...</td>\n",
              "      <td>...</td>\n",
              "      <td>...</td>\n",
              "      <td>...</td>\n",
              "      <td>...</td>\n",
              "      <td>...</td>\n",
              "      <td>...</td>\n",
              "      <td>...</td>\n",
              "      <td>...</td>\n",
              "      <td>...</td>\n",
              "      <td>...</td>\n",
              "      <td>...</td>\n",
              "    </tr>\n",
              "    <tr>\n",
              "      <th>887</th>\n",
              "      <td>2</td>\n",
              "      <td>Montvila, Rev. Juozas</td>\n",
              "      <td>male</td>\n",
              "      <td>27.0</td>\n",
              "      <td>0</td>\n",
              "      <td>0</td>\n",
              "      <td>211536</td>\n",
              "      <td>13.0000</td>\n",
              "      <td>NaN</td>\n",
              "      <td>S</td>\n",
              "      <td>1</td>\n",
              "      <td>1</td>\n",
              "    </tr>\n",
              "    <tr>\n",
              "      <th>888</th>\n",
              "      <td>1</td>\n",
              "      <td>Graham, Miss. Margaret Edith</td>\n",
              "      <td>female</td>\n",
              "      <td>19.0</td>\n",
              "      <td>0</td>\n",
              "      <td>0</td>\n",
              "      <td>112053</td>\n",
              "      <td>30.0000</td>\n",
              "      <td>B42</td>\n",
              "      <td>S</td>\n",
              "      <td>1</td>\n",
              "      <td>1</td>\n",
              "    </tr>\n",
              "    <tr>\n",
              "      <th>889</th>\n",
              "      <td>3</td>\n",
              "      <td>Johnston, Miss. Catherine Helen \"Carrie\"</td>\n",
              "      <td>female</td>\n",
              "      <td>NaN</td>\n",
              "      <td>1</td>\n",
              "      <td>2</td>\n",
              "      <td>W./C. 6607</td>\n",
              "      <td>23.4500</td>\n",
              "      <td>NaN</td>\n",
              "      <td>S</td>\n",
              "      <td>4</td>\n",
              "      <td>0</td>\n",
              "    </tr>\n",
              "    <tr>\n",
              "      <th>890</th>\n",
              "      <td>1</td>\n",
              "      <td>Behr, Mr. Karl Howell</td>\n",
              "      <td>male</td>\n",
              "      <td>26.0</td>\n",
              "      <td>0</td>\n",
              "      <td>0</td>\n",
              "      <td>111369</td>\n",
              "      <td>30.0000</td>\n",
              "      <td>C148</td>\n",
              "      <td>C</td>\n",
              "      <td>1</td>\n",
              "      <td>1</td>\n",
              "    </tr>\n",
              "    <tr>\n",
              "      <th>891</th>\n",
              "      <td>3</td>\n",
              "      <td>Dooley, Mr. Patrick</td>\n",
              "      <td>male</td>\n",
              "      <td>32.0</td>\n",
              "      <td>0</td>\n",
              "      <td>0</td>\n",
              "      <td>370376</td>\n",
              "      <td>7.7500</td>\n",
              "      <td>NaN</td>\n",
              "      <td>Q</td>\n",
              "      <td>1</td>\n",
              "      <td>1</td>\n",
              "    </tr>\n",
              "  </tbody>\n",
              "</table>\n",
              "<p>891 rows × 12 columns</p>\n",
              "</div>"
            ],
            "text/plain": [
              "             Pclass  ... IsAlone\n",
              "PassengerId          ...        \n",
              "1                 3  ...       0\n",
              "2                 1  ...       0\n",
              "3                 3  ...       1\n",
              "4                 1  ...       0\n",
              "5                 3  ...       1\n",
              "...             ...  ...     ...\n",
              "887               2  ...       1\n",
              "888               1  ...       1\n",
              "889               3  ...       0\n",
              "890               1  ...       1\n",
              "891               3  ...       1\n",
              "\n",
              "[891 rows x 12 columns]"
            ]
          },
          "metadata": {
            "tags": []
          },
          "execution_count": 93
        }
      ]
    },
    {
      "cell_type": "code",
      "metadata": {
        "id": "-yZWodCiTsjq"
      },
      "source": [
        "name_pipeline = Pipeline([\n",
        "                          (\"selector\", selector(\"Name\")),\n",
        "                          ('split', name_encoder),\n",
        "                          (\"encoder\", OneHotEncoder()) #только самые распостраненные\n",
        "])"
      ],
      "execution_count": null,
      "outputs": []
    },
    {
      "cell_type": "code",
      "metadata": {
        "colab": {
          "base_uri": "https://localhost:8080/"
        },
        "id": "3Qy4OpAWkD4u",
        "outputId": "8b236a17-d93d-427f-a960-7c2165ec3ada"
      },
      "source": [
        "name_pipeline.fit_transform(X)"
      ],
      "execution_count": null,
      "outputs": [
        {
          "output_type": "execute_result",
          "data": {
            "text/plain": [
              "<891x5 sparse matrix of type '<class 'numpy.float64'>'\n",
              "\twith 891 stored elements in Compressed Sparse Row format>"
            ]
          },
          "metadata": {
            "tags": []
          },
          "execution_count": 133
        }
      ]
    },
    {
      "cell_type": "code",
      "metadata": {
        "id": "MacwEaXEeruc"
      },
      "source": [
        "def family_info(X):\n",
        "  X[\"FamilySize\"] = X['SibSp'] + X[\"Parch\"] + 1\n",
        "  X['IsAlone'] = 1\n",
        "  X['IsAlone'].loc[X['FamilySize'] > 1] = 0\n",
        "  return X[[\"FamilySize\", \"IsAlone\"]]"
      ],
      "execution_count": null,
      "outputs": []
    },
    {
      "cell_type": "code",
      "metadata": {
        "id": "6BQqG377eBG5"
      },
      "source": [
        "family_pipeline = FunctionTransformer(family_info)"
      ],
      "execution_count": null,
      "outputs": []
    },
    {
      "cell_type": "code",
      "metadata": {
        "id": "8bDr7AXdgYJZ"
      },
      "source": [
        "family_pipeline.fit_transform(X)"
      ],
      "execution_count": null,
      "outputs": []
    },
    {
      "cell_type": "code",
      "metadata": {
        "id": "UXjhDVzR3ni0"
      },
      "source": [
        "num_pipeline = Pipeline([\n",
        "    (\"selector\", selector(num_cols)),\n",
        "    (\"imputer\", SimpleImputer(strategy=\"median\")),\n",
        "    (\"scaler\", StandardScaler())\n",
        "])"
      ],
      "execution_count": null,
      "outputs": []
    },
    {
      "cell_type": "code",
      "metadata": {
        "id": "eagjhQCa5UUd"
      },
      "source": [
        "cat_pipeline = Pipeline([\n",
        "    ('selector', selector(cat_cols)),\n",
        "    ('imputer', SimpleImputer(strategy=\"most_frequent\")),\n",
        "    ('encoder', OneHotEncoder(sparse=False))                   \n",
        "])"
      ],
      "execution_count": null,
      "outputs": []
    },
    {
      "cell_type": "code",
      "metadata": {
        "id": "vEPB-xf-7zqx"
      },
      "source": [
        "full_pipeline = FeatureUnion(transformer_list=[\n",
        "    (\"num\", num_pipeline),\n",
        "    (\"cat\", cat_pipeline)\n",
        "])"
      ],
      "execution_count": null,
      "outputs": []
    },
    {
      "cell_type": "code",
      "metadata": {
        "id": "T4EV2mTH99m0"
      },
      "source": [
        "X_preprocesed = full_pipeline.fit_transform(X)"
      ],
      "execution_count": null,
      "outputs": []
    },
    {
      "cell_type": "code",
      "metadata": {
        "colab": {
          "base_uri": "https://localhost:8080/"
        },
        "id": "6m2cjPdKdtzY",
        "outputId": "129069b3-d285-4d3d-ef84-4d2e6339cc3c"
      },
      "source": [
        "X_preprocesed"
      ],
      "execution_count": null,
      "outputs": [
        {
          "output_type": "execute_result",
          "data": {
            "text/plain": [
              "array([[-0.56573646, -0.50244517,  0.43279337, ...,  0.        ,\n",
              "         0.        ,  1.        ],\n",
              "       [ 0.66386103,  0.78684529,  0.43279337, ...,  1.        ,\n",
              "         0.        ,  0.        ],\n",
              "       [-0.25833709, -0.48885426, -0.4745452 , ...,  0.        ,\n",
              "         0.        ,  1.        ],\n",
              "       ...,\n",
              "       [-0.1046374 , -0.17626324,  0.43279337, ...,  0.        ,\n",
              "         0.        ,  1.        ],\n",
              "       [-0.25833709, -0.04438104, -0.4745452 , ...,  1.        ,\n",
              "         0.        ,  0.        ],\n",
              "       [ 0.20276197, -0.49237783, -0.4745452 , ...,  0.        ,\n",
              "         0.        ,  1.        ]])"
            ]
          },
          "metadata": {
            "tags": []
          },
          "execution_count": 153
        }
      ]
    },
    {
      "cell_type": "code",
      "metadata": {
        "id": "s8JTBqVx_2vc"
      },
      "source": [
        "from sklearn.svm import SVC\n",
        "from sklearn.ensemble import RandomForestClassifier, AdaBoostClassifier, BaggingClassifier\n",
        "from sklearn.model_selection import cross_val_score, GridSearchCV"
      ],
      "execution_count": null,
      "outputs": []
    },
    {
      "cell_type": "code",
      "metadata": {
        "id": "IxkTpa7fA_dH"
      },
      "source": [
        "svm_clf = SVC(probability=True)\n",
        "ada_clf = AdaBoostClassifier()\n",
        "bag_clf = BaggingClassifier()\n",
        "rf_clf = RandomForestClassifier()"
      ],
      "execution_count": null,
      "outputs": []
    },
    {
      "cell_type": "code",
      "metadata": {
        "colab": {
          "base_uri": "https://localhost:8080/"
        },
        "id": "-Jzm-zcPUekL",
        "outputId": "65efbb2b-e2e0-430e-8cf3-ccf22fb075ca"
      },
      "source": [
        "cross_val_score(svm_clf, X_preprocesed, y, scoring=\"accuracy\", cv=5)"
      ],
      "execution_count": null,
      "outputs": [
        {
          "output_type": "execute_result",
          "data": {
            "text/plain": [
              "array([0.84357542, 0.8258427 , 0.82022472, 0.80898876, 0.87640449])"
            ]
          },
          "metadata": {
            "tags": []
          },
          "execution_count": 159
        }
      ]
    },
    {
      "cell_type": "code",
      "metadata": {
        "colab": {
          "base_uri": "https://localhost:8080/"
        },
        "id": "MGiOmRWJUySs",
        "outputId": "fba0c361-f45d-4b4f-f226-5dd1b55276e3"
      },
      "source": [
        "cross_val_score(rf_clf, X_preprocesed, y, scoring=\"accuracy\", cv=5)"
      ],
      "execution_count": null,
      "outputs": [
        {
          "output_type": "execute_result",
          "data": {
            "text/plain": [
              "array([0.7877095 , 0.7752809 , 0.84831461, 0.76404494, 0.80898876])"
            ]
          },
          "metadata": {
            "tags": []
          },
          "execution_count": 160
        }
      ]
    },
    {
      "cell_type": "code",
      "metadata": {
        "colab": {
          "base_uri": "https://localhost:8080/"
        },
        "id": "xRBD94NPU6qa",
        "outputId": "4dc68536-19be-48e1-86b2-e73dbee90f08"
      },
      "source": [
        "cross_val_score(ada_clf, X_preprocesed, y, scoring=\"accuracy\", cv=5)"
      ],
      "execution_count": null,
      "outputs": [
        {
          "output_type": "execute_result",
          "data": {
            "text/plain": [
              "array([0.7877095 , 0.80898876, 0.81460674, 0.81460674, 0.83707865])"
            ]
          },
          "metadata": {
            "tags": []
          },
          "execution_count": 161
        }
      ]
    },
    {
      "cell_type": "code",
      "metadata": {
        "id": "Ek1CBzjCm93K"
      },
      "source": [
        ""
      ],
      "execution_count": null,
      "outputs": []
    },
    {
      "cell_type": "code",
      "metadata": {
        "colab": {
          "base_uri": "https://localhost:8080/"
        },
        "id": "MmDSPmFLVGFH",
        "outputId": "2b5c5b91-b461-4083-981d-da47e1b1c3e1"
      },
      "source": [
        "params = {\n",
        "        'C':[0.1, 1, 2, 5],\n",
        "        'kernel': ['rbf', 'poly', 'sigmoid'],\n",
        "        'degree': [2, 3, 5],\n",
        "        \"probability\":[True, False],\n",
        "        \"tol\": [0.001, 0.01, 0.1, 1]\n",
        "}\n",
        "\n",
        "grid_svc = GridSearchCV(svm_clf, params, scoring=\"accuracy\", cv=5)\n",
        "grid_svc.fit(X_preprocesed,y)"
      ],
      "execution_count": null,
      "outputs": [
        {
          "output_type": "execute_result",
          "data": {
            "text/plain": [
              "GridSearchCV(cv=5, error_score=nan,\n",
              "             estimator=SVC(C=1.0, break_ties=False, cache_size=200,\n",
              "                           class_weight=None, coef0=0.0,\n",
              "                           decision_function_shape='ovr', degree=3,\n",
              "                           gamma='scale', kernel='rbf', max_iter=-1,\n",
              "                           probability=False, random_state=None, shrinking=True,\n",
              "                           tol=0.001, verbose=False),\n",
              "             iid='deprecated', n_jobs=None,\n",
              "             param_grid={'C': [0.1, 1, 2, 5], 'degree': [2, 3, 5],\n",
              "                         'kernel': ['rbf', 'poly', 'sigmoid'],\n",
              "                         'probability': [True, False],\n",
              "                         'tol': [0.001, 0.01, 0.1, 1]},\n",
              "             pre_dispatch='2*n_jobs', refit=True, return_train_score=False,\n",
              "             scoring='accuracy', verbose=0)"
            ]
          },
          "metadata": {
            "tags": []
          },
          "execution_count": 107
        }
      ]
    },
    {
      "cell_type": "code",
      "metadata": {
        "colab": {
          "base_uri": "https://localhost:8080/"
        },
        "id": "7AAMLAH4XWAS",
        "outputId": "42bf5c0a-57d5-4343-9f85-4d4cebfd37e6"
      },
      "source": [
        "grid_svc.best_estimator_"
      ],
      "execution_count": null,
      "outputs": [
        {
          "output_type": "execute_result",
          "data": {
            "text/plain": [
              "SVC(C=5, break_ties=False, cache_size=200, class_weight=None, coef0=0.0,\n",
              "    decision_function_shape='ovr', degree=2, gamma='scale', kernel='poly',\n",
              "    max_iter=-1, probability=True, random_state=None, shrinking=True, tol=0.1,\n",
              "    verbose=False)"
            ]
          },
          "metadata": {
            "tags": []
          },
          "execution_count": 108
        }
      ]
    },
    {
      "cell_type": "code",
      "metadata": {
        "colab": {
          "base_uri": "https://localhost:8080/"
        },
        "id": "c41RRGVsXde1",
        "outputId": "923218f2-b39d-44b2-b2ec-19ad0d055589"
      },
      "source": [
        "grid_svc.best_score_"
      ],
      "execution_count": null,
      "outputs": [
        {
          "output_type": "execute_result",
          "data": {
            "text/plain": [
              "0.8338585148452703"
            ]
          },
          "metadata": {
            "tags": []
          },
          "execution_count": 109
        }
      ]
    },
    {
      "cell_type": "code",
      "metadata": {
        "colab": {
          "base_uri": "https://localhost:8080/"
        },
        "id": "Qa6WtS5yX33W",
        "outputId": "c2331429-72d9-400f-986d-774f52068e47"
      },
      "source": [
        "params = {\n",
        "    'n_estimators': [50, 100, 150, 200],\n",
        "    \"criterion\": [\"gini\",  \"entropy\"],\n",
        "    'max_depth': [None, 10, 20, 100],\n",
        "    'min_samples_split': [2, 3, 4, 5]\n",
        "}\n",
        "\n",
        "grid_rf = GridSearchCV(rf_clf, params, scoring=\"accuracy\", cv=5)\n",
        "grid_rf.fit(X_preprocesed,y)"
      ],
      "execution_count": null,
      "outputs": [
        {
          "output_type": "execute_result",
          "data": {
            "text/plain": [
              "GridSearchCV(cv=5, error_score=nan,\n",
              "             estimator=RandomForestClassifier(bootstrap=True, ccp_alpha=0.0,\n",
              "                                              class_weight=None,\n",
              "                                              criterion='gini', max_depth=None,\n",
              "                                              max_features='auto',\n",
              "                                              max_leaf_nodes=None,\n",
              "                                              max_samples=None,\n",
              "                                              min_impurity_decrease=0.0,\n",
              "                                              min_impurity_split=None,\n",
              "                                              min_samples_leaf=1,\n",
              "                                              min_samples_split=2,\n",
              "                                              min_weight_fraction_leaf=0.0,\n",
              "                                              n_estimators=100, n_jobs=None,\n",
              "                                              oob_score=False,\n",
              "                                              random_state=None, verbose=0,\n",
              "                                              warm_start=False),\n",
              "             iid='deprecated', n_jobs=None,\n",
              "             param_grid={'criterion': ['gini', 'entropy'],\n",
              "                         'max_depth': [None, 10, 20, 100],\n",
              "                         'min_samples_split': [2, 3, 4, 5],\n",
              "                         'n_estimators': [50, 100, 150, 200]},\n",
              "             pre_dispatch='2*n_jobs', refit=True, return_train_score=False,\n",
              "             scoring='accuracy', verbose=0)"
            ]
          },
          "metadata": {
            "tags": []
          },
          "execution_count": 20
        }
      ]
    },
    {
      "cell_type": "code",
      "metadata": {
        "colab": {
          "base_uri": "https://localhost:8080/"
        },
        "id": "TCcjX2JXZU-H",
        "outputId": "1907093c-b8a4-489c-c80e-0fcf2ff9c63f"
      },
      "source": [
        "grid_rf.best_estimator_, grid_rf.best_score_"
      ],
      "execution_count": null,
      "outputs": [
        {
          "output_type": "execute_result",
          "data": {
            "text/plain": [
              "(RandomForestClassifier(bootstrap=True, ccp_alpha=0.0, class_weight=None,\n",
              "                        criterion='gini', max_depth=20, max_features='auto',\n",
              "                        max_leaf_nodes=None, max_samples=None,\n",
              "                        min_impurity_decrease=0.0, min_impurity_split=None,\n",
              "                        min_samples_leaf=1, min_samples_split=5,\n",
              "                        min_weight_fraction_leaf=0.0, n_estimators=100,\n",
              "                        n_jobs=None, oob_score=False, random_state=None,\n",
              "                        verbose=0, warm_start=False), 0.8339087314041805)"
            ]
          },
          "metadata": {
            "tags": []
          },
          "execution_count": 21
        }
      ]
    },
    {
      "cell_type": "code",
      "metadata": {
        "id": "XEs8XUdaaj9U",
        "colab": {
          "base_uri": "https://localhost:8080/"
        },
        "outputId": "f28a4ecf-5352-4732-f7fe-e25cf0419bad"
      },
      "source": [
        "!pip install catboost"
      ],
      "execution_count": null,
      "outputs": [
        {
          "output_type": "stream",
          "text": [
            "Collecting catboost\n",
            "  Downloading catboost-0.26-cp37-none-manylinux1_x86_64.whl (69.2 MB)\n",
            "\u001b[K     |████████████████████████████████| 69.2 MB 4.8 kB/s \n",
            "\u001b[?25hRequirement already satisfied: graphviz in /usr/local/lib/python3.7/dist-packages (from catboost) (0.10.1)\n",
            "Requirement already satisfied: pandas>=0.24.0 in /usr/local/lib/python3.7/dist-packages (from catboost) (1.1.5)\n",
            "Requirement already satisfied: matplotlib in /usr/local/lib/python3.7/dist-packages (from catboost) (3.2.2)\n",
            "Requirement already satisfied: scipy in /usr/local/lib/python3.7/dist-packages (from catboost) (1.4.1)\n",
            "Requirement already satisfied: six in /usr/local/lib/python3.7/dist-packages (from catboost) (1.15.0)\n",
            "Requirement already satisfied: numpy>=1.16.0 in /usr/local/lib/python3.7/dist-packages (from catboost) (1.19.5)\n",
            "Requirement already satisfied: plotly in /usr/local/lib/python3.7/dist-packages (from catboost) (4.4.1)\n",
            "Requirement already satisfied: pytz>=2017.2 in /usr/local/lib/python3.7/dist-packages (from pandas>=0.24.0->catboost) (2018.9)\n",
            "Requirement already satisfied: python-dateutil>=2.7.3 in /usr/local/lib/python3.7/dist-packages (from pandas>=0.24.0->catboost) (2.8.1)\n",
            "Requirement already satisfied: cycler>=0.10 in /usr/local/lib/python3.7/dist-packages (from matplotlib->catboost) (0.10.0)\n",
            "Requirement already satisfied: kiwisolver>=1.0.1 in /usr/local/lib/python3.7/dist-packages (from matplotlib->catboost) (1.3.1)\n",
            "Requirement already satisfied: pyparsing!=2.0.4,!=2.1.2,!=2.1.6,>=2.0.1 in /usr/local/lib/python3.7/dist-packages (from matplotlib->catboost) (2.4.7)\n",
            "Requirement already satisfied: retrying>=1.3.3 in /usr/local/lib/python3.7/dist-packages (from plotly->catboost) (1.3.3)\n",
            "Installing collected packages: catboost\n",
            "Successfully installed catboost-0.26\n"
          ],
          "name": "stdout"
        }
      ]
    },
    {
      "cell_type": "code",
      "metadata": {
        "id": "Br80p4vJbOOY"
      },
      "source": [
        "from catboost import CatBoostClassifier"
      ],
      "execution_count": null,
      "outputs": []
    },
    {
      "cell_type": "code",
      "metadata": {
        "id": "lxWTZpPhbW4N"
      },
      "source": [
        "cat_clf = CatBoostClassifier(verbose=False)"
      ],
      "execution_count": null,
      "outputs": []
    },
    {
      "cell_type": "code",
      "metadata": {
        "colab": {
          "base_uri": "https://localhost:8080/",
          "height": 35,
          "referenced_widgets": [
            "b3c6f4fe36814192ac2f84e9fd1bd6f3"
          ]
        },
        "id": "wKhS5gZzbdSr",
        "outputId": "a74e0768-0216-4b1e-ff92-0d27eaf908d6"
      },
      "source": [
        "cat_clf.fit(X_preprocesed, y, verbose=False, plot=True)"
      ],
      "execution_count": null,
      "outputs": [
        {
          "output_type": "display_data",
          "data": {
            "application/vnd.jupyter.widget-view+json": {
              "model_id": "b3c6f4fe36814192ac2f84e9fd1bd6f3",
              "version_minor": 0,
              "version_major": 2
            },
            "text/plain": [
              "MetricVisualizer(layout=Layout(align_self='stretch', height='500px'))"
            ]
          },
          "metadata": {
            "tags": []
          }
        },
        {
          "output_type": "execute_result",
          "data": {
            "text/plain": [
              "<catboost.core.CatBoostClassifier at 0x7f7a8c999d50>"
            ]
          },
          "metadata": {
            "tags": []
          },
          "execution_count": 174
        }
      ]
    },
    {
      "cell_type": "code",
      "metadata": {
        "id": "M-CCaP-rbcoa",
        "colab": {
          "base_uri": "https://localhost:8080/"
        },
        "outputId": "0627b02a-acdb-4383-83ef-1d8311b48a3a"
      },
      "source": [
        "cross_val_score(cat_clf, X_preprocesed, y, scoring='accuracy', cv=5)"
      ],
      "execution_count": null,
      "outputs": [
        {
          "output_type": "execute_result",
          "data": {
            "text/plain": [
              "array([0.83240223, 0.80898876, 0.85955056, 0.82022472, 0.84269663])"
            ]
          },
          "metadata": {
            "tags": []
          },
          "execution_count": 175
        }
      ]
    },
    {
      "cell_type": "code",
      "metadata": {
        "id": "tz10cPbjb0Sa"
      },
      "source": [
        "best_model = grid_rf.best_estimator_"
      ],
      "execution_count": null,
      "outputs": []
    },
    {
      "cell_type": "code",
      "metadata": {
        "colab": {
          "base_uri": "https://localhost:8080/"
        },
        "id": "48259jGXcf7C",
        "outputId": "893979d0-c4b2-458b-af2c-d720b18b1bb5"
      },
      "source": [
        "best_model.fit(X_preprocesed, y)"
      ],
      "execution_count": null,
      "outputs": [
        {
          "output_type": "execute_result",
          "data": {
            "text/plain": [
              "RandomForestClassifier(bootstrap=True, ccp_alpha=0.0, class_weight=None,\n",
              "                       criterion='gini', max_depth=20, max_features='auto',\n",
              "                       max_leaf_nodes=None, max_samples=None,\n",
              "                       min_impurity_decrease=0.0, min_impurity_split=None,\n",
              "                       min_samples_leaf=1, min_samples_split=5,\n",
              "                       min_weight_fraction_leaf=0.0, n_estimators=100,\n",
              "                       n_jobs=None, oob_score=False, random_state=None,\n",
              "                       verbose=0, warm_start=False)"
            ]
          },
          "metadata": {
            "tags": []
          },
          "execution_count": 23
        }
      ]
    },
    {
      "cell_type": "code",
      "metadata": {
        "id": "xgOBHe4_aQgT"
      },
      "source": [
        "from sklearn.decomposition import PCA"
      ],
      "execution_count": null,
      "outputs": []
    },
    {
      "cell_type": "code",
      "metadata": {
        "id": "-B8HKBZkaQON"
      },
      "source": [
        "pca = PCA(8)"
      ],
      "execution_count": null,
      "outputs": []
    },
    {
      "cell_type": "code",
      "metadata": {
        "colab": {
          "base_uri": "https://localhost:8080/"
        },
        "id": "dHEk-7QiaP56",
        "outputId": "20b8da7d-69d4-4cba-b337-85eef6f6ea81"
      },
      "source": [
        "X_preprocesed2.shape"
      ],
      "execution_count": null,
      "outputs": [
        {
          "output_type": "execute_result",
          "data": {
            "text/plain": [
              "(891, 8)"
            ]
          },
          "metadata": {
            "tags": []
          },
          "execution_count": 82
        }
      ]
    },
    {
      "cell_type": "markdown",
      "metadata": {
        "id": "ABO8bo3sBtjP"
      },
      "source": [
        "Пишем свои собственные предсказатели"
      ]
    },
    {
      "cell_type": "code",
      "metadata": {
        "id": "vKj0395eBtLE"
      },
      "source": [
        "from sklearn.base import BaseEstimator, ClassifierMixin\n",
        "from sklearn.utils.validation import check_X_y, check_array, check_is_fitted"
      ],
      "execution_count": null,
      "outputs": []
    },
    {
      "cell_type": "code",
      "metadata": {
        "id": "ni-uNvHnD9fX"
      },
      "source": [
        "class StratRandomClassifier(BaseEstimator, ClassifierMixin):\n",
        "\n",
        "  def __init__(self, n=None):\n",
        "    self.n = n\n",
        "\n",
        "  def fit(self, X, y):\n",
        "    self.proba_dict = (X[y==1][self.n].value_counts()/X[self.n].value_counts()).to_dict()\n",
        "    return self\n",
        "\n",
        "  def predict(self, X):\n",
        "    y = []\n",
        "    for i in X.values:\n",
        "      sex = i[self.n]\n",
        "      y.append(np.random.choice(2, p=[1-self.proba_dict[sex], self.proba_dict[sex]]))\n",
        "    return np.array(y)"
      ],
      "execution_count": null,
      "outputs": []
    },
    {
      "cell_type": "code",
      "metadata": {
        "id": "4o1qzegeTVNo"
      },
      "source": [
        ""
      ],
      "execution_count": null,
      "outputs": []
    },
    {
      "cell_type": "code",
      "metadata": {
        "colab": {
          "base_uri": "https://localhost:8080/",
          "height": 571
        },
        "id": "ajnQ2KVoSz2U",
        "outputId": "0d60b583-262c-499c-a457-00a4db7ccde3"
      },
      "source": [
        "n=2\n",
        "(X[y==1][n].value_counts()/X[n].value_counts())"
      ],
      "execution_count": null,
      "outputs": [
        {
          "output_type": "error",
          "ename": "KeyError",
          "evalue": "ignored",
          "traceback": [
            "\u001b[0;31m---------------------------------------------------------------------------\u001b[0m",
            "\u001b[0;31mKeyError\u001b[0m                                  Traceback (most recent call last)",
            "\u001b[0;32m/usr/local/lib/python3.7/dist-packages/pandas/core/indexes/base.py\u001b[0m in \u001b[0;36mget_loc\u001b[0;34m(self, key, method, tolerance)\u001b[0m\n\u001b[1;32m   2897\u001b[0m             \u001b[0;32mtry\u001b[0m\u001b[0;34m:\u001b[0m\u001b[0;34m\u001b[0m\u001b[0;34m\u001b[0m\u001b[0m\n\u001b[0;32m-> 2898\u001b[0;31m                 \u001b[0;32mreturn\u001b[0m \u001b[0mself\u001b[0m\u001b[0;34m.\u001b[0m\u001b[0m_engine\u001b[0m\u001b[0;34m.\u001b[0m\u001b[0mget_loc\u001b[0m\u001b[0;34m(\u001b[0m\u001b[0mcasted_key\u001b[0m\u001b[0;34m)\u001b[0m\u001b[0;34m\u001b[0m\u001b[0;34m\u001b[0m\u001b[0m\n\u001b[0m\u001b[1;32m   2899\u001b[0m             \u001b[0;32mexcept\u001b[0m \u001b[0mKeyError\u001b[0m \u001b[0;32mas\u001b[0m \u001b[0merr\u001b[0m\u001b[0;34m:\u001b[0m\u001b[0;34m\u001b[0m\u001b[0;34m\u001b[0m\u001b[0m\n",
            "\u001b[0;32mpandas/_libs/index.pyx\u001b[0m in \u001b[0;36mpandas._libs.index.IndexEngine.get_loc\u001b[0;34m()\u001b[0m\n",
            "\u001b[0;32mpandas/_libs/index.pyx\u001b[0m in \u001b[0;36mpandas._libs.index.IndexEngine.get_loc\u001b[0;34m()\u001b[0m\n",
            "\u001b[0;32mpandas/_libs/hashtable_class_helper.pxi\u001b[0m in \u001b[0;36mpandas._libs.hashtable.PyObjectHashTable.get_item\u001b[0;34m()\u001b[0m\n",
            "\u001b[0;32mpandas/_libs/hashtable_class_helper.pxi\u001b[0m in \u001b[0;36mpandas._libs.hashtable.PyObjectHashTable.get_item\u001b[0;34m()\u001b[0m\n",
            "\u001b[0;31mKeyError\u001b[0m: 2",
            "\nThe above exception was the direct cause of the following exception:\n",
            "\u001b[0;31mKeyError\u001b[0m                                  Traceback (most recent call last)",
            "\u001b[0;32m<ipython-input-185-a3c49986b4f0>\u001b[0m in \u001b[0;36m<module>\u001b[0;34m()\u001b[0m\n\u001b[1;32m      1\u001b[0m \u001b[0mn\u001b[0m\u001b[0;34m=\u001b[0m\u001b[0;36m2\u001b[0m\u001b[0;34m\u001b[0m\u001b[0;34m\u001b[0m\u001b[0m\n\u001b[0;32m----> 2\u001b[0;31m \u001b[0;34m(\u001b[0m\u001b[0mX\u001b[0m\u001b[0;34m[\u001b[0m\u001b[0my\u001b[0m\u001b[0;34m==\u001b[0m\u001b[0;36m1\u001b[0m\u001b[0;34m]\u001b[0m\u001b[0;34m[\u001b[0m\u001b[0mn\u001b[0m\u001b[0;34m]\u001b[0m\u001b[0;34m.\u001b[0m\u001b[0mvalue_counts\u001b[0m\u001b[0;34m(\u001b[0m\u001b[0;34m)\u001b[0m\u001b[0;34m/\u001b[0m\u001b[0mX\u001b[0m\u001b[0;34m[\u001b[0m\u001b[0mn\u001b[0m\u001b[0;34m]\u001b[0m\u001b[0;34m.\u001b[0m\u001b[0mvalue_counts\u001b[0m\u001b[0;34m(\u001b[0m\u001b[0;34m)\u001b[0m\u001b[0;34m)\u001b[0m\u001b[0;34m\u001b[0m\u001b[0;34m\u001b[0m\u001b[0m\n\u001b[0m",
            "\u001b[0;32m/usr/local/lib/python3.7/dist-packages/pandas/core/frame.py\u001b[0m in \u001b[0;36m__getitem__\u001b[0;34m(self, key)\u001b[0m\n\u001b[1;32m   2904\u001b[0m             \u001b[0;32mif\u001b[0m \u001b[0mself\u001b[0m\u001b[0;34m.\u001b[0m\u001b[0mcolumns\u001b[0m\u001b[0;34m.\u001b[0m\u001b[0mnlevels\u001b[0m \u001b[0;34m>\u001b[0m \u001b[0;36m1\u001b[0m\u001b[0;34m:\u001b[0m\u001b[0;34m\u001b[0m\u001b[0;34m\u001b[0m\u001b[0m\n\u001b[1;32m   2905\u001b[0m                 \u001b[0;32mreturn\u001b[0m \u001b[0mself\u001b[0m\u001b[0;34m.\u001b[0m\u001b[0m_getitem_multilevel\u001b[0m\u001b[0;34m(\u001b[0m\u001b[0mkey\u001b[0m\u001b[0;34m)\u001b[0m\u001b[0;34m\u001b[0m\u001b[0;34m\u001b[0m\u001b[0m\n\u001b[0;32m-> 2906\u001b[0;31m             \u001b[0mindexer\u001b[0m \u001b[0;34m=\u001b[0m \u001b[0mself\u001b[0m\u001b[0;34m.\u001b[0m\u001b[0mcolumns\u001b[0m\u001b[0;34m.\u001b[0m\u001b[0mget_loc\u001b[0m\u001b[0;34m(\u001b[0m\u001b[0mkey\u001b[0m\u001b[0;34m)\u001b[0m\u001b[0;34m\u001b[0m\u001b[0;34m\u001b[0m\u001b[0m\n\u001b[0m\u001b[1;32m   2907\u001b[0m             \u001b[0;32mif\u001b[0m \u001b[0mis_integer\u001b[0m\u001b[0;34m(\u001b[0m\u001b[0mindexer\u001b[0m\u001b[0;34m)\u001b[0m\u001b[0;34m:\u001b[0m\u001b[0;34m\u001b[0m\u001b[0;34m\u001b[0m\u001b[0m\n\u001b[1;32m   2908\u001b[0m                 \u001b[0mindexer\u001b[0m \u001b[0;34m=\u001b[0m \u001b[0;34m[\u001b[0m\u001b[0mindexer\u001b[0m\u001b[0;34m]\u001b[0m\u001b[0;34m\u001b[0m\u001b[0;34m\u001b[0m\u001b[0m\n",
            "\u001b[0;32m/usr/local/lib/python3.7/dist-packages/pandas/core/indexes/base.py\u001b[0m in \u001b[0;36mget_loc\u001b[0;34m(self, key, method, tolerance)\u001b[0m\n\u001b[1;32m   2898\u001b[0m                 \u001b[0;32mreturn\u001b[0m \u001b[0mself\u001b[0m\u001b[0;34m.\u001b[0m\u001b[0m_engine\u001b[0m\u001b[0;34m.\u001b[0m\u001b[0mget_loc\u001b[0m\u001b[0;34m(\u001b[0m\u001b[0mcasted_key\u001b[0m\u001b[0;34m)\u001b[0m\u001b[0;34m\u001b[0m\u001b[0;34m\u001b[0m\u001b[0m\n\u001b[1;32m   2899\u001b[0m             \u001b[0;32mexcept\u001b[0m \u001b[0mKeyError\u001b[0m \u001b[0;32mas\u001b[0m \u001b[0merr\u001b[0m\u001b[0;34m:\u001b[0m\u001b[0;34m\u001b[0m\u001b[0;34m\u001b[0m\u001b[0m\n\u001b[0;32m-> 2900\u001b[0;31m                 \u001b[0;32mraise\u001b[0m \u001b[0mKeyError\u001b[0m\u001b[0;34m(\u001b[0m\u001b[0mkey\u001b[0m\u001b[0;34m)\u001b[0m \u001b[0;32mfrom\u001b[0m \u001b[0merr\u001b[0m\u001b[0;34m\u001b[0m\u001b[0;34m\u001b[0m\u001b[0m\n\u001b[0m\u001b[1;32m   2901\u001b[0m \u001b[0;34m\u001b[0m\u001b[0m\n\u001b[1;32m   2902\u001b[0m         \u001b[0;32mif\u001b[0m \u001b[0mtolerance\u001b[0m \u001b[0;32mis\u001b[0m \u001b[0;32mnot\u001b[0m \u001b[0;32mNone\u001b[0m\u001b[0;34m:\u001b[0m\u001b[0;34m\u001b[0m\u001b[0;34m\u001b[0m\u001b[0m\n",
            "\u001b[0;31mKeyError\u001b[0m: 2"
          ]
        }
      ]
    },
    {
      "cell_type": "code",
      "metadata": {
        "id": "ML-fMPkTNPso"
      },
      "source": [
        "by_sex_clf = StratRandomClassifier(n=2)\n",
        "by_Pclass_clf = StratRandomClassifier(\"Pclass\")"
      ],
      "execution_count": null,
      "outputs": []
    },
    {
      "cell_type": "code",
      "metadata": {
        "colab": {
          "base_uri": "https://localhost:8080/"
        },
        "id": "Fsf-BLpVNZBG",
        "outputId": "2fa1acde-ef00-4bab-9535-15ae347aed5c"
      },
      "source": [
        "by_sex_clf.fit(X,y)"
      ],
      "execution_count": null,
      "outputs": [
        {
          "output_type": "execute_result",
          "data": {
            "text/plain": [
              "StratRandomClassifier(atr='Sex', n=2)"
            ]
          },
          "metadata": {
            "tags": []
          },
          "execution_count": 173
        }
      ]
    },
    {
      "cell_type": "code",
      "metadata": {
        "colab": {
          "base_uri": "https://localhost:8080/"
        },
        "id": "oOwQATKFNeoa",
        "outputId": "a607ce95-84ce-4d5e-87db-2a14f0a5ac2c"
      },
      "source": [
        "by_sex_clf.predict(X)"
      ],
      "execution_count": null,
      "outputs": [
        {
          "output_type": "execute_result",
          "data": {
            "text/plain": [
              "array([0, 1, 1, 0, 0, 0, 0, 0, 1, 1, 1, 1, 0, 0, 1, 1, 0, 0, 0, 1, 0, 0,\n",
              "       0, 0, 0, 1, 0, 0, 1, 0, 0, 1, 1, 0, 0, 0, 0, 0, 1, 0, 1, 0, 0, 1,\n",
              "       1, 0, 0, 1, 0, 1, 0, 0, 1, 1, 0, 0, 1, 1, 1, 1, 1, 0, 0, 1, 0, 0,\n",
              "       1, 0, 1, 0, 1, 1, 0, 0, 0, 0, 0, 1, 0, 1, 0, 0, 0, 0, 1, 1, 0, 0,\n",
              "       0, 0, 0, 0, 0, 0, 0, 1, 0, 1, 1, 0, 1, 0, 0, 0, 1, 1, 1, 0, 1, 0,\n",
              "       0, 1, 0, 0, 1, 0, 1, 0, 0, 1, 0, 0, 0, 1, 0, 0, 0, 0, 1, 0, 0, 0,\n",
              "       1, 0, 0, 1, 1, 1, 0, 0, 1, 1, 1, 1, 0, 0, 0, 1, 0, 1, 1, 1, 0, 0,\n",
              "       0, 0, 0, 0, 0, 0, 0, 1, 0, 0, 0, 1, 1, 1, 1, 0, 0, 0, 1, 0, 0, 0,\n",
              "       0, 1, 0, 0, 0, 0, 0, 0, 0, 1, 1, 0, 0, 0, 1, 1, 1, 0, 0, 1, 0, 1,\n",
              "       0, 1, 1, 0, 0, 0, 1, 1, 1, 0, 1, 0, 0, 0, 0, 0, 0, 1, 0, 1, 1, 0,\n",
              "       0, 0, 0, 0, 0, 0, 0, 0, 0, 1, 0, 0, 1, 1, 0, 0, 0, 1, 0, 0, 1, 1,\n",
              "       1, 1, 0, 0, 1, 1, 0, 0, 1, 1, 0, 0, 1, 0, 0, 1, 1, 1, 0, 0, 0, 0,\n",
              "       1, 0, 0, 1, 1, 1, 0, 1, 0, 0, 1, 1, 1, 0, 0, 1, 0, 0, 0, 0, 0, 0,\n",
              "       1, 0, 0, 0, 1, 1, 0, 1, 0, 0, 0, 1, 0, 1, 1, 0, 0, 0, 0, 0, 1, 0,\n",
              "       0, 0, 1, 1, 0, 0, 0, 0, 1, 0, 1, 1, 0, 0, 1, 1, 0, 1, 0, 1, 0, 0,\n",
              "       1, 0, 0, 1, 1, 0, 0, 0, 0, 0, 0, 0, 0, 0, 0, 1, 1, 1, 0, 0, 0, 0,\n",
              "       1, 0, 0, 0, 0, 1, 1, 1, 0, 0, 0, 0, 1, 1, 1, 1, 0, 1, 0, 0, 0, 0,\n",
              "       1, 0, 1, 0, 0, 0, 0, 1, 0, 1, 0, 0, 1, 1, 0, 1, 0, 0, 0, 1, 1, 0,\n",
              "       0, 1, 0, 1, 0, 0, 1, 1, 1, 0, 0, 0, 1, 1, 0, 0, 1, 0, 0, 0, 1, 1,\n",
              "       0, 1, 0, 0, 0, 1, 0, 0, 0, 1, 1, 0, 1, 1, 0, 0, 0, 1, 0, 1, 0, 0,\n",
              "       1, 1, 0, 0, 0, 0, 1, 0, 0, 0, 1, 0, 0, 1, 0, 0, 0, 0, 1, 1, 0, 1,\n",
              "       0, 0, 0, 0, 0, 0, 0, 1, 0, 0, 1, 1, 1, 0, 0, 0, 0, 1, 0, 0, 0, 1,\n",
              "       0, 1, 1, 1, 0, 0, 0, 0, 0, 0, 0, 0, 1, 0, 0, 1, 0, 1, 0, 1, 0, 0,\n",
              "       0, 0, 0, 0, 0, 0, 1, 0, 0, 0, 1, 0, 0, 0, 0, 0, 0, 1, 0, 0, 1, 0,\n",
              "       0, 0, 1, 0, 0, 1, 1, 1, 0, 1, 0, 1, 0, 1, 0, 0, 0, 1, 1, 0, 0, 0,\n",
              "       0, 0, 0, 0, 1, 0, 1, 0, 0, 1, 0, 0, 1, 0, 1, 0, 0, 1, 0, 0, 0, 0,\n",
              "       0, 0, 0, 0, 1, 1, 1, 0, 1, 1, 0, 0, 0, 1, 1, 0, 0, 0, 1, 1, 0, 0,\n",
              "       0, 0, 1, 0, 0, 0, 1, 0, 0, 1, 0, 0, 0, 0, 1, 1, 1, 0, 0, 1, 0, 1,\n",
              "       0, 1, 1, 0, 0, 0, 0, 0, 0, 0, 1, 1, 0, 0, 0, 0, 1, 0, 1, 1, 0, 0,\n",
              "       1, 0, 0, 1, 1, 0, 1, 0, 1, 0, 1, 1, 0, 1, 0, 1, 0, 0, 1, 1, 0, 0,\n",
              "       0, 0, 0, 0, 0, 0, 0, 1, 0, 1, 0, 1, 0, 0, 0, 0, 0, 0, 1, 0, 1, 0,\n",
              "       0, 0, 0, 0, 0, 0, 0, 1, 1, 1, 0, 0, 0, 0, 0, 1, 0, 0, 1, 0, 1, 0,\n",
              "       0, 0, 0, 1, 1, 0, 1, 1, 0, 1, 0, 0, 1, 1, 0, 0, 1, 0, 1, 0, 0, 0,\n",
              "       0, 1, 1, 0, 0, 0, 0, 0, 0, 1, 1, 0, 0, 0, 0, 0, 1, 0, 0, 0, 0, 1,\n",
              "       0, 1, 1, 0, 0, 0, 1, 0, 0, 0, 0, 0, 0, 1, 0, 1, 0, 1, 0, 0, 0, 1,\n",
              "       0, 0, 1, 0, 1, 0, 1, 1, 0, 1, 1, 1, 0, 0, 0, 0, 0, 0, 0, 0, 1, 0,\n",
              "       1, 0, 0, 0, 0, 1, 0, 1, 0, 1, 0, 0, 0, 0, 0, 1, 1, 1, 1, 1, 0, 0,\n",
              "       0, 0, 0, 0, 0, 1, 1, 0, 1, 1, 1, 0, 0, 0, 0, 1, 1, 0, 0, 1, 0, 1,\n",
              "       0, 0, 0, 0, 1, 0, 0, 0, 1, 0, 1, 0, 0, 1, 0, 0, 1, 1, 1, 0, 1, 1,\n",
              "       1, 0, 0, 0, 1, 1, 0, 1, 1, 0, 0, 0, 0, 1, 0, 1, 1, 1, 0, 1, 0, 1,\n",
              "       1, 0, 1, 0, 0, 0, 0, 1, 0, 1, 0])"
            ]
          },
          "metadata": {
            "tags": []
          },
          "execution_count": 174
        }
      ]
    },
    {
      "cell_type": "code",
      "metadata": {
        "colab": {
          "base_uri": "https://localhost:8080/"
        },
        "id": "aS68CRCzNokV",
        "outputId": "684afbe4-edbd-4e7f-f6db-b3117d111010"
      },
      "source": [
        "cross_val_score(by_sex_clf, X, y, cv=5)"
      ],
      "execution_count": null,
      "outputs": [
        {
          "output_type": "execute_result",
          "data": {
            "text/plain": [
              "array([0.65363128, 0.67977528, 0.67977528, 0.6741573 , 0.65730337])"
            ]
          },
          "metadata": {
            "tags": []
          },
          "execution_count": 134
        }
      ]
    },
    {
      "cell_type": "code",
      "metadata": {
        "colab": {
          "base_uri": "https://localhost:8080/"
        },
        "id": "oA31tMnLOmVA",
        "outputId": "46c3bd19-9fab-4144-a0c2-62de9ef01584"
      },
      "source": [
        "cross_val_score(by_Pclass_clf, X, y, cv=5)"
      ],
      "execution_count": null,
      "outputs": [
        {
          "output_type": "execute_result",
          "data": {
            "text/plain": [
              "array([0.51955307, 0.51123596, 0.63483146, 0.54494382, 0.56741573])"
            ]
          },
          "metadata": {
            "tags": []
          },
          "execution_count": 139
        }
      ]
    },
    {
      "cell_type": "code",
      "metadata": {
        "colab": {
          "base_uri": "https://localhost:8080/",
          "height": 446
        },
        "id": "9wevB1iJKKO1",
        "outputId": "f3611e6f-6998-495b-d648-ab9429f774ef"
      },
      "source": [
        "X"
      ],
      "execution_count": null,
      "outputs": [
        {
          "output_type": "execute_result",
          "data": {
            "text/html": [
              "<div>\n",
              "<style scoped>\n",
              "    .dataframe tbody tr th:only-of-type {\n",
              "        vertical-align: middle;\n",
              "    }\n",
              "\n",
              "    .dataframe tbody tr th {\n",
              "        vertical-align: top;\n",
              "    }\n",
              "\n",
              "    .dataframe thead th {\n",
              "        text-align: right;\n",
              "    }\n",
              "</style>\n",
              "<table border=\"1\" class=\"dataframe\">\n",
              "  <thead>\n",
              "    <tr style=\"text-align: right;\">\n",
              "      <th></th>\n",
              "      <th>Pclass</th>\n",
              "      <th>Name</th>\n",
              "      <th>Sex</th>\n",
              "      <th>Age</th>\n",
              "      <th>SibSp</th>\n",
              "      <th>Parch</th>\n",
              "      <th>Ticket</th>\n",
              "      <th>Fare</th>\n",
              "      <th>Cabin</th>\n",
              "      <th>Embarked</th>\n",
              "    </tr>\n",
              "    <tr>\n",
              "      <th>PassengerId</th>\n",
              "      <th></th>\n",
              "      <th></th>\n",
              "      <th></th>\n",
              "      <th></th>\n",
              "      <th></th>\n",
              "      <th></th>\n",
              "      <th></th>\n",
              "      <th></th>\n",
              "      <th></th>\n",
              "      <th></th>\n",
              "    </tr>\n",
              "  </thead>\n",
              "  <tbody>\n",
              "    <tr>\n",
              "      <th>1</th>\n",
              "      <td>3</td>\n",
              "      <td>Braund, Mr. Owen Harris</td>\n",
              "      <td>male</td>\n",
              "      <td>22.0</td>\n",
              "      <td>1</td>\n",
              "      <td>0</td>\n",
              "      <td>A/5 21171</td>\n",
              "      <td>7.2500</td>\n",
              "      <td>NaN</td>\n",
              "      <td>S</td>\n",
              "    </tr>\n",
              "    <tr>\n",
              "      <th>2</th>\n",
              "      <td>1</td>\n",
              "      <td>Cumings, Mrs. John Bradley (Florence Briggs Th...</td>\n",
              "      <td>female</td>\n",
              "      <td>38.0</td>\n",
              "      <td>1</td>\n",
              "      <td>0</td>\n",
              "      <td>PC 17599</td>\n",
              "      <td>71.2833</td>\n",
              "      <td>C85</td>\n",
              "      <td>C</td>\n",
              "    </tr>\n",
              "    <tr>\n",
              "      <th>3</th>\n",
              "      <td>3</td>\n",
              "      <td>Heikkinen, Miss. Laina</td>\n",
              "      <td>female</td>\n",
              "      <td>26.0</td>\n",
              "      <td>0</td>\n",
              "      <td>0</td>\n",
              "      <td>STON/O2. 3101282</td>\n",
              "      <td>7.9250</td>\n",
              "      <td>NaN</td>\n",
              "      <td>S</td>\n",
              "    </tr>\n",
              "    <tr>\n",
              "      <th>4</th>\n",
              "      <td>1</td>\n",
              "      <td>Futrelle, Mrs. Jacques Heath (Lily May Peel)</td>\n",
              "      <td>female</td>\n",
              "      <td>35.0</td>\n",
              "      <td>1</td>\n",
              "      <td>0</td>\n",
              "      <td>113803</td>\n",
              "      <td>53.1000</td>\n",
              "      <td>C123</td>\n",
              "      <td>S</td>\n",
              "    </tr>\n",
              "    <tr>\n",
              "      <th>5</th>\n",
              "      <td>3</td>\n",
              "      <td>Allen, Mr. William Henry</td>\n",
              "      <td>male</td>\n",
              "      <td>35.0</td>\n",
              "      <td>0</td>\n",
              "      <td>0</td>\n",
              "      <td>373450</td>\n",
              "      <td>8.0500</td>\n",
              "      <td>NaN</td>\n",
              "      <td>S</td>\n",
              "    </tr>\n",
              "    <tr>\n",
              "      <th>...</th>\n",
              "      <td>...</td>\n",
              "      <td>...</td>\n",
              "      <td>...</td>\n",
              "      <td>...</td>\n",
              "      <td>...</td>\n",
              "      <td>...</td>\n",
              "      <td>...</td>\n",
              "      <td>...</td>\n",
              "      <td>...</td>\n",
              "      <td>...</td>\n",
              "    </tr>\n",
              "    <tr>\n",
              "      <th>887</th>\n",
              "      <td>2</td>\n",
              "      <td>Montvila, Rev. Juozas</td>\n",
              "      <td>male</td>\n",
              "      <td>27.0</td>\n",
              "      <td>0</td>\n",
              "      <td>0</td>\n",
              "      <td>211536</td>\n",
              "      <td>13.0000</td>\n",
              "      <td>NaN</td>\n",
              "      <td>S</td>\n",
              "    </tr>\n",
              "    <tr>\n",
              "      <th>888</th>\n",
              "      <td>1</td>\n",
              "      <td>Graham, Miss. Margaret Edith</td>\n",
              "      <td>female</td>\n",
              "      <td>19.0</td>\n",
              "      <td>0</td>\n",
              "      <td>0</td>\n",
              "      <td>112053</td>\n",
              "      <td>30.0000</td>\n",
              "      <td>B42</td>\n",
              "      <td>S</td>\n",
              "    </tr>\n",
              "    <tr>\n",
              "      <th>889</th>\n",
              "      <td>3</td>\n",
              "      <td>Johnston, Miss. Catherine Helen \"Carrie\"</td>\n",
              "      <td>female</td>\n",
              "      <td>NaN</td>\n",
              "      <td>1</td>\n",
              "      <td>2</td>\n",
              "      <td>W./C. 6607</td>\n",
              "      <td>23.4500</td>\n",
              "      <td>NaN</td>\n",
              "      <td>S</td>\n",
              "    </tr>\n",
              "    <tr>\n",
              "      <th>890</th>\n",
              "      <td>1</td>\n",
              "      <td>Behr, Mr. Karl Howell</td>\n",
              "      <td>male</td>\n",
              "      <td>26.0</td>\n",
              "      <td>0</td>\n",
              "      <td>0</td>\n",
              "      <td>111369</td>\n",
              "      <td>30.0000</td>\n",
              "      <td>C148</td>\n",
              "      <td>C</td>\n",
              "    </tr>\n",
              "    <tr>\n",
              "      <th>891</th>\n",
              "      <td>3</td>\n",
              "      <td>Dooley, Mr. Patrick</td>\n",
              "      <td>male</td>\n",
              "      <td>32.0</td>\n",
              "      <td>0</td>\n",
              "      <td>0</td>\n",
              "      <td>370376</td>\n",
              "      <td>7.7500</td>\n",
              "      <td>NaN</td>\n",
              "      <td>Q</td>\n",
              "    </tr>\n",
              "  </tbody>\n",
              "</table>\n",
              "<p>891 rows × 10 columns</p>\n",
              "</div>"
            ],
            "text/plain": [
              "             Pclass  ... Embarked\n",
              "PassengerId          ...         \n",
              "1                 3  ...        S\n",
              "2                 1  ...        C\n",
              "3                 3  ...        S\n",
              "4                 1  ...        S\n",
              "5                 3  ...        S\n",
              "...             ...  ...      ...\n",
              "887               2  ...        S\n",
              "888               1  ...        S\n",
              "889               3  ...        S\n",
              "890               1  ...        C\n",
              "891               3  ...        Q\n",
              "\n",
              "[891 rows x 10 columns]"
            ]
          },
          "metadata": {
            "tags": []
          },
          "execution_count": 113
        }
      ]
    },
    {
      "cell_type": "code",
      "metadata": {
        "id": "kY8BacnEXd6w"
      },
      "source": [
        "clfs = [svm_clf, rf_clf, ada_clf, bag_clf]"
      ],
      "execution_count": null,
      "outputs": []
    },
    {
      "cell_type": "code",
      "metadata": {
        "id": "8xWhL1oLXdvA"
      },
      "source": [
        "from sklearn.ensemble import VotingClassifier"
      ],
      "execution_count": null,
      "outputs": []
    },
    {
      "cell_type": "code",
      "metadata": {
        "colab": {
          "base_uri": "https://localhost:8080/",
          "height": 446
        },
        "id": "nEx_j-rnSLkc",
        "outputId": "3d9cec40-c45f-4d85-ea9d-d83b728bd39e"
      },
      "source": [
        "X"
      ],
      "execution_count": null,
      "outputs": [
        {
          "output_type": "execute_result",
          "data": {
            "text/html": [
              "<div>\n",
              "<style scoped>\n",
              "    .dataframe tbody tr th:only-of-type {\n",
              "        vertical-align: middle;\n",
              "    }\n",
              "\n",
              "    .dataframe tbody tr th {\n",
              "        vertical-align: top;\n",
              "    }\n",
              "\n",
              "    .dataframe thead th {\n",
              "        text-align: right;\n",
              "    }\n",
              "</style>\n",
              "<table border=\"1\" class=\"dataframe\">\n",
              "  <thead>\n",
              "    <tr style=\"text-align: right;\">\n",
              "      <th></th>\n",
              "      <th>Pclass</th>\n",
              "      <th>Name</th>\n",
              "      <th>Sex</th>\n",
              "      <th>Age</th>\n",
              "      <th>SibSp</th>\n",
              "      <th>Parch</th>\n",
              "      <th>Ticket</th>\n",
              "      <th>Fare</th>\n",
              "      <th>Cabin</th>\n",
              "      <th>Embarked</th>\n",
              "    </tr>\n",
              "    <tr>\n",
              "      <th>PassengerId</th>\n",
              "      <th></th>\n",
              "      <th></th>\n",
              "      <th></th>\n",
              "      <th></th>\n",
              "      <th></th>\n",
              "      <th></th>\n",
              "      <th></th>\n",
              "      <th></th>\n",
              "      <th></th>\n",
              "      <th></th>\n",
              "    </tr>\n",
              "  </thead>\n",
              "  <tbody>\n",
              "    <tr>\n",
              "      <th>1</th>\n",
              "      <td>3</td>\n",
              "      <td>Braund, Mr. Owen Harris</td>\n",
              "      <td>male</td>\n",
              "      <td>22.0</td>\n",
              "      <td>1</td>\n",
              "      <td>0</td>\n",
              "      <td>A/5 21171</td>\n",
              "      <td>7.2500</td>\n",
              "      <td>NaN</td>\n",
              "      <td>S</td>\n",
              "    </tr>\n",
              "    <tr>\n",
              "      <th>2</th>\n",
              "      <td>1</td>\n",
              "      <td>Cumings, Mrs. John Bradley (Florence Briggs Th...</td>\n",
              "      <td>female</td>\n",
              "      <td>38.0</td>\n",
              "      <td>1</td>\n",
              "      <td>0</td>\n",
              "      <td>PC 17599</td>\n",
              "      <td>71.2833</td>\n",
              "      <td>C85</td>\n",
              "      <td>C</td>\n",
              "    </tr>\n",
              "    <tr>\n",
              "      <th>3</th>\n",
              "      <td>3</td>\n",
              "      <td>Heikkinen, Miss. Laina</td>\n",
              "      <td>female</td>\n",
              "      <td>26.0</td>\n",
              "      <td>0</td>\n",
              "      <td>0</td>\n",
              "      <td>STON/O2. 3101282</td>\n",
              "      <td>7.9250</td>\n",
              "      <td>NaN</td>\n",
              "      <td>S</td>\n",
              "    </tr>\n",
              "    <tr>\n",
              "      <th>4</th>\n",
              "      <td>1</td>\n",
              "      <td>Futrelle, Mrs. Jacques Heath (Lily May Peel)</td>\n",
              "      <td>female</td>\n",
              "      <td>35.0</td>\n",
              "      <td>1</td>\n",
              "      <td>0</td>\n",
              "      <td>113803</td>\n",
              "      <td>53.1000</td>\n",
              "      <td>C123</td>\n",
              "      <td>S</td>\n",
              "    </tr>\n",
              "    <tr>\n",
              "      <th>5</th>\n",
              "      <td>3</td>\n",
              "      <td>Allen, Mr. William Henry</td>\n",
              "      <td>male</td>\n",
              "      <td>35.0</td>\n",
              "      <td>0</td>\n",
              "      <td>0</td>\n",
              "      <td>373450</td>\n",
              "      <td>8.0500</td>\n",
              "      <td>NaN</td>\n",
              "      <td>S</td>\n",
              "    </tr>\n",
              "    <tr>\n",
              "      <th>...</th>\n",
              "      <td>...</td>\n",
              "      <td>...</td>\n",
              "      <td>...</td>\n",
              "      <td>...</td>\n",
              "      <td>...</td>\n",
              "      <td>...</td>\n",
              "      <td>...</td>\n",
              "      <td>...</td>\n",
              "      <td>...</td>\n",
              "      <td>...</td>\n",
              "    </tr>\n",
              "    <tr>\n",
              "      <th>887</th>\n",
              "      <td>2</td>\n",
              "      <td>Montvila, Rev. Juozas</td>\n",
              "      <td>male</td>\n",
              "      <td>27.0</td>\n",
              "      <td>0</td>\n",
              "      <td>0</td>\n",
              "      <td>211536</td>\n",
              "      <td>13.0000</td>\n",
              "      <td>NaN</td>\n",
              "      <td>S</td>\n",
              "    </tr>\n",
              "    <tr>\n",
              "      <th>888</th>\n",
              "      <td>1</td>\n",
              "      <td>Graham, Miss. Margaret Edith</td>\n",
              "      <td>female</td>\n",
              "      <td>19.0</td>\n",
              "      <td>0</td>\n",
              "      <td>0</td>\n",
              "      <td>112053</td>\n",
              "      <td>30.0000</td>\n",
              "      <td>B42</td>\n",
              "      <td>S</td>\n",
              "    </tr>\n",
              "    <tr>\n",
              "      <th>889</th>\n",
              "      <td>3</td>\n",
              "      <td>Johnston, Miss. Catherine Helen \"Carrie\"</td>\n",
              "      <td>female</td>\n",
              "      <td>NaN</td>\n",
              "      <td>1</td>\n",
              "      <td>2</td>\n",
              "      <td>W./C. 6607</td>\n",
              "      <td>23.4500</td>\n",
              "      <td>NaN</td>\n",
              "      <td>S</td>\n",
              "    </tr>\n",
              "    <tr>\n",
              "      <th>890</th>\n",
              "      <td>1</td>\n",
              "      <td>Behr, Mr. Karl Howell</td>\n",
              "      <td>male</td>\n",
              "      <td>26.0</td>\n",
              "      <td>0</td>\n",
              "      <td>0</td>\n",
              "      <td>111369</td>\n",
              "      <td>30.0000</td>\n",
              "      <td>C148</td>\n",
              "      <td>C</td>\n",
              "    </tr>\n",
              "    <tr>\n",
              "      <th>891</th>\n",
              "      <td>3</td>\n",
              "      <td>Dooley, Mr. Patrick</td>\n",
              "      <td>male</td>\n",
              "      <td>32.0</td>\n",
              "      <td>0</td>\n",
              "      <td>0</td>\n",
              "      <td>370376</td>\n",
              "      <td>7.7500</td>\n",
              "      <td>NaN</td>\n",
              "      <td>Q</td>\n",
              "    </tr>\n",
              "  </tbody>\n",
              "</table>\n",
              "<p>891 rows × 10 columns</p>\n",
              "</div>"
            ],
            "text/plain": [
              "             Pclass  ... Embarked\n",
              "PassengerId          ...         \n",
              "1                 3  ...        S\n",
              "2                 1  ...        C\n",
              "3                 3  ...        S\n",
              "4                 1  ...        S\n",
              "5                 3  ...        S\n",
              "...             ...  ...      ...\n",
              "887               2  ...        S\n",
              "888               1  ...        S\n",
              "889               3  ...        S\n",
              "890               1  ...        C\n",
              "891               3  ...        Q\n",
              "\n",
              "[891 rows x 10 columns]"
            ]
          },
          "metadata": {
            "tags": []
          },
          "execution_count": 177
        }
      ]
    },
    {
      "cell_type": "code",
      "metadata": {
        "colab": {
          "base_uri": "https://localhost:8080/"
        },
        "id": "LGDDajdQR8_M",
        "outputId": "855ff9d4-f1c8-4b1e-d60a-46491e3e4c5c"
      },
      "source": [
        "X_preprocesed[0]"
      ],
      "execution_count": null,
      "outputs": [
        {
          "output_type": "execute_result",
          "data": {
            "text/plain": [
              "array([-0.56573646, -0.50244517,  0.43279337, -0.47367361,  0.        ,\n",
              "        1.        ,  0.        ,  0.        ,  1.        ,  0.        ,\n",
              "        0.        ,  1.        ])"
            ]
          },
          "metadata": {
            "tags": []
          },
          "execution_count": 176
        }
      ]
    },
    {
      "cell_type": "code",
      "metadata": {
        "colab": {
          "base_uri": "https://localhost:8080/"
        },
        "id": "LYTi1pU4SPcw",
        "outputId": "4e5021c1-8069-4711-d467-06b80be20801"
      },
      "source": [
        "cat_cols"
      ],
      "execution_count": null,
      "outputs": [
        {
          "output_type": "execute_result",
          "data": {
            "text/plain": [
              "['Sex', 'Embarked', 'Pclass']"
            ]
          },
          "metadata": {
            "tags": []
          },
          "execution_count": 178
        }
      ]
    },
    {
      "cell_type": "code",
      "metadata": {
        "id": "iPVaHSnpXdi2"
      },
      "source": [
        "vot_clf = VotingClassifier(estimators=[(\"SVM\", svm_clf),\n",
        "                            (\"rf\", rf_clf),\n",
        "                            ('cat', cat_clf), (\"ada\", ada_clf), (\"bag\", bag_clf), (\"by_sex\", StratRandomClassifier(n=5))], voting=\"hard\")"
      ],
      "execution_count": null,
      "outputs": []
    },
    {
      "cell_type": "code",
      "metadata": {
        "colab": {
          "base_uri": "https://localhost:8080/",
          "height": 311
        },
        "id": "m6VbuLb1Yk0J",
        "outputId": "b5e25f91-5cac-419c-96ff-1da8005536d1"
      },
      "source": [
        "vot_clf.fit(X_preprocesed, y)"
      ],
      "execution_count": null,
      "outputs": [
        {
          "output_type": "error",
          "ename": "AttributeError",
          "evalue": "ignored",
          "traceback": [
            "\u001b[0;31m---------------------------------------------------------------------------\u001b[0m",
            "\u001b[0;31mAttributeError\u001b[0m                            Traceback (most recent call last)",
            "\u001b[0;32m<ipython-input-189-768129cb0482>\u001b[0m in \u001b[0;36m<module>\u001b[0;34m()\u001b[0m\n\u001b[0;32m----> 1\u001b[0;31m \u001b[0mvot_clf\u001b[0m\u001b[0;34m.\u001b[0m\u001b[0mfit\u001b[0m\u001b[0;34m(\u001b[0m\u001b[0mX_preprocesed\u001b[0m\u001b[0;34m,\u001b[0m \u001b[0my\u001b[0m\u001b[0;34m)\u001b[0m\u001b[0;34m\u001b[0m\u001b[0;34m\u001b[0m\u001b[0m\n\u001b[0m",
            "\u001b[0;32m/usr/local/lib/python3.7/dist-packages/sklearn/ensemble/_voting.py\u001b[0m in \u001b[0;36mfit\u001b[0;34m(self, X, y, sample_weight)\u001b[0m\n\u001b[1;32m    220\u001b[0m         \u001b[0mtransformed_y\u001b[0m \u001b[0;34m=\u001b[0m \u001b[0mself\u001b[0m\u001b[0;34m.\u001b[0m\u001b[0mle_\u001b[0m\u001b[0;34m.\u001b[0m\u001b[0mtransform\u001b[0m\u001b[0;34m(\u001b[0m\u001b[0my\u001b[0m\u001b[0;34m)\u001b[0m\u001b[0;34m\u001b[0m\u001b[0;34m\u001b[0m\u001b[0m\n\u001b[1;32m    221\u001b[0m \u001b[0;34m\u001b[0m\u001b[0m\n\u001b[0;32m--> 222\u001b[0;31m         \u001b[0;32mreturn\u001b[0m \u001b[0msuper\u001b[0m\u001b[0;34m(\u001b[0m\u001b[0;34m)\u001b[0m\u001b[0;34m.\u001b[0m\u001b[0mfit\u001b[0m\u001b[0;34m(\u001b[0m\u001b[0mX\u001b[0m\u001b[0;34m,\u001b[0m \u001b[0mtransformed_y\u001b[0m\u001b[0;34m,\u001b[0m \u001b[0msample_weight\u001b[0m\u001b[0;34m)\u001b[0m\u001b[0;34m\u001b[0m\u001b[0;34m\u001b[0m\u001b[0m\n\u001b[0m\u001b[1;32m    223\u001b[0m \u001b[0;34m\u001b[0m\u001b[0m\n\u001b[1;32m    224\u001b[0m     \u001b[0;32mdef\u001b[0m \u001b[0mpredict\u001b[0m\u001b[0;34m(\u001b[0m\u001b[0mself\u001b[0m\u001b[0;34m,\u001b[0m \u001b[0mX\u001b[0m\u001b[0;34m)\u001b[0m\u001b[0;34m:\u001b[0m\u001b[0;34m\u001b[0m\u001b[0;34m\u001b[0m\u001b[0m\n",
            "\u001b[0;32m/usr/local/lib/python3.7/dist-packages/sklearn/ensemble/_voting.py\u001b[0m in \u001b[0;36mfit\u001b[0;34m(self, X, y, sample_weight)\u001b[0m\n\u001b[1;32m     66\u001b[0m                 delayed(_parallel_fit_estimator)(clone(clf), X, y,\n\u001b[1;32m     67\u001b[0m                                                  sample_weight=sample_weight)\n\u001b[0;32m---> 68\u001b[0;31m                 \u001b[0;32mfor\u001b[0m \u001b[0mclf\u001b[0m \u001b[0;32min\u001b[0m \u001b[0mclfs\u001b[0m \u001b[0;32mif\u001b[0m \u001b[0mclf\u001b[0m \u001b[0;32mnot\u001b[0m \u001b[0;32min\u001b[0m \u001b[0;34m(\u001b[0m\u001b[0;32mNone\u001b[0m\u001b[0;34m,\u001b[0m \u001b[0;34m'drop'\u001b[0m\u001b[0;34m)\u001b[0m\u001b[0;34m\u001b[0m\u001b[0;34m\u001b[0m\u001b[0m\n\u001b[0m\u001b[1;32m     69\u001b[0m             )\n\u001b[1;32m     70\u001b[0m \u001b[0;34m\u001b[0m\u001b[0m\n",
            "\u001b[0;32m/usr/local/lib/python3.7/dist-packages/joblib/parallel.py\u001b[0m in \u001b[0;36m__call__\u001b[0;34m(self, iterable)\u001b[0m\n\u001b[1;32m   1042\u001b[0m                 \u001b[0mself\u001b[0m\u001b[0;34m.\u001b[0m\u001b[0m_iterating\u001b[0m \u001b[0;34m=\u001b[0m \u001b[0mself\u001b[0m\u001b[0;34m.\u001b[0m\u001b[0m_original_iterator\u001b[0m \u001b[0;32mis\u001b[0m \u001b[0;32mnot\u001b[0m \u001b[0;32mNone\u001b[0m\u001b[0;34m\u001b[0m\u001b[0;34m\u001b[0m\u001b[0m\n\u001b[1;32m   1043\u001b[0m \u001b[0;34m\u001b[0m\u001b[0m\n\u001b[0;32m-> 1044\u001b[0;31m             \u001b[0;32mwhile\u001b[0m \u001b[0mself\u001b[0m\u001b[0;34m.\u001b[0m\u001b[0mdispatch_one_batch\u001b[0m\u001b[0;34m(\u001b[0m\u001b[0miterator\u001b[0m\u001b[0;34m)\u001b[0m\u001b[0;34m:\u001b[0m\u001b[0;34m\u001b[0m\u001b[0;34m\u001b[0m\u001b[0m\n\u001b[0m\u001b[1;32m   1045\u001b[0m                 \u001b[0;32mpass\u001b[0m\u001b[0;34m\u001b[0m\u001b[0;34m\u001b[0m\u001b[0m\n\u001b[1;32m   1046\u001b[0m \u001b[0;34m\u001b[0m\u001b[0m\n",
            "\u001b[0;32m/usr/local/lib/python3.7/dist-packages/joblib/parallel.py\u001b[0m in \u001b[0;36mdispatch_one_batch\u001b[0;34m(self, iterator)\u001b[0m\n\u001b[1;32m    857\u001b[0m                 \u001b[0;32mreturn\u001b[0m \u001b[0;32mFalse\u001b[0m\u001b[0;34m\u001b[0m\u001b[0;34m\u001b[0m\u001b[0m\n\u001b[1;32m    858\u001b[0m             \u001b[0;32melse\u001b[0m\u001b[0;34m:\u001b[0m\u001b[0;34m\u001b[0m\u001b[0;34m\u001b[0m\u001b[0m\n\u001b[0;32m--> 859\u001b[0;31m                 \u001b[0mself\u001b[0m\u001b[0;34m.\u001b[0m\u001b[0m_dispatch\u001b[0m\u001b[0;34m(\u001b[0m\u001b[0mtasks\u001b[0m\u001b[0;34m)\u001b[0m\u001b[0;34m\u001b[0m\u001b[0;34m\u001b[0m\u001b[0m\n\u001b[0m\u001b[1;32m    860\u001b[0m                 \u001b[0;32mreturn\u001b[0m \u001b[0;32mTrue\u001b[0m\u001b[0;34m\u001b[0m\u001b[0;34m\u001b[0m\u001b[0m\n\u001b[1;32m    861\u001b[0m \u001b[0;34m\u001b[0m\u001b[0m\n",
            "\u001b[0;32m/usr/local/lib/python3.7/dist-packages/joblib/parallel.py\u001b[0m in \u001b[0;36m_dispatch\u001b[0;34m(self, batch)\u001b[0m\n\u001b[1;32m    775\u001b[0m         \u001b[0;32mwith\u001b[0m \u001b[0mself\u001b[0m\u001b[0;34m.\u001b[0m\u001b[0m_lock\u001b[0m\u001b[0;34m:\u001b[0m\u001b[0;34m\u001b[0m\u001b[0;34m\u001b[0m\u001b[0m\n\u001b[1;32m    776\u001b[0m             \u001b[0mjob_idx\u001b[0m \u001b[0;34m=\u001b[0m \u001b[0mlen\u001b[0m\u001b[0;34m(\u001b[0m\u001b[0mself\u001b[0m\u001b[0;34m.\u001b[0m\u001b[0m_jobs\u001b[0m\u001b[0;34m)\u001b[0m\u001b[0;34m\u001b[0m\u001b[0;34m\u001b[0m\u001b[0m\n\u001b[0;32m--> 777\u001b[0;31m             \u001b[0mjob\u001b[0m \u001b[0;34m=\u001b[0m \u001b[0mself\u001b[0m\u001b[0;34m.\u001b[0m\u001b[0m_backend\u001b[0m\u001b[0;34m.\u001b[0m\u001b[0mapply_async\u001b[0m\u001b[0;34m(\u001b[0m\u001b[0mbatch\u001b[0m\u001b[0;34m,\u001b[0m \u001b[0mcallback\u001b[0m\u001b[0;34m=\u001b[0m\u001b[0mcb\u001b[0m\u001b[0;34m)\u001b[0m\u001b[0;34m\u001b[0m\u001b[0;34m\u001b[0m\u001b[0m\n\u001b[0m\u001b[1;32m    778\u001b[0m             \u001b[0;31m# A job can complete so quickly than its callback is\u001b[0m\u001b[0;34m\u001b[0m\u001b[0;34m\u001b[0m\u001b[0;34m\u001b[0m\u001b[0m\n\u001b[1;32m    779\u001b[0m             \u001b[0;31m# called before we get here, causing self._jobs to\u001b[0m\u001b[0;34m\u001b[0m\u001b[0;34m\u001b[0m\u001b[0;34m\u001b[0m\u001b[0m\n",
            "\u001b[0;32m/usr/local/lib/python3.7/dist-packages/joblib/_parallel_backends.py\u001b[0m in \u001b[0;36mapply_async\u001b[0;34m(self, func, callback)\u001b[0m\n\u001b[1;32m    206\u001b[0m     \u001b[0;32mdef\u001b[0m \u001b[0mapply_async\u001b[0m\u001b[0;34m(\u001b[0m\u001b[0mself\u001b[0m\u001b[0;34m,\u001b[0m \u001b[0mfunc\u001b[0m\u001b[0;34m,\u001b[0m \u001b[0mcallback\u001b[0m\u001b[0;34m=\u001b[0m\u001b[0;32mNone\u001b[0m\u001b[0;34m)\u001b[0m\u001b[0;34m:\u001b[0m\u001b[0;34m\u001b[0m\u001b[0;34m\u001b[0m\u001b[0m\n\u001b[1;32m    207\u001b[0m         \u001b[0;34m\"\"\"Schedule a func to be run\"\"\"\u001b[0m\u001b[0;34m\u001b[0m\u001b[0;34m\u001b[0m\u001b[0m\n\u001b[0;32m--> 208\u001b[0;31m         \u001b[0mresult\u001b[0m \u001b[0;34m=\u001b[0m \u001b[0mImmediateResult\u001b[0m\u001b[0;34m(\u001b[0m\u001b[0mfunc\u001b[0m\u001b[0;34m)\u001b[0m\u001b[0;34m\u001b[0m\u001b[0;34m\u001b[0m\u001b[0m\n\u001b[0m\u001b[1;32m    209\u001b[0m         \u001b[0;32mif\u001b[0m \u001b[0mcallback\u001b[0m\u001b[0;34m:\u001b[0m\u001b[0;34m\u001b[0m\u001b[0;34m\u001b[0m\u001b[0m\n\u001b[1;32m    210\u001b[0m             \u001b[0mcallback\u001b[0m\u001b[0;34m(\u001b[0m\u001b[0mresult\u001b[0m\u001b[0;34m)\u001b[0m\u001b[0;34m\u001b[0m\u001b[0;34m\u001b[0m\u001b[0m\n",
            "\u001b[0;32m/usr/local/lib/python3.7/dist-packages/joblib/_parallel_backends.py\u001b[0m in \u001b[0;36m__init__\u001b[0;34m(self, batch)\u001b[0m\n\u001b[1;32m    570\u001b[0m         \u001b[0;31m# Don't delay the application, to avoid keeping the input\u001b[0m\u001b[0;34m\u001b[0m\u001b[0;34m\u001b[0m\u001b[0;34m\u001b[0m\u001b[0m\n\u001b[1;32m    571\u001b[0m         \u001b[0;31m# arguments in memory\u001b[0m\u001b[0;34m\u001b[0m\u001b[0;34m\u001b[0m\u001b[0;34m\u001b[0m\u001b[0m\n\u001b[0;32m--> 572\u001b[0;31m         \u001b[0mself\u001b[0m\u001b[0;34m.\u001b[0m\u001b[0mresults\u001b[0m \u001b[0;34m=\u001b[0m \u001b[0mbatch\u001b[0m\u001b[0;34m(\u001b[0m\u001b[0;34m)\u001b[0m\u001b[0;34m\u001b[0m\u001b[0;34m\u001b[0m\u001b[0m\n\u001b[0m\u001b[1;32m    573\u001b[0m \u001b[0;34m\u001b[0m\u001b[0m\n\u001b[1;32m    574\u001b[0m     \u001b[0;32mdef\u001b[0m \u001b[0mget\u001b[0m\u001b[0;34m(\u001b[0m\u001b[0mself\u001b[0m\u001b[0;34m)\u001b[0m\u001b[0;34m:\u001b[0m\u001b[0;34m\u001b[0m\u001b[0;34m\u001b[0m\u001b[0m\n",
            "\u001b[0;32m/usr/local/lib/python3.7/dist-packages/joblib/parallel.py\u001b[0m in \u001b[0;36m__call__\u001b[0;34m(self)\u001b[0m\n\u001b[1;32m    261\u001b[0m         \u001b[0;32mwith\u001b[0m \u001b[0mparallel_backend\u001b[0m\u001b[0;34m(\u001b[0m\u001b[0mself\u001b[0m\u001b[0;34m.\u001b[0m\u001b[0m_backend\u001b[0m\u001b[0;34m,\u001b[0m \u001b[0mn_jobs\u001b[0m\u001b[0;34m=\u001b[0m\u001b[0mself\u001b[0m\u001b[0;34m.\u001b[0m\u001b[0m_n_jobs\u001b[0m\u001b[0;34m)\u001b[0m\u001b[0;34m:\u001b[0m\u001b[0;34m\u001b[0m\u001b[0;34m\u001b[0m\u001b[0m\n\u001b[1;32m    262\u001b[0m             return [func(*args, **kwargs)\n\u001b[0;32m--> 263\u001b[0;31m                     for func, args, kwargs in self.items]\n\u001b[0m\u001b[1;32m    264\u001b[0m \u001b[0;34m\u001b[0m\u001b[0m\n\u001b[1;32m    265\u001b[0m     \u001b[0;32mdef\u001b[0m \u001b[0m__reduce__\u001b[0m\u001b[0;34m(\u001b[0m\u001b[0mself\u001b[0m\u001b[0;34m)\u001b[0m\u001b[0;34m:\u001b[0m\u001b[0;34m\u001b[0m\u001b[0;34m\u001b[0m\u001b[0m\n",
            "\u001b[0;32m/usr/local/lib/python3.7/dist-packages/joblib/parallel.py\u001b[0m in \u001b[0;36m<listcomp>\u001b[0;34m(.0)\u001b[0m\n\u001b[1;32m    261\u001b[0m         \u001b[0;32mwith\u001b[0m \u001b[0mparallel_backend\u001b[0m\u001b[0;34m(\u001b[0m\u001b[0mself\u001b[0m\u001b[0;34m.\u001b[0m\u001b[0m_backend\u001b[0m\u001b[0;34m,\u001b[0m \u001b[0mn_jobs\u001b[0m\u001b[0;34m=\u001b[0m\u001b[0mself\u001b[0m\u001b[0;34m.\u001b[0m\u001b[0m_n_jobs\u001b[0m\u001b[0;34m)\u001b[0m\u001b[0;34m:\u001b[0m\u001b[0;34m\u001b[0m\u001b[0;34m\u001b[0m\u001b[0m\n\u001b[1;32m    262\u001b[0m             return [func(*args, **kwargs)\n\u001b[0;32m--> 263\u001b[0;31m                     for func, args, kwargs in self.items]\n\u001b[0m\u001b[1;32m    264\u001b[0m \u001b[0;34m\u001b[0m\u001b[0m\n\u001b[1;32m    265\u001b[0m     \u001b[0;32mdef\u001b[0m \u001b[0m__reduce__\u001b[0m\u001b[0;34m(\u001b[0m\u001b[0mself\u001b[0m\u001b[0;34m)\u001b[0m\u001b[0;34m:\u001b[0m\u001b[0;34m\u001b[0m\u001b[0;34m\u001b[0m\u001b[0m\n",
            "\u001b[0;32m/usr/local/lib/python3.7/dist-packages/sklearn/ensemble/_base.py\u001b[0m in \u001b[0;36m_parallel_fit_estimator\u001b[0;34m(estimator, X, y, sample_weight)\u001b[0m\n\u001b[1;32m     34\u001b[0m             \u001b[0;32mraise\u001b[0m\u001b[0;34m\u001b[0m\u001b[0;34m\u001b[0m\u001b[0m\n\u001b[1;32m     35\u001b[0m     \u001b[0;32melse\u001b[0m\u001b[0;34m:\u001b[0m\u001b[0;34m\u001b[0m\u001b[0;34m\u001b[0m\u001b[0m\n\u001b[0;32m---> 36\u001b[0;31m         \u001b[0mestimator\u001b[0m\u001b[0;34m.\u001b[0m\u001b[0mfit\u001b[0m\u001b[0;34m(\u001b[0m\u001b[0mX\u001b[0m\u001b[0;34m,\u001b[0m \u001b[0my\u001b[0m\u001b[0;34m)\u001b[0m\u001b[0;34m\u001b[0m\u001b[0;34m\u001b[0m\u001b[0m\n\u001b[0m\u001b[1;32m     37\u001b[0m     \u001b[0;32mreturn\u001b[0m \u001b[0mestimator\u001b[0m\u001b[0;34m\u001b[0m\u001b[0;34m\u001b[0m\u001b[0m\n\u001b[1;32m     38\u001b[0m \u001b[0;34m\u001b[0m\u001b[0m\n",
            "\u001b[0;32m<ipython-input-186-8dfaa01a677b>\u001b[0m in \u001b[0;36mfit\u001b[0;34m(self, X, y)\u001b[0m\n\u001b[1;32m      5\u001b[0m \u001b[0;34m\u001b[0m\u001b[0m\n\u001b[1;32m      6\u001b[0m   \u001b[0;32mdef\u001b[0m \u001b[0mfit\u001b[0m\u001b[0;34m(\u001b[0m\u001b[0mself\u001b[0m\u001b[0;34m,\u001b[0m \u001b[0mX\u001b[0m\u001b[0;34m,\u001b[0m \u001b[0my\u001b[0m\u001b[0;34m)\u001b[0m\u001b[0;34m:\u001b[0m\u001b[0;34m\u001b[0m\u001b[0;34m\u001b[0m\u001b[0m\n\u001b[0;32m----> 7\u001b[0;31m     \u001b[0mself\u001b[0m\u001b[0;34m.\u001b[0m\u001b[0mproba_dict\u001b[0m \u001b[0;34m=\u001b[0m \u001b[0;34m(\u001b[0m\u001b[0mX\u001b[0m\u001b[0;34m[\u001b[0m\u001b[0my\u001b[0m\u001b[0;34m==\u001b[0m\u001b[0;36m1\u001b[0m\u001b[0;34m]\u001b[0m\u001b[0;34m[\u001b[0m\u001b[0mself\u001b[0m\u001b[0;34m.\u001b[0m\u001b[0mn\u001b[0m\u001b[0;34m]\u001b[0m\u001b[0;34m.\u001b[0m\u001b[0mvalue_counts\u001b[0m\u001b[0;34m(\u001b[0m\u001b[0;34m)\u001b[0m\u001b[0;34m/\u001b[0m\u001b[0mX\u001b[0m\u001b[0;34m[\u001b[0m\u001b[0mself\u001b[0m\u001b[0;34m.\u001b[0m\u001b[0mn\u001b[0m\u001b[0;34m]\u001b[0m\u001b[0;34m.\u001b[0m\u001b[0mvalue_counts\u001b[0m\u001b[0;34m(\u001b[0m\u001b[0;34m)\u001b[0m\u001b[0;34m)\u001b[0m\u001b[0;34m.\u001b[0m\u001b[0mto_dict\u001b[0m\u001b[0;34m(\u001b[0m\u001b[0;34m)\u001b[0m\u001b[0;34m\u001b[0m\u001b[0;34m\u001b[0m\u001b[0m\n\u001b[0m\u001b[1;32m      8\u001b[0m     \u001b[0;32mreturn\u001b[0m \u001b[0mself\u001b[0m\u001b[0;34m\u001b[0m\u001b[0;34m\u001b[0m\u001b[0m\n\u001b[1;32m      9\u001b[0m \u001b[0;34m\u001b[0m\u001b[0m\n",
            "\u001b[0;31mAttributeError\u001b[0m: 'numpy.ndarray' object has no attribute 'value_counts'"
          ]
        }
      ]
    },
    {
      "cell_type": "code",
      "metadata": {
        "colab": {
          "base_uri": "https://localhost:8080/"
        },
        "id": "yA4foeK_nBmE",
        "outputId": "3b26af8e-59b6-4cc5-cb95-5900a8805b5a"
      },
      "source": [
        "cross_val_score(vot_clf, X_preprocesed, y, scoring=\"accuracy\", cv=5)"
      ],
      "execution_count": null,
      "outputs": [
        {
          "output_type": "execute_result",
          "data": {
            "text/plain": [
              "array([0.83240223, 0.8258427 , 0.83707865, 0.80898876, 0.85393258])"
            ]
          },
          "metadata": {
            "tags": []
          },
          "execution_count": 50
        }
      ]
    },
    {
      "cell_type": "code",
      "metadata": {
        "colab": {
          "base_uri": "https://localhost:8080/",
          "height": 446
        },
        "id": "4uYCaZqGckqf",
        "outputId": "87859661-303c-414c-a4f1-deb2886c7c1a"
      },
      "source": [
        "data_test"
      ],
      "execution_count": null,
      "outputs": [
        {
          "output_type": "execute_result",
          "data": {
            "text/html": [
              "<div>\n",
              "<style scoped>\n",
              "    .dataframe tbody tr th:only-of-type {\n",
              "        vertical-align: middle;\n",
              "    }\n",
              "\n",
              "    .dataframe tbody tr th {\n",
              "        vertical-align: top;\n",
              "    }\n",
              "\n",
              "    .dataframe thead th {\n",
              "        text-align: right;\n",
              "    }\n",
              "</style>\n",
              "<table border=\"1\" class=\"dataframe\">\n",
              "  <thead>\n",
              "    <tr style=\"text-align: right;\">\n",
              "      <th></th>\n",
              "      <th>Pclass</th>\n",
              "      <th>Name</th>\n",
              "      <th>Sex</th>\n",
              "      <th>Age</th>\n",
              "      <th>SibSp</th>\n",
              "      <th>Parch</th>\n",
              "      <th>Ticket</th>\n",
              "      <th>Fare</th>\n",
              "      <th>Cabin</th>\n",
              "      <th>Embarked</th>\n",
              "    </tr>\n",
              "    <tr>\n",
              "      <th>PassengerId</th>\n",
              "      <th></th>\n",
              "      <th></th>\n",
              "      <th></th>\n",
              "      <th></th>\n",
              "      <th></th>\n",
              "      <th></th>\n",
              "      <th></th>\n",
              "      <th></th>\n",
              "      <th></th>\n",
              "      <th></th>\n",
              "    </tr>\n",
              "  </thead>\n",
              "  <tbody>\n",
              "    <tr>\n",
              "      <th>892</th>\n",
              "      <td>3</td>\n",
              "      <td>Kelly, Mr. James</td>\n",
              "      <td>male</td>\n",
              "      <td>34.5</td>\n",
              "      <td>0</td>\n",
              "      <td>0</td>\n",
              "      <td>330911</td>\n",
              "      <td>7.8292</td>\n",
              "      <td>NaN</td>\n",
              "      <td>Q</td>\n",
              "    </tr>\n",
              "    <tr>\n",
              "      <th>893</th>\n",
              "      <td>3</td>\n",
              "      <td>Wilkes, Mrs. James (Ellen Needs)</td>\n",
              "      <td>female</td>\n",
              "      <td>47.0</td>\n",
              "      <td>1</td>\n",
              "      <td>0</td>\n",
              "      <td>363272</td>\n",
              "      <td>7.0000</td>\n",
              "      <td>NaN</td>\n",
              "      <td>S</td>\n",
              "    </tr>\n",
              "    <tr>\n",
              "      <th>894</th>\n",
              "      <td>2</td>\n",
              "      <td>Myles, Mr. Thomas Francis</td>\n",
              "      <td>male</td>\n",
              "      <td>62.0</td>\n",
              "      <td>0</td>\n",
              "      <td>0</td>\n",
              "      <td>240276</td>\n",
              "      <td>9.6875</td>\n",
              "      <td>NaN</td>\n",
              "      <td>Q</td>\n",
              "    </tr>\n",
              "    <tr>\n",
              "      <th>895</th>\n",
              "      <td>3</td>\n",
              "      <td>Wirz, Mr. Albert</td>\n",
              "      <td>male</td>\n",
              "      <td>27.0</td>\n",
              "      <td>0</td>\n",
              "      <td>0</td>\n",
              "      <td>315154</td>\n",
              "      <td>8.6625</td>\n",
              "      <td>NaN</td>\n",
              "      <td>S</td>\n",
              "    </tr>\n",
              "    <tr>\n",
              "      <th>896</th>\n",
              "      <td>3</td>\n",
              "      <td>Hirvonen, Mrs. Alexander (Helga E Lindqvist)</td>\n",
              "      <td>female</td>\n",
              "      <td>22.0</td>\n",
              "      <td>1</td>\n",
              "      <td>1</td>\n",
              "      <td>3101298</td>\n",
              "      <td>12.2875</td>\n",
              "      <td>NaN</td>\n",
              "      <td>S</td>\n",
              "    </tr>\n",
              "    <tr>\n",
              "      <th>...</th>\n",
              "      <td>...</td>\n",
              "      <td>...</td>\n",
              "      <td>...</td>\n",
              "      <td>...</td>\n",
              "      <td>...</td>\n",
              "      <td>...</td>\n",
              "      <td>...</td>\n",
              "      <td>...</td>\n",
              "      <td>...</td>\n",
              "      <td>...</td>\n",
              "    </tr>\n",
              "    <tr>\n",
              "      <th>1305</th>\n",
              "      <td>3</td>\n",
              "      <td>Spector, Mr. Woolf</td>\n",
              "      <td>male</td>\n",
              "      <td>NaN</td>\n",
              "      <td>0</td>\n",
              "      <td>0</td>\n",
              "      <td>A.5. 3236</td>\n",
              "      <td>8.0500</td>\n",
              "      <td>NaN</td>\n",
              "      <td>S</td>\n",
              "    </tr>\n",
              "    <tr>\n",
              "      <th>1306</th>\n",
              "      <td>1</td>\n",
              "      <td>Oliva y Ocana, Dona. Fermina</td>\n",
              "      <td>female</td>\n",
              "      <td>39.0</td>\n",
              "      <td>0</td>\n",
              "      <td>0</td>\n",
              "      <td>PC 17758</td>\n",
              "      <td>108.9000</td>\n",
              "      <td>C105</td>\n",
              "      <td>C</td>\n",
              "    </tr>\n",
              "    <tr>\n",
              "      <th>1307</th>\n",
              "      <td>3</td>\n",
              "      <td>Saether, Mr. Simon Sivertsen</td>\n",
              "      <td>male</td>\n",
              "      <td>38.5</td>\n",
              "      <td>0</td>\n",
              "      <td>0</td>\n",
              "      <td>SOTON/O.Q. 3101262</td>\n",
              "      <td>7.2500</td>\n",
              "      <td>NaN</td>\n",
              "      <td>S</td>\n",
              "    </tr>\n",
              "    <tr>\n",
              "      <th>1308</th>\n",
              "      <td>3</td>\n",
              "      <td>Ware, Mr. Frederick</td>\n",
              "      <td>male</td>\n",
              "      <td>NaN</td>\n",
              "      <td>0</td>\n",
              "      <td>0</td>\n",
              "      <td>359309</td>\n",
              "      <td>8.0500</td>\n",
              "      <td>NaN</td>\n",
              "      <td>S</td>\n",
              "    </tr>\n",
              "    <tr>\n",
              "      <th>1309</th>\n",
              "      <td>3</td>\n",
              "      <td>Peter, Master. Michael J</td>\n",
              "      <td>male</td>\n",
              "      <td>NaN</td>\n",
              "      <td>1</td>\n",
              "      <td>1</td>\n",
              "      <td>2668</td>\n",
              "      <td>22.3583</td>\n",
              "      <td>NaN</td>\n",
              "      <td>C</td>\n",
              "    </tr>\n",
              "  </tbody>\n",
              "</table>\n",
              "<p>418 rows × 10 columns</p>\n",
              "</div>"
            ],
            "text/plain": [
              "             Pclass  ... Embarked\n",
              "PassengerId          ...         \n",
              "892               3  ...        Q\n",
              "893               3  ...        S\n",
              "894               2  ...        Q\n",
              "895               3  ...        S\n",
              "896               3  ...        S\n",
              "...             ...  ...      ...\n",
              "1305              3  ...        S\n",
              "1306              1  ...        C\n",
              "1307              3  ...        S\n",
              "1308              3  ...        S\n",
              "1309              3  ...        C\n",
              "\n",
              "[418 rows x 10 columns]"
            ]
          },
          "metadata": {
            "tags": []
          },
          "execution_count": 145
        }
      ]
    },
    {
      "cell_type": "code",
      "metadata": {
        "id": "YYv-iChxcxYV"
      },
      "source": [
        "X_test = full_pipeline.transform(data_test)"
      ],
      "execution_count": null,
      "outputs": []
    },
    {
      "cell_type": "code",
      "metadata": {
        "id": "7Lycr4tTYvI3"
      },
      "source": [
        "y_pred = vot_clf.predict(X_test)"
      ],
      "execution_count": null,
      "outputs": []
    },
    {
      "cell_type": "code",
      "metadata": {
        "id": "g1tF8mY-OzVl"
      },
      "source": [
        "y_pred = by_sex_clf.predict(data_test)"
      ],
      "execution_count": null,
      "outputs": []
    },
    {
      "cell_type": "code",
      "metadata": {
        "colab": {
          "base_uri": "https://localhost:8080/"
        },
        "id": "0iUWlEt4I1BC",
        "outputId": "c0373a27-8914-4302-c2b2-33b757d482cb"
      },
      "source": [
        "y_pred"
      ],
      "execution_count": null,
      "outputs": [
        {
          "output_type": "execute_result",
          "data": {
            "text/plain": [
              "array([0, 1, 1, 0, 1, 0, 1, 0, 0, 0, 0, 0, 1, 0, 0, 1, 0, 1, 1, 1, 0, 0,\n",
              "       1, 0, 1, 0, 1, 0, 0, 0, 0, 0, 0, 1, 0, 0, 1, 1, 0, 0, 0, 1, 1, 0,\n",
              "       1, 0, 0, 1, 1, 1, 0, 0, 0, 0, 0, 0, 0, 0, 0, 0, 1, 0, 1, 1, 0, 1,\n",
              "       1, 1, 1, 1, 1, 0, 1, 0, 0, 0, 1, 0, 1, 1, 1, 0, 1, 0, 0, 0, 1, 1,\n",
              "       1, 0, 1, 0, 1, 0, 1, 0, 1, 0, 0, 0, 1, 0, 0, 0, 1, 0, 0, 0, 0, 0,\n",
              "       0, 1, 1, 1, 0, 0, 0, 1, 0, 1, 0, 0, 0, 0, 0, 1, 0, 1, 0, 1, 0, 0,\n",
              "       1, 0, 0, 0, 0, 1, 1, 1, 0, 1, 0, 0, 0, 1, 0, 0, 0, 0, 1, 0, 0, 1,\n",
              "       0, 1, 0, 0, 0, 0, 1, 0, 1, 1, 0, 1, 0, 0, 1, 1, 0, 0, 0, 0, 0, 1,\n",
              "       1, 0, 1, 0, 1, 0, 0, 0, 1, 0, 1, 0, 1, 1, 0, 0, 0, 0, 1, 0, 0, 1,\n",
              "       1, 0, 0, 0, 0, 1, 0, 0, 1, 0, 0, 0, 0, 0, 0, 1, 1, 0, 1, 0, 1, 0,\n",
              "       1, 1, 1, 0, 0, 0, 0, 1, 0, 0, 0, 0, 0, 0, 0, 1, 0, 0, 0, 0, 1, 0,\n",
              "       0, 1, 0, 0, 1, 1, 1, 1, 1, 0, 1, 0, 0, 0, 1, 0, 1, 0, 1, 0, 1, 1,\n",
              "       0, 1, 0, 0, 1, 0, 0, 0, 1, 1, 0, 0, 0, 0, 0, 0, 1, 0, 0, 1, 0, 0,\n",
              "       1, 1, 1, 1, 1, 1, 0, 0, 0, 0, 1, 0, 0, 0, 1, 1, 0, 1, 1, 1, 0, 0,\n",
              "       0, 1, 0, 0, 0, 1, 1, 1, 0, 0, 0, 0, 0, 0, 0, 0, 1, 0, 0, 0, 0, 0,\n",
              "       1, 0, 0, 1, 0, 0, 0, 0, 1, 0, 0, 0, 0, 1, 1, 0, 0, 1, 0, 0, 1, 0,\n",
              "       0, 0, 1, 0, 0, 0, 0, 0, 0, 1, 0, 0, 1, 1, 0, 1, 1, 0, 0, 0, 0, 0,\n",
              "       1, 1, 1, 0, 1, 1, 0, 0, 0, 1, 0, 1, 0, 0, 1, 0, 0, 1, 0, 0, 0, 1,\n",
              "       0, 1, 1, 0, 0, 1, 0, 0, 0, 0, 0, 0, 1, 0, 0, 1, 1, 0, 0, 0, 0, 0])"
            ]
          },
          "metadata": {
            "tags": []
          },
          "execution_count": 142
        }
      ]
    },
    {
      "cell_type": "code",
      "metadata": {
        "id": "E0oRVrSzdVQz"
      },
      "source": [
        "ans = pd.DataFrame({\"PassengerId\": [i for i in range(892, 1310)],\"Survived\": y_pred})"
      ],
      "execution_count": null,
      "outputs": []
    },
    {
      "cell_type": "code",
      "metadata": {
        "id": "pZjBD9l3ebtN"
      },
      "source": [
        "ans.to_csv(\"submission_my_clf.csv\", index=False)"
      ],
      "execution_count": null,
      "outputs": []
    },
    {
      "cell_type": "code",
      "metadata": {
        "colab": {
          "base_uri": "https://localhost:8080/"
        },
        "id": "JENaRNFwe6n7",
        "outputId": "5aa367c1-b0ff-4cbc-bcfc-808ee3af6591"
      },
      "source": [
        "!kaggle competitions submit -c titanic -f submission_my_clf.csv -m \"Message\""
      ],
      "execution_count": null,
      "outputs": [
        {
          "output_type": "stream",
          "text": [
            "Warning: Looks like you're using an outdated API Version, please consider updating (server 1.5.12 / client 1.5.4)\n",
            "100% 2.77k/2.77k [00:08<00:00, 317B/s]\n",
            "Successfully submitted to Titanic - Machine Learning from Disaster"
          ],
          "name": "stdout"
        }
      ]
    },
    {
      "cell_type": "code",
      "metadata": {
        "id": "dRSGySLZf2ee"
      },
      "source": [
        "dd = np.array([1,2,3])"
      ],
      "execution_count": null,
      "outputs": []
    },
    {
      "cell_type": "code",
      "metadata": {
        "id": "5C0-sLC2XFYq"
      },
      "source": [
        "dd."
      ],
      "execution_count": null,
      "outputs": []
    }
  ]
}